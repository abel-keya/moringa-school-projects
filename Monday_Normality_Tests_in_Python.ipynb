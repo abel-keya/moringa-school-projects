{
  "nbformat": 4,
  "nbformat_minor": 0,
  "metadata": {
    "colab": {
      "name": " Monday: Normality Tests in Python",
      "provenance": [],
      "collapsed_sections": [],
      "toc_visible": true,
      "include_colab_link": true
    },
    "kernelspec": {
      "name": "python3",
      "display_name": "Python 3"
    }
  },
  "cells": [
    {
      "cell_type": "markdown",
      "metadata": {
        "id": "view-in-github",
        "colab_type": "text"
      },
      "source": [
        "<a href=\"https://colab.research.google.com/github/abel-keya/moringa-school-projects/blob/master/Monday_Normality_Tests_in_Python.ipynb\" target=\"_parent\"><img src=\"https://colab.research.google.com/assets/colab-badge.svg\" alt=\"Open In Colab\"/></a>"
      ]
    },
    {
      "cell_type": "markdown",
      "metadata": {
        "id": "Nipq9BTtJozR",
        "colab_type": "text"
      },
      "source": [
        "<font color=\"green\">*To start working on this notebook, or any other notebook that we will use in the Moringa Data Science Course, we will need to save our own copy of it. We can do this by clicking File > Save a Copy in Drive. We will then be able to make edits to our own copy of this notebook.*</font>"
      ]
    },
    {
      "cell_type": "markdown",
      "metadata": {
        "id": "KoNHMHC9GK3b",
        "colab_type": "text"
      },
      "source": [
        "# Monday: Normality Tests with Python"
      ]
    },
    {
      "cell_type": "markdown",
      "metadata": {
        "id": "ghkmT_RKGOnf",
        "colab_type": "text"
      },
      "source": [
        "When we work with a dataset as a data scientist, it can be very helpful to test the data for normality. The normality tests are statistical processes used to determine if a sample or any group of data fits a standard normal distribution. Normality tests are used to influence the decision when working with a sample of data on whether to use specific kinds of statistical methods during analysis i.e. parametric or nonparametric methods.\n",
        "\n"
      ]
    },
    {
      "cell_type": "markdown",
      "metadata": {
        "id": "e1f8QJ4ARaD8",
        "colab_type": "text"
      },
      "source": [
        "## Importing our Libraries"
      ]
    },
    {
      "cell_type": "code",
      "metadata": {
        "id": "QOluu3PVRdYZ",
        "colab_type": "code",
        "colab": {}
      },
      "source": [
        "# Importing matplotlib\n",
        "from matplotlib import pyplot\n",
        "\n",
        "# Importing functions from numpy\n",
        "from numpy.random import seed\n",
        "from numpy.random import randn"
      ],
      "execution_count": 0,
      "outputs": []
    },
    {
      "cell_type": "markdown",
      "metadata": {
        "id": "3JS_Y2SCHA8-",
        "colab_type": "text"
      },
      "source": [
        "## 1.0 Histogram Plot\n"
      ]
    },
    {
      "cell_type": "code",
      "metadata": {
        "id": "xo7KQIWwGJQl",
        "colab_type": "code",
        "colab": {}
      },
      "source": [
        "# Example 1\n",
        "# ---\n",
        "# A histogram can be used to test whether data is normally distributed. \n",
        "# This test simply consists of looking at the histogram and discerning \n",
        "# whether it approximates the bell curve of a normal distribution.\n",
        "# ---\n",
        "#\n",
        "\n",
        "# generate univariate observations\n",
        "data = 5 * randn(100) + 50\n",
        "\n",
        "# histogram plot\n",
        "pyplot.hist(data)\n",
        "pyplot.show()\n",
        "\n",
        "# From the resulting histogram, we can see a Gaussian-like shape to the data, \n",
        "# that although is not strongly the familiar bell-shape, is a rough approximation."
      ],
      "execution_count": 0,
      "outputs": []
    },
    {
      "cell_type": "markdown",
      "metadata": {
        "id": "s3hbig-2IdtH",
        "colab_type": "text"
      },
      "source": [
        "### <font color=\"green\">1.0 Challenges</font>"
      ]
    },
    {
      "cell_type": "code",
      "metadata": {
        "id": "3F2wvadV4KTl",
        "colab_type": "code",
        "colab": {}
      },
      "source": [
        "# Challenge 1\n",
        "# ---\n",
        "# Question: Determine whether the given data follows a normal distribution using the histogram plot\n",
        "# ---\n",
        "# Dataset url = http://bit.ly/GaussianDistributionDataset1\n",
        "# \n",
        "OUR CODE GOES HERE"
      ],
      "execution_count": 0,
      "outputs": []
    },
    {
      "cell_type": "code",
      "metadata": {
        "id": "5_NJrZ9dIiTA",
        "colab_type": "code",
        "colab": {}
      },
      "source": [
        "# Challenge 2\n",
        "# ---\n",
        "# Question: Does the prices data follow a normal distribution? \n",
        "# If your sample follows a normal distribution, does this makes sense to you? Explain why.\n",
        "# If your sample does not follow a normal distribution (e.g., it could be skewed left or right, \n",
        "# have a uniform distribution, or have some other shape), then why might this be the reason?\n",
        "# ---\n",
        "# Dataset url = http://bit.ly/NormalisationPricesDataset\n",
        "# \n",
        "OUR CODE GOES HERE"
      ],
      "execution_count": 0,
      "outputs": []
    },
    {
      "cell_type": "markdown",
      "metadata": {
        "id": "pmX6aGACHQAX",
        "colab_type": "text"
      },
      "source": [
        "## 2.0 Quantile-Quantile (Q-Q) Plot\n"
      ]
    },
    {
      "cell_type": "code",
      "metadata": {
        "id": "LEfBjhplHYGz",
        "colab_type": "code",
        "colab": {}
      },
      "source": [
        "# Example 1\n",
        "# ---\n",
        "# The Q-Q plot generates its own sample of the idealized distribution that we are comparing with, \n",
        "# in this case the Gaussian distribution. The idealized samples are divided into groups (e.g. 5), called quantiles. \n",
        "# Each data point in the sample is paired with a similar member from the idealized distribution at the same cumulative distribution.\n",
        "# The resulting points are plotted as a scatter plot with the idealized value on the x-axis and the data sample on the y-axis.\n",
        "# A perfect match for the distribution will be shown by a line of dots on a 45-degree angle from the bottom left of the plot to the top right. \n",
        "# Often a line is drawn on the plot to help make this expectation clear. Deviations by the dots from the line \n",
        "# would show a deviation from the expected distribution.\n",
        "# ---\n",
        "#\n",
        "\n",
        "# Importing libraries to plot our Q-Q plot\n",
        "from statsmodels.graphics.gofplots import qqplot\n",
        "from matplotlib import pyplot\n",
        "\n",
        "# seed the random number generator\n",
        "seed(1)\n",
        "\n",
        "# generate univariate observations\n",
        "data = 5 * randn(100) + 50\n",
        "\n",
        "# q-q plot\n",
        "qqplot(data, line='s')\n",
        "pyplot.show()\n",
        "\n",
        "# The resulting QQ plot shows the scatter plot of points in a diagonal line, \n",
        "# closely fitting the expected diagonal pattern for a sample from a Gaussian distribution.\n",
        "# There are a few small deviations, especially at the bottom of the plot, \n",
        "# which is to be expected given the small data sample."
      ],
      "execution_count": 0,
      "outputs": []
    },
    {
      "cell_type": "markdown",
      "metadata": {
        "id": "BYTvjelSIk_A",
        "colab_type": "text"
      },
      "source": [
        "### <font color=\"green\">2.0 Challenges</font>"
      ]
    },
    {
      "cell_type": "code",
      "metadata": {
        "id": "v1mg93rBIpY9",
        "colab_type": "code",
        "colab": {}
      },
      "source": [
        "# Challenge 1\n",
        "# ---\n",
        "# Question: Determine whether the given data follows a normal distribution using the Q-Q plot\n",
        "# ---\n",
        "# Dataset url = http://bit.ly/GaussianDistributionDataset2\n",
        "# \n",
        "OUR CODE GOES HERE"
      ],
      "execution_count": 0,
      "outputs": []
    },
    {
      "cell_type": "code",
      "metadata": {
        "id": "zVD9y_LB5z90",
        "colab_type": "code",
        "colab": {}
      },
      "source": [
        "# Challenge 2\n",
        "# ---\n",
        "# Question: Plot the win by wickets data in the given dataset and watch the curve.\n",
        "# Does the data follow a normal distribution\n",
        "# ---\n",
        "# Dataset url = http://bit.ly/IndianPremierLeagueDataset\n",
        "# \n",
        "OUR CODE GOES HERE"
      ],
      "execution_count": 0,
      "outputs": []
    },
    {
      "cell_type": "markdown",
      "metadata": {
        "id": "qWVD5HgDHYlL",
        "colab_type": "text"
      },
      "source": [
        "## 3.0 The Shapiro-Wilk Test"
      ]
    },
    {
      "cell_type": "code",
      "metadata": {
        "id": "mHA3iL6kHj_Y",
        "colab_type": "code",
        "colab": {}
      },
      "source": [
        "# Example 1\n",
        "# ---\n",
        "# The Shapiro-Wilk test evaluates a data sample and quantifies how likely it is that \n",
        "# the data was drawn from a Gaussian distribution, named for Samuel Shapiro and Martin Wilk.\n",
        "# In practice, the Shapiro-Wilk test is believed to be a reliable test of normality, \n",
        "# although there is some suggestion that the test may be suitable for smaller samples of data, e.g. thousands of observations or fewer.\n",
        "# The shapiro() SciPy function will calculate the Shapiro-Wilk on a given dataset. \n",
        "# The function returns both the W-statistic calculated by the test and the p-value. \n",
        "# ---\n",
        "#\n",
        "\n",
        "# imporing the shapiro function\n",
        "from scipy.stats import shapiro \n",
        "\n",
        "# generating univariate observations\n",
        "data = 5 * randn(100) + 50\n",
        "\n",
        "# testing for normality\n",
        "stat, p = shapiro(data)\n",
        "print('Statistics=%.3f, p=%.3f' % (stat, p))\n",
        "\n",
        "# interpreting\n",
        "alpha = 0.05\n",
        "if p > alpha:\n",
        "\tprint('Sample looks Gaussian')\n",
        "else:\n",
        "\tprint('Sample does not look Gaussian')\n",
        "  \n",
        "# Running the example first calculates the test on the data sample, \n",
        "# then prints the statistic and calculated p-value. \n",
        "# The p-value is interested and finds that the data is likely drawn from a Gaussian distribution."
      ],
      "execution_count": 0,
      "outputs": []
    },
    {
      "cell_type": "markdown",
      "metadata": {
        "id": "XbBi43lTItC2",
        "colab_type": "text"
      },
      "source": [
        "### <font color=\"green\">3.0 Challenges</font>"
      ]
    },
    {
      "cell_type": "code",
      "metadata": {
        "id": "6gFhqrE5IyLi",
        "colab_type": "code",
        "colab": {}
      },
      "source": [
        "# Challenge 1\n",
        "# ---\n",
        "# Question: Using The Shapiro-Wilk Test, determine whether the given data follows a normal distribution.\n",
        "# ---\n",
        "# Dataset url = http://bit.ly/GaussianDistributionDataset3\n",
        "# \n",
        "OUR CODE GOES HERE"
      ],
      "execution_count": 0,
      "outputs": []
    },
    {
      "cell_type": "code",
      "metadata": {
        "id": "a61cTrtF92QC",
        "colab_type": "code",
        "colab": {}
      },
      "source": [
        "# Challenge 2\n",
        "# ---\n",
        "# Question: Plot the win by runs data in the given dataset and watch the curve.\n",
        "# Does the data follow a normal distribution\n",
        "# ---\n",
        "# Dataset url = http://bit.ly/IndianPremierLeagueDataset\n",
        "# \n",
        "OUR CODE GOES HERE"
      ],
      "execution_count": 0,
      "outputs": []
    },
    {
      "cell_type": "markdown",
      "metadata": {
        "id": "tw66CC27HlKj",
        "colab_type": "text"
      },
      "source": [
        "## 4.0 Anderson-Darling Test\n"
      ]
    },
    {
      "cell_type": "code",
      "metadata": {
        "id": "0AxqNBpEHktu",
        "colab_type": "code",
        "colab": {}
      },
      "source": [
        "# Example 1\n",
        "# ---\n",
        "# Anderson-Darling Test is a statistical test that can be used to evaluate \n",
        "# whether a data sample comes from one of among many known data samples, named for Theodore Anderson and Donald Darling.\n",
        "# It can be used to check whether a data sample is normal. \n",
        "# The test is a modified version of a more sophisticated nonparametric goodness-of-fit statistical test called the Kolmogorov-Smirnov test.\n",
        "# A feature of the Anderson-Darling test is that it returns a list of critical values rather than a single p-value. \n",
        "# This can provide the basis for a more thorough interpretation of the result.\n",
        "# The anderson() SciPy function implements the Anderson-Darling test. \n",
        "# It takes as parameters the data sample and the name of the distribution to test it against. \n",
        "# By default, the test will check against the Gaussian distribution (dist=’norm’).\n",
        "# ---\n",
        "# \n",
        "\n",
        "# Importing anderson function form scipy \n",
        "from scipy.stats import anderson\n",
        "\n",
        "# seed the random number generator\n",
        "seed(1)\n",
        "\n",
        "# generate univariate observations\n",
        "data = 5 * randn(100) + 50\n",
        "\n",
        "# normality test\n",
        "result = anderson(data)\n",
        "print('Statistic: %.3f' % result.statistic)\n",
        "p = 0\n",
        "for i in range(len(result.critical_values)):\n",
        "\tsl, cv = result.significance_level[i], result.critical_values[i]\n",
        "\tif result.statistic < result.critical_values[i]:\n",
        "\t\tprint('%.3f: %.3f, data looks normal' % (sl, cv))\n",
        "\telse:\n",
        "\t\tprint('%.3f: %.3f, data does not look normal' % (sl, cv))\n",
        "    \n",
        "# Running this example calculates the statistic on the test data set and prints the critical values.\n",
        "# Critical values in a statistical test are a range of pre-defined significance boundaries at which \n",
        "# the H0 can be failed to be rejected if the calculated statistic is less than the critical value. \n",
        "# More on Critical values: http://bit.ly/CriticalValues.\n",
        "# Rather than just a single p-value, the test returns a critical value for a range of different commonly used significance levels.\n",
        "# We can interpret the results by failing to reject the null hypothesis that the data is normal \n",
        "# if the calculated test statistic is less than the critical value at a chosen significance level.\n",
        "# We can see that at each significance level, the test has found that the data follows a normal distribution."
      ],
      "execution_count": 0,
      "outputs": []
    },
    {
      "cell_type": "markdown",
      "metadata": {
        "id": "5gSMhKaEI05P",
        "colab_type": "text"
      },
      "source": [
        "### <font color=\"green\">4.0 Challenges</font>"
      ]
    },
    {
      "cell_type": "code",
      "metadata": {
        "id": "0_Sh6wYpI42o",
        "colab_type": "code",
        "colab": {}
      },
      "source": [
        "# Challenge 1 \n",
        "# ---\n",
        "# Question: Determine whether the given dataset follows a Gaussian Distribution\n",
        "# ---\n",
        "# Dataset url = http://bit.ly/GaussianDistributionDataset4\n",
        "#\n",
        "OUR CODE GOES HERE"
      ],
      "execution_count": 0,
      "outputs": []
    },
    {
      "cell_type": "code",
      "metadata": {
        "colab_type": "code",
        "id": "3_LtL00f7og6",
        "colab": {}
      },
      "source": [
        "# Challenge 2\n",
        "# ---\n",
        "# Question: Plot the win by runs data in the given dataset and watch the curve.\n",
        "# Does the data follow a normal distribution\n",
        "# ---\n",
        "# Dataset url = http://bit.ly/IndianPremierLeagueDataset\n",
        "# \n",
        "OUR CODE GOES HERE"
      ],
      "execution_count": 0,
      "outputs": []
    },
    {
      "cell_type": "markdown",
      "metadata": {
        "id": "pWrZOT_QHu_5",
        "colab_type": "text"
      },
      "source": [
        "## 5.0 D’Agostino’s K^2 Test"
      ]
    },
    {
      "cell_type": "code",
      "metadata": {
        "id": "kx8Q3c6xIMJ9",
        "colab_type": "code",
        "colab": {}
      },
      "source": [
        "# Example 1\n",
        "# ---\n",
        "# The D’Agostino’s K^2 test calculates summary statistics from the data, namely kurtosis and skewness, \n",
        "# to determine if the data distribution departs from the normal distribution, named for Ralph D’Agostino.\n",
        "# -> Skew is a quantification of how much a distribution is pushed left or right, a measure of asymmetry in the distribution.\n",
        "# -> Kurtosis quantifies how much of the distribution is in the tail. It is a simple and commonly used statistical test for normality.\n",
        "# The D’Agostino’s K^2 test is available via the normaltest() SciPy function and returns the test statistic and the p-value.\n",
        "# ---\n",
        "\n",
        "from numpy.random import seed\n",
        "from numpy.random import randn\n",
        "from scipy.stats import normaltest\n",
        "# seed the random number generator\n",
        "seed(1)\n",
        "# generate univariate observations\n",
        "data = 5 * randn(100) + 50\n",
        "# normality test\n",
        "stat, p = normaltest(data)\n",
        "print('Statistics=%.3f, p=%.3f' % (stat, p))\n",
        "# interpret\n",
        "alpha = 0.05\n",
        "if p > alpha:\n",
        "\tprint('Sample looks Gaussian')\n",
        "else:\n",
        "\tprint('Sample does not look Gaussian')"
      ],
      "execution_count": 0,
      "outputs": []
    },
    {
      "cell_type": "markdown",
      "metadata": {
        "id": "eE37tkQCI8lN",
        "colab_type": "text"
      },
      "source": [
        "### <font color=\"green\">5.0 Challenges</font>"
      ]
    },
    {
      "cell_type": "code",
      "metadata": {
        "id": "ga0fWL-6JAbn",
        "colab_type": "code",
        "colab": {}
      },
      "source": [
        "# Challenge 1\n",
        "# ---\n",
        "# Question: Using D’Agostino’s K^2 Test, determine whether the given data follows a normal distribution.\n",
        "# ---\n",
        "# Dataset url = http://bit.ly/GaussianDistributionDataset3\n",
        "# \n",
        "OUR CODE GOES HERE"
      ],
      "execution_count": 0,
      "outputs": []
    },
    {
      "cell_type": "code",
      "metadata": {
        "id": "ICPWiAoEJBvc",
        "colab_type": "code",
        "colab": {}
      },
      "source": [
        "# Challenge 2\n",
        "# ---\n",
        "# Question: From the fifa dataset given below, does the overall rating data follow a normal distribution? \n",
        "# If your sample follows a normal distribution, does this makes sense to you? Explain why.\n",
        "# If your sample does not follow a normal distribution (e.g., it could be skewed left or right, \n",
        "# have a uniform distribution, or have some other shape), then why might this be the reason?\n",
        "# ---\n",
        "# Dataset url = http://bit.ly/FifaDataset\n",
        "# \n",
        "OUR CODE GOES HERE"
      ],
      "execution_count": 0,
      "outputs": []
    },
    {
      "cell_type": "markdown",
      "metadata": {
        "id": "PWPpyTdDIZZ-",
        "colab_type": "text"
      },
      "source": [
        "## 6.0 Further Readings"
      ]
    },
    {
      "cell_type": "markdown",
      "metadata": {
        "id": "UhPRWBIiH1jp",
        "colab_type": "text"
      },
      "source": [
        "Other plots that we have not covered in this session but are also worth exploring include:\n",
        "\n",
        "\n",
        "*   Box Plots.\n",
        "*   The Kolmogorov-Smirnov test.\n",
        "\n",
        "\n"
      ]
    }
  ]
}