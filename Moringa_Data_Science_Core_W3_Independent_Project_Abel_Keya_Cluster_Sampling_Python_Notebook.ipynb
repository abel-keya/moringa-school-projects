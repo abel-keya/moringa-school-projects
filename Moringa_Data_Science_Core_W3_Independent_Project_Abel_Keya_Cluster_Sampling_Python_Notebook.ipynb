{
  "nbformat": 4,
  "nbformat_minor": 0,
  "metadata": {
    "colab": {
      "name": "Moringa_Data_Science_Core_W3_Independent_Project_Abel_Keya_Cluster Sampling_Python_Notebook.ipynb",
      "provenance": [],
      "collapsed_sections": [],
      "include_colab_link": true
    },
    "kernelspec": {
      "name": "python3",
      "display_name": "Python 3"
    },
    "accelerator": "GPU"
  },
  "cells": [
    {
      "cell_type": "markdown",
      "metadata": {
        "id": "view-in-github",
        "colab_type": "text"
      },
      "source": [
        "<a href=\"https://colab.research.google.com/github/abel-keya/moringa-school-projects/blob/master/Moringa_Data_Science_Core_W3_Independent_Project_Abel_Keya_Cluster_Sampling_Python_Notebook.ipynb\" target=\"_parent\"><img src=\"https://colab.research.google.com/assets/colab-badge.svg\" alt=\"Open In Colab\"/></a>"
      ]
    },
    {
      "cell_type": "code",
      "metadata": {
        "id": "kyfdKWjHmoK8",
        "colab_type": "code",
        "colab": {}
      },
      "source": [
        "# Importing the libraries we will need \n",
        "\n",
        "# Let's start by importing the necessary librabries\n",
        "import pandas as pd\n",
        "import numpy as np\n",
        "import matplotlib.pyplot as plt\n",
        "import seaborn as sns\n",
        "# Set the styles of all graphs to Seaborn one\n",
        "sns.set()\n",
        "# Import the KMeans module so we can perform k-means clustering with sklearn\n",
        "from sklearn.cluster import KMeans\n"
      ],
      "execution_count": 0,
      "outputs": []
    },
    {
      "cell_type": "code",
      "metadata": {
        "id": "Muzxq5Ibhm6v",
        "colab_type": "code",
        "outputId": "c4c68d60-1eaa-4d56-ae4f-06afd9f93f71",
        "colab": {
          "base_uri": "https://localhost:8080/",
          "height": 606
        }
      },
      "source": [
        "#https://data.illinois.gov/dataset\n",
        "#DESCRIPTION\n",
        "#State Employee Pay\n",
        "#SUMMARY\n",
        "#This dataset is a listing of all current state employees excluding sworn law enforcement officers. Current employees are defined as employees paid in the last 30 days. The following fields are included in the dataset: Agency, Agency Division, Employee Name, Position Title, Period Pay Rate, and YTD Gross Pay. This list is updated on a weekly basis.\n",
        "\n",
        "#Source: https://data.illinois.gov/dataset/724state_employee_pay\n",
        "#Last updated at https://data.illinois.gov/dataset : 2019-12-08\n",
        "urlx= \"https://query.data.world/s/cvmgaeaxx2ju2hjoloqv3jhvfyhoz5\"\n",
        "datax=pd.read_csv(urlx)\n",
        "datax"
      ],
      "execution_count": 0,
      "outputs": [
        {
          "output_type": "execute_result",
          "data": {
            "text/html": [
              "<div>\n",
              "<style scoped>\n",
              "    .dataframe tbody tr th:only-of-type {\n",
              "        vertical-align: middle;\n",
              "    }\n",
              "\n",
              "    .dataframe tbody tr th {\n",
              "        vertical-align: top;\n",
              "    }\n",
              "\n",
              "    .dataframe thead th {\n",
              "        text-align: right;\n",
              "    }\n",
              "</style>\n",
              "<table border=\"1\" class=\"dataframe\">\n",
              "  <thead>\n",
              "    <tr style=\"text-align: right;\">\n",
              "      <th></th>\n",
              "      <th>_id</th>\n",
              "      <th>Id</th>\n",
              "      <th>Agency</th>\n",
              "      <th>Agency Division</th>\n",
              "      <th>Employee Name</th>\n",
              "      <th>Position Title</th>\n",
              "      <th>Period Pay Rate</th>\n",
              "      <th>YTD Gross</th>\n",
              "    </tr>\n",
              "  </thead>\n",
              "  <tbody>\n",
              "    <tr>\n",
              "      <th>0</th>\n",
              "      <td>1</td>\n",
              "      <td>43878FC35A4C8BFC203CE98D9EDFECB4A5A9CAD0</td>\n",
              "      <td>ABE LINCOLN PRES LIBRARY MUS2</td>\n",
              "      <td>ALPLM CONTRACTUAL EMPLOYEES</td>\n",
              "      <td>CHRISTIAN MCWHIRTER</td>\n",
              "      <td>CONTRACTUAL WORKER</td>\n",
              "      <td>3600</td>\n",
              "      <td>7200</td>\n",
              "    </tr>\n",
              "    <tr>\n",
              "      <th>1</th>\n",
              "      <td>2</td>\n",
              "      <td>8CF0D9F8C7705F4807210ABDF61E6C050F1108FC</td>\n",
              "      <td>ABE LINCOLN PRES LIBRARY &amp; MUS</td>\n",
              "      <td>ALPLM CONTRACTUAL EMPLOYEES</td>\n",
              "      <td>CORY BLISSETT</td>\n",
              "      <td>CONTRACTUAL WORKER</td>\n",
              "      <td>400</td>\n",
              "      <td>6000</td>\n",
              "    </tr>\n",
              "    <tr>\n",
              "      <th>2</th>\n",
              "      <td>3</td>\n",
              "      <td>CB1307161CFD19077025E2577183F94C073A1AC4</td>\n",
              "      <td>ABE LINCOLN PRES LIBRARY MUS3</td>\n",
              "      <td>ALPLM CONTRACTUAL EMPLOYEES</td>\n",
              "      <td>TEST 3</td>\n",
              "      <td>CONTRACTUAL WORKER</td>\n",
              "      <td>8600</td>\n",
              "      <td>8200</td>\n",
              "    </tr>\n",
              "    <tr>\n",
              "      <th>3</th>\n",
              "      <td>4</td>\n",
              "      <td>844A6E6B935EE4ABE2DF5CD0419C50370171E2A1</td>\n",
              "      <td>ABE LINCOLN PRES LIBRARY &amp; MUS</td>\n",
              "      <td>ALPLM CONTRACTUAL EMPLOYEES</td>\n",
              "      <td>GAYLE NEWENHAM</td>\n",
              "      <td>CONTRACTUAL WORKER</td>\n",
              "      <td>2200</td>\n",
              "      <td>38100</td>\n",
              "    </tr>\n",
              "    <tr>\n",
              "      <th>4</th>\n",
              "      <td>5</td>\n",
              "      <td>97A3363E9A6D7719EAAEF279CA31E785B5ECB07A</td>\n",
              "      <td>ABE LINCOLN PRES LIBRARY &amp; MUS</td>\n",
              "      <td>ALPLM CONTRACTUAL EMPLOYEES</td>\n",
              "      <td>JACOB DETERS</td>\n",
              "      <td>CONTRACTUAL WORKER</td>\n",
              "      <td>300</td>\n",
              "      <td>9300</td>\n",
              "    </tr>\n",
              "    <tr>\n",
              "      <th>...</th>\n",
              "      <td>...</td>\n",
              "      <td>...</td>\n",
              "      <td>...</td>\n",
              "      <td>...</td>\n",
              "      <td>...</td>\n",
              "      <td>...</td>\n",
              "      <td>...</td>\n",
              "      <td>...</td>\n",
              "    </tr>\n",
              "    <tr>\n",
              "      <th>113613</th>\n",
              "      <td>113614</td>\n",
              "      <td>AE33E10D636D349DF15242DC780E3216A9CEC1E5</td>\n",
              "      <td>HUMAN SERVICES</td>\n",
              "      <td>CONTRACTUAL SERVICES</td>\n",
              "      <td>CHRISTINE GOOD-DEAL</td>\n",
              "      <td>CONTRACTUAL WORKER</td>\n",
              "      <td>500</td>\n",
              "      <td>95000</td>\n",
              "    </tr>\n",
              "    <tr>\n",
              "      <th>113614</th>\n",
              "      <td>113615</td>\n",
              "      <td>D53D24E79F9AA54B3D3F95667B8967DEF117307A</td>\n",
              "      <td>HUMAN SERVICES</td>\n",
              "      <td>CONTRACTUAL SERVICES</td>\n",
              "      <td>JILL BRUINGTON</td>\n",
              "      <td>CONTRACTUAL WORKER</td>\n",
              "      <td>100</td>\n",
              "      <td>73400</td>\n",
              "    </tr>\n",
              "    <tr>\n",
              "      <th>113615</th>\n",
              "      <td>113616</td>\n",
              "      <td>192C708912116BD8E1C02FF689033E93F391C764</td>\n",
              "      <td>HUMAN SERVICES</td>\n",
              "      <td>CONTRACTUAL SERVICES</td>\n",
              "      <td>MARGARET BRADSHAW</td>\n",
              "      <td>CONTRACTUAL WORKER</td>\n",
              "      <td>100</td>\n",
              "      <td>900</td>\n",
              "    </tr>\n",
              "    <tr>\n",
              "      <th>113616</th>\n",
              "      <td>113617</td>\n",
              "      <td>DEF6BDB21A10C0A7C2F406F91EEAD6C892DB8842</td>\n",
              "      <td>HUMAN SERVICES</td>\n",
              "      <td>CONTRACTUAL SERVICES</td>\n",
              "      <td>MARK HAYWARD</td>\n",
              "      <td>CONTRACTUAL WORKER</td>\n",
              "      <td>1400</td>\n",
              "      <td>62300</td>\n",
              "    </tr>\n",
              "    <tr>\n",
              "      <th>113617</th>\n",
              "      <td>113618</td>\n",
              "      <td>A3E61BD82A48E0581AC3DF4E012FBE18AECEA3B9</td>\n",
              "      <td>NATURAL RESOURCES</td>\n",
              "      <td>CONTRACTUAL SERVICES</td>\n",
              "      <td>BRETT DIERCKS</td>\n",
              "      <td>CONTRACTUAL WORKER</td>\n",
              "      <td>100</td>\n",
              "      <td>100</td>\n",
              "    </tr>\n",
              "  </tbody>\n",
              "</table>\n",
              "<p>113618 rows × 8 columns</p>\n",
              "</div>"
            ],
            "text/plain": [
              "           _id  ... YTD Gross\n",
              "0            1  ...      7200\n",
              "1            2  ...      6000\n",
              "2            3  ...      8200\n",
              "3            4  ...     38100\n",
              "4            5  ...      9300\n",
              "...        ...  ...       ...\n",
              "113613  113614  ...     95000\n",
              "113614  113615  ...     73400\n",
              "113615  113616  ...       900\n",
              "113616  113617  ...     62300\n",
              "113617  113618  ...       100\n",
              "\n",
              "[113618 rows x 8 columns]"
            ]
          },
          "metadata": {
            "tags": []
          },
          "execution_count": 42
        }
      ]
    },
    {
      "cell_type": "code",
      "metadata": {
        "id": "TY7Vq9_Eo3lI",
        "colab_type": "code",
        "outputId": "a957f15a-fa84-47e8-f751-1327a4d66f66",
        "colab": {
          "base_uri": "https://localhost:8080/",
          "height": 238
        }
      },
      "source": [
        "# Getting to know more about the dataset by accessing its information\n",
        "# \n",
        "datax.info()"
      ],
      "execution_count": 0,
      "outputs": [
        {
          "output_type": "stream",
          "text": [
            "<class 'pandas.core.frame.DataFrame'>\n",
            "RangeIndex: 113618 entries, 0 to 113617\n",
            "Data columns (total 8 columns):\n",
            "_id                113618 non-null int64\n",
            "Id                 113618 non-null object\n",
            "Agency             113618 non-null object\n",
            "Agency Division    112706 non-null object\n",
            "Employee Name      113618 non-null object\n",
            "Position Title     113533 non-null object\n",
            "Period Pay Rate    113618 non-null int64\n",
            "YTD Gross          113618 non-null int64\n",
            "dtypes: int64(3), object(5)\n",
            "memory usage: 6.9+ MB\n"
          ],
          "name": "stdout"
        }
      ]
    },
    {
      "cell_type": "markdown",
      "metadata": {
        "id": "3-7dtzkppYIK",
        "colab_type": "text"
      },
      "source": [
        "Cleaning our Dataset"
      ]
    },
    {
      "cell_type": "code",
      "metadata": {
        "id": "uFaRgdoVsg6R",
        "colab_type": "code",
        "outputId": "088b0f4d-75e8-4844-b15d-7df35ee8a927",
        "colab": {
          "base_uri": "https://localhost:8080/",
          "height": 306
        }
      },
      "source": [
        "datax.head()"
      ],
      "execution_count": 0,
      "outputs": [
        {
          "output_type": "execute_result",
          "data": {
            "text/html": [
              "<div>\n",
              "<style scoped>\n",
              "    .dataframe tbody tr th:only-of-type {\n",
              "        vertical-align: middle;\n",
              "    }\n",
              "\n",
              "    .dataframe tbody tr th {\n",
              "        vertical-align: top;\n",
              "    }\n",
              "\n",
              "    .dataframe thead th {\n",
              "        text-align: right;\n",
              "    }\n",
              "</style>\n",
              "<table border=\"1\" class=\"dataframe\">\n",
              "  <thead>\n",
              "    <tr style=\"text-align: right;\">\n",
              "      <th></th>\n",
              "      <th>_id</th>\n",
              "      <th>Id</th>\n",
              "      <th>Agency</th>\n",
              "      <th>Agency Division</th>\n",
              "      <th>Employee Name</th>\n",
              "      <th>Position Title</th>\n",
              "      <th>Period Pay Rate</th>\n",
              "      <th>YTD Gross</th>\n",
              "    </tr>\n",
              "  </thead>\n",
              "  <tbody>\n",
              "    <tr>\n",
              "      <th>0</th>\n",
              "      <td>1</td>\n",
              "      <td>43878FC35A4C8BFC203CE98D9EDFECB4A5A9CAD0</td>\n",
              "      <td>ABE LINCOLN PRES LIBRARY MUS2</td>\n",
              "      <td>ALPLM CONTRACTUAL EMPLOYEES</td>\n",
              "      <td>CHRISTIAN MCWHIRTER</td>\n",
              "      <td>CONTRACTUAL WORKER</td>\n",
              "      <td>3600</td>\n",
              "      <td>7200</td>\n",
              "    </tr>\n",
              "    <tr>\n",
              "      <th>1</th>\n",
              "      <td>2</td>\n",
              "      <td>8CF0D9F8C7705F4807210ABDF61E6C050F1108FC</td>\n",
              "      <td>ABE LINCOLN PRES LIBRARY &amp; MUS</td>\n",
              "      <td>ALPLM CONTRACTUAL EMPLOYEES</td>\n",
              "      <td>CORY BLISSETT</td>\n",
              "      <td>CONTRACTUAL WORKER</td>\n",
              "      <td>400</td>\n",
              "      <td>6000</td>\n",
              "    </tr>\n",
              "    <tr>\n",
              "      <th>2</th>\n",
              "      <td>3</td>\n",
              "      <td>CB1307161CFD19077025E2577183F94C073A1AC4</td>\n",
              "      <td>ABE LINCOLN PRES LIBRARY MUS3</td>\n",
              "      <td>ALPLM CONTRACTUAL EMPLOYEES</td>\n",
              "      <td>TEST 3</td>\n",
              "      <td>CONTRACTUAL WORKER</td>\n",
              "      <td>8600</td>\n",
              "      <td>8200</td>\n",
              "    </tr>\n",
              "    <tr>\n",
              "      <th>3</th>\n",
              "      <td>4</td>\n",
              "      <td>844A6E6B935EE4ABE2DF5CD0419C50370171E2A1</td>\n",
              "      <td>ABE LINCOLN PRES LIBRARY &amp; MUS</td>\n",
              "      <td>ALPLM CONTRACTUAL EMPLOYEES</td>\n",
              "      <td>GAYLE NEWENHAM</td>\n",
              "      <td>CONTRACTUAL WORKER</td>\n",
              "      <td>2200</td>\n",
              "      <td>38100</td>\n",
              "    </tr>\n",
              "    <tr>\n",
              "      <th>4</th>\n",
              "      <td>5</td>\n",
              "      <td>97A3363E9A6D7719EAAEF279CA31E785B5ECB07A</td>\n",
              "      <td>ABE LINCOLN PRES LIBRARY &amp; MUS</td>\n",
              "      <td>ALPLM CONTRACTUAL EMPLOYEES</td>\n",
              "      <td>JACOB DETERS</td>\n",
              "      <td>CONTRACTUAL WORKER</td>\n",
              "      <td>300</td>\n",
              "      <td>9300</td>\n",
              "    </tr>\n",
              "  </tbody>\n",
              "</table>\n",
              "</div>"
            ],
            "text/plain": [
              "   _id                                        Id  ... Period Pay Rate YTD Gross\n",
              "0    1  43878FC35A4C8BFC203CE98D9EDFECB4A5A9CAD0  ...            3600      7200\n",
              "1    2  8CF0D9F8C7705F4807210ABDF61E6C050F1108FC  ...             400      6000\n",
              "2    3  CB1307161CFD19077025E2577183F94C073A1AC4  ...            8600      8200\n",
              "3    4  844A6E6B935EE4ABE2DF5CD0419C50370171E2A1  ...            2200     38100\n",
              "4    5  97A3363E9A6D7719EAAEF279CA31E785B5ECB07A  ...             300      9300\n",
              "\n",
              "[5 rows x 8 columns]"
            ]
          },
          "metadata": {
            "tags": []
          },
          "execution_count": 5
        }
      ]
    },
    {
      "cell_type": "markdown",
      "metadata": {
        "id": "yJ-WNg63Auh9",
        "colab_type": "text"
      },
      "source": [
        "Accuracy "
      ]
    },
    {
      "cell_type": "code",
      "metadata": {
        "id": "VZzekaTLBd22",
        "colab_type": "code",
        "outputId": "1f0cce01-4eaf-4f95-f870-63187f217a4b",
        "colab": {
          "base_uri": "https://localhost:8080/",
          "height": 170
        }
      },
      "source": [
        "# Checking if there is any missing value across each column\n",
        "datax.isnull().any()"
      ],
      "execution_count": 0,
      "outputs": [
        {
          "output_type": "execute_result",
          "data": {
            "text/plain": [
              "_id                False\n",
              "Id                 False\n",
              "Agency             False\n",
              "Agency Division     True\n",
              "Employee Name      False\n",
              "Position Title      True\n",
              "Period Pay Rate    False\n",
              "YTD Gross          False\n",
              "dtype: bool"
            ]
          },
          "metadata": {
            "tags": []
          },
          "execution_count": 8
        }
      ]
    },
    {
      "cell_type": "code",
      "metadata": {
        "id": "LaocUHZyBnop",
        "colab_type": "code",
        "outputId": "50a39296-6161-4e8b-90c9-44e7fc19be64",
        "colab": {
          "base_uri": "https://localhost:8080/",
          "height": 170
        }
      },
      "source": [
        "# Checking how many missing values there are across each column\n",
        "# \n",
        "datax.isnull().sum()"
      ],
      "execution_count": 0,
      "outputs": [
        {
          "output_type": "execute_result",
          "data": {
            "text/plain": [
              "_id                  0\n",
              "Id                   0\n",
              "Agency               0\n",
              "Agency Division    912\n",
              "Employee Name        0\n",
              "Position Title      85\n",
              "Period Pay Rate      0\n",
              "YTD Gross            0\n",
              "dtype: int64"
            ]
          },
          "metadata": {
            "tags": []
          },
          "execution_count": 9
        }
      ]
    },
    {
      "cell_type": "code",
      "metadata": {
        "id": "4ezSGhKTBtso",
        "colab_type": "code",
        "outputId": "623d06d2-06ea-43ec-ee7f-f70152e4fb9b",
        "colab": {
          "base_uri": "https://localhost:8080/",
          "height": 34
        }
      },
      "source": [
        "# Or we can do a quick check to see if we have any missing values at all\n",
        "# \n",
        "print(datax.isnull().values.any())"
      ],
      "execution_count": 0,
      "outputs": [
        {
          "output_type": "stream",
          "text": [
            "True\n"
          ],
          "name": "stdout"
        }
      ]
    },
    {
      "cell_type": "code",
      "metadata": {
        "id": "UATyzWn0B7O0",
        "colab_type": "code",
        "outputId": "8519a4cd-11df-4b46-e93a-c2b0f1677b4f",
        "colab": {
          "base_uri": "https://localhost:8080/",
          "height": 34
        }
      },
      "source": [
        "# We might also want to get a total count of missing values\n",
        "print(datax.isnull().sum().sum())"
      ],
      "execution_count": 0,
      "outputs": [
        {
          "output_type": "stream",
          "text": [
            "997\n"
          ],
          "name": "stdout"
        }
      ]
    },
    {
      "cell_type": "markdown",
      "metadata": {
        "id": "xHs3qRjDCO-m",
        "colab_type": "text"
      },
      "source": [
        "Consitency"
      ]
    },
    {
      "cell_type": "code",
      "metadata": {
        "id": "6wZsBTUmCMcC",
        "colab_type": "code",
        "outputId": "675cdee5-8ad3-420d-f76d-0ceaf38a6376",
        "colab": {
          "base_uri": "https://localhost:8080/",
          "height": 221
        }
      },
      "source": [
        "#Duplicates are data points that are repeated in your dataset. \n",
        "# These should be simply removed.\n",
        "datax.duplicated()\n",
        "df1=datax.duplicated()\n",
        "df1\n",
        "\n"
      ],
      "execution_count": 0,
      "outputs": [
        {
          "output_type": "execute_result",
          "data": {
            "text/plain": [
              "0         False\n",
              "1         False\n",
              "2         False\n",
              "3         False\n",
              "4         False\n",
              "          ...  \n",
              "113613    False\n",
              "113614    False\n",
              "113615    False\n",
              "113616    False\n",
              "113617    False\n",
              "Length: 113618, dtype: bool"
            ]
          },
          "metadata": {
            "tags": []
          },
          "execution_count": 12
        }
      ]
    },
    {
      "cell_type": "code",
      "metadata": {
        "id": "rqX3-95FDoof",
        "colab_type": "code",
        "outputId": "c19a1494-1004-41b7-9f65-d1a5e90ee92b",
        "colab": {
          "base_uri": "https://localhost:8080/",
          "height": 34
        }
      },
      "source": [
        "df1.sum()"
      ],
      "execution_count": 0,
      "outputs": [
        {
          "output_type": "execute_result",
          "data": {
            "text/plain": [
              "0"
            ]
          },
          "metadata": {
            "tags": []
          },
          "execution_count": 13
        }
      ]
    },
    {
      "cell_type": "markdown",
      "metadata": {
        "id": "uWpDXZzHFUfr",
        "colab_type": "text"
      },
      "source": [
        "Uniformity"
      ]
    },
    {
      "cell_type": "code",
      "metadata": {
        "id": "VP79yAFQj4x0",
        "colab_type": "code",
        "outputId": "0672d940-a815-4478-86f3-dbfa15e18ed2",
        "colab": {
          "base_uri": "https://localhost:8080/",
          "height": 419
        }
      },
      "source": [
        "#Removing space between column names\n",
        "datax.columns = datax.columns.str.replace(' ', '')\n",
        "datax"
      ],
      "execution_count": 64,
      "outputs": [
        {
          "output_type": "execute_result",
          "data": {
            "text/html": [
              "<div>\n",
              "<style scoped>\n",
              "    .dataframe tbody tr th:only-of-type {\n",
              "        vertical-align: middle;\n",
              "    }\n",
              "\n",
              "    .dataframe tbody tr th {\n",
              "        vertical-align: top;\n",
              "    }\n",
              "\n",
              "    .dataframe thead th {\n",
              "        text-align: right;\n",
              "    }\n",
              "</style>\n",
              "<table border=\"1\" class=\"dataframe\">\n",
              "  <thead>\n",
              "    <tr style=\"text-align: right;\">\n",
              "      <th></th>\n",
              "      <th>_id</th>\n",
              "      <th>Id</th>\n",
              "      <th>Agency</th>\n",
              "      <th>AgencyDivision</th>\n",
              "      <th>EmployeeName</th>\n",
              "      <th>PositionTitle</th>\n",
              "      <th>PeriodPayRate</th>\n",
              "      <th>YTDGross</th>\n",
              "    </tr>\n",
              "  </thead>\n",
              "  <tbody>\n",
              "    <tr>\n",
              "      <th>0</th>\n",
              "      <td>1</td>\n",
              "      <td>29972</td>\n",
              "      <td>1</td>\n",
              "      <td>ALPLM CONTRACTUAL EMPLOYEES</td>\n",
              "      <td>CHRISTIAN MCWHIRTER</td>\n",
              "      <td>CONTRACTUAL WORKER</td>\n",
              "      <td>3600</td>\n",
              "      <td>7200</td>\n",
              "    </tr>\n",
              "    <tr>\n",
              "      <th>1</th>\n",
              "      <td>2</td>\n",
              "      <td>62379</td>\n",
              "      <td>0</td>\n",
              "      <td>ALPLM CONTRACTUAL EMPLOYEES</td>\n",
              "      <td>CORY BLISSETT</td>\n",
              "      <td>CONTRACTUAL WORKER</td>\n",
              "      <td>400</td>\n",
              "      <td>6000</td>\n",
              "    </tr>\n",
              "    <tr>\n",
              "      <th>2</th>\n",
              "      <td>3</td>\n",
              "      <td>90108</td>\n",
              "      <td>2</td>\n",
              "      <td>ALPLM CONTRACTUAL EMPLOYEES</td>\n",
              "      <td>TEST 3</td>\n",
              "      <td>CONTRACTUAL WORKER</td>\n",
              "      <td>8600</td>\n",
              "      <td>8200</td>\n",
              "    </tr>\n",
              "    <tr>\n",
              "      <th>3</th>\n",
              "      <td>4</td>\n",
              "      <td>58565</td>\n",
              "      <td>0</td>\n",
              "      <td>ALPLM CONTRACTUAL EMPLOYEES</td>\n",
              "      <td>GAYLE NEWENHAM</td>\n",
              "      <td>CONTRACTUAL WORKER</td>\n",
              "      <td>2200</td>\n",
              "      <td>38100</td>\n",
              "    </tr>\n",
              "    <tr>\n",
              "      <th>4</th>\n",
              "      <td>5</td>\n",
              "      <td>67109</td>\n",
              "      <td>0</td>\n",
              "      <td>ALPLM CONTRACTUAL EMPLOYEES</td>\n",
              "      <td>JACOB DETERS</td>\n",
              "      <td>CONTRACTUAL WORKER</td>\n",
              "      <td>300</td>\n",
              "      <td>9300</td>\n",
              "    </tr>\n",
              "    <tr>\n",
              "      <th>...</th>\n",
              "      <td>...</td>\n",
              "      <td>...</td>\n",
              "      <td>...</td>\n",
              "      <td>...</td>\n",
              "      <td>...</td>\n",
              "      <td>...</td>\n",
              "      <td>...</td>\n",
              "      <td>...</td>\n",
              "    </tr>\n",
              "    <tr>\n",
              "      <th>113613</th>\n",
              "      <td>113614</td>\n",
              "      <td>77066</td>\n",
              "      <td>31</td>\n",
              "      <td>CONTRACTUAL SERVICES</td>\n",
              "      <td>CHRISTINE GOOD-DEAL</td>\n",
              "      <td>CONTRACTUAL WORKER</td>\n",
              "      <td>500</td>\n",
              "      <td>95000</td>\n",
              "    </tr>\n",
              "    <tr>\n",
              "      <th>113614</th>\n",
              "      <td>113615</td>\n",
              "      <td>94640</td>\n",
              "      <td>31</td>\n",
              "      <td>CONTRACTUAL SERVICES</td>\n",
              "      <td>JILL BRUINGTON</td>\n",
              "      <td>CONTRACTUAL WORKER</td>\n",
              "      <td>100</td>\n",
              "      <td>73400</td>\n",
              "    </tr>\n",
              "    <tr>\n",
              "      <th>113615</th>\n",
              "      <td>113616</td>\n",
              "      <td>11114</td>\n",
              "      <td>31</td>\n",
              "      <td>CONTRACTUAL SERVICES</td>\n",
              "      <td>MARGARET BRADSHAW</td>\n",
              "      <td>CONTRACTUAL WORKER</td>\n",
              "      <td>100</td>\n",
              "      <td>900</td>\n",
              "    </tr>\n",
              "    <tr>\n",
              "      <th>113616</th>\n",
              "      <td>113617</td>\n",
              "      <td>99032</td>\n",
              "      <td>31</td>\n",
              "      <td>CONTRACTUAL SERVICES</td>\n",
              "      <td>MARK HAYWARD</td>\n",
              "      <td>CONTRACTUAL WORKER</td>\n",
              "      <td>1400</td>\n",
              "      <td>62300</td>\n",
              "    </tr>\n",
              "    <tr>\n",
              "      <th>113617</th>\n",
              "      <td>113618</td>\n",
              "      <td>72504</td>\n",
              "      <td>55</td>\n",
              "      <td>CONTRACTUAL SERVICES</td>\n",
              "      <td>BRETT DIERCKS</td>\n",
              "      <td>CONTRACTUAL WORKER</td>\n",
              "      <td>100</td>\n",
              "      <td>100</td>\n",
              "    </tr>\n",
              "  </tbody>\n",
              "</table>\n",
              "<p>113618 rows × 8 columns</p>\n",
              "</div>"
            ],
            "text/plain": [
              "           _id     Id  Agency  ...       PositionTitle PeriodPayRate YTDGross\n",
              "0            1  29972       1  ...  CONTRACTUAL WORKER          3600     7200\n",
              "1            2  62379       0  ...  CONTRACTUAL WORKER           400     6000\n",
              "2            3  90108       2  ...  CONTRACTUAL WORKER          8600     8200\n",
              "3            4  58565       0  ...  CONTRACTUAL WORKER          2200    38100\n",
              "4            5  67109       0  ...  CONTRACTUAL WORKER           300     9300\n",
              "...        ...    ...     ...  ...                 ...           ...      ...\n",
              "113613  113614  77066      31  ...  CONTRACTUAL WORKER           500    95000\n",
              "113614  113615  94640      31  ...  CONTRACTUAL WORKER           100    73400\n",
              "113615  113616  11114      31  ...  CONTRACTUAL WORKER           100      900\n",
              "113616  113617  99032      31  ...  CONTRACTUAL WORKER          1400    62300\n",
              "113617  113618  72504      55  ...  CONTRACTUAL WORKER           100      100\n",
              "\n",
              "[113618 rows x 8 columns]"
            ]
          },
          "metadata": {
            "tags": []
          },
          "execution_count": 64
        }
      ]
    },
    {
      "cell_type": "code",
      "metadata": {
        "id": "5Tm3uNMxrGs-",
        "colab_type": "code",
        "outputId": "e3065e90-fd3e-4eb5-ff63-5e6219172e89",
        "colab": {
          "base_uri": "https://localhost:8080/",
          "height": 221
        }
      },
      "source": [
        "datax['Agency'].unique"
      ],
      "execution_count": 0,
      "outputs": [
        {
          "output_type": "execute_result",
          "data": {
            "text/plain": [
              "<bound method Series.unique of 0          ABE LINCOLN PRES LIBRARY MUS2\n",
              "1         ABE LINCOLN PRES LIBRARY & MUS\n",
              "2          ABE LINCOLN PRES LIBRARY MUS3\n",
              "3         ABE LINCOLN PRES LIBRARY & MUS\n",
              "4         ABE LINCOLN PRES LIBRARY & MUS\n",
              "                       ...              \n",
              "113613                    HUMAN SERVICES\n",
              "113614                    HUMAN SERVICES\n",
              "113615                    HUMAN SERVICES\n",
              "113616                    HUMAN SERVICES\n",
              "113617                 NATURAL RESOURCES\n",
              "Name: Agency, Length: 113618, dtype: object>"
            ]
          },
          "metadata": {
            "tags": []
          },
          "execution_count": 30
        }
      ]
    },
    {
      "cell_type": "code",
      "metadata": {
        "id": "8FLPZtP7L-lD",
        "colab_type": "code",
        "colab": {}
      },
      "source": [
        "from sklearn.preprocessing import LabelEncoder\n",
        "\n",
        "lb_make = LabelEncoder()\n",
        "datax['Id'] = lb_make.fit_transform(datax['Id'])\n",
        "datax['Agency'] = lb_make.fit_transform(datax['Agency'])\n",
        "#datax['AgencyDivision'] = lb_make.fit_transform(datax['AgencyDivision'])\n",
        "#datax['EmployeeName'] = lb_make.fit_transform(datax['EmployeeName'])\n",
        "#datax['PositionTitle'] = lb_make.fit_transform(datax['PositionTitle'])\n",
        "\n"
      ],
      "execution_count": 0,
      "outputs": []
    },
    {
      "cell_type": "markdown",
      "metadata": {
        "id": "dtrezM8ryA3m",
        "colab_type": "text"
      },
      "source": [
        "**Plotting the Data**"
      ]
    },
    {
      "cell_type": "code",
      "metadata": {
        "id": "aqj58OQkx4e_",
        "colab_type": "code",
        "colab": {
          "base_uri": "https://localhost:8080/",
          "height": 297
        },
        "outputId": "f83cea2c-e8fe-4861-f77e-dbe4180ea275"
      },
      "source": [
        "import matplotlib.pyplot as plt\n",
        "% matplotlib inline\n",
        "# Create a scatter plot using the 'Agency' and 'EmployeeName'\n",
        "# Note that in order to reach a result resembling the world map, we must use the longitude as y, and the latitude as x\n",
        "%matplotlib inline\n",
        "import seaborn as sns\n",
        "import matplotlib.pyplot as plt\n",
        "datax_count = datax['Agency'].value_counts()\n",
        "sns.set(style=\"darkgrid\")\n",
        "sns.barplot(datax_count.index, datax_count.values, alpha=1.0)\n",
        "plt.title('Emplyee distribution across Agencies',fontsize=12)\n",
        "plt.ylabel('Number of Occurrences', fontsize=8)\n",
        "plt.xlabel('Agency', fontsize=12)\n",
        "plt.figsize=(20,80)\n",
        "plt.xticks(rotation=90,fontsize=5)\n",
        "plt.show()\n"
      ],
      "execution_count": 98,
      "outputs": [
        {
          "output_type": "display_data",
          "data": {
            "image/png": "[encoded data removed]",
            "text/plain": [
              "<Figure size 432x288 with 1 Axes>"
            ]
          },
          "metadata": {
            "tags": []
          }
        }
      ]
    },
    {
      "cell_type": "code",
      "metadata": {
        "id": "neRSUxO8KcFa",
        "colab_type": "code",
        "colab": {
          "base_uri": "https://localhost:8080/",
          "height": 419
        },
        "outputId": "dc43ebe2-ffd3-400d-9615-4a0d50d2e319"
      },
      "source": [
        "#Since we want to cluster our dataset depending on location, we are going to extract the Agency and Employee name and use them as our input while clustering\n",
        "# To achieve this we will use panda's method .iloc to slice the columns we want from the dataset.\n",
        "# The first argument of this method identifies the rows we want to keep\n",
        "# The second - the columns\n",
        "# In our case, we want to keep all rows and the 1 and 2 colummn.\n",
        "# Note: Python column indices start from 0\n",
        "\n",
        "x = datax.iloc[:, 2:3]\n",
        "\n",
        "# Check if we got the 1 and 2 column\n",
        "x"
      ],
      "execution_count": 69,
      "outputs": [
        {
          "output_type": "execute_result",
          "data": {
            "text/html": [
              "<div>\n",
              "<style scoped>\n",
              "    .dataframe tbody tr th:only-of-type {\n",
              "        vertical-align: middle;\n",
              "    }\n",
              "\n",
              "    .dataframe tbody tr th {\n",
              "        vertical-align: top;\n",
              "    }\n",
              "\n",
              "    .dataframe thead th {\n",
              "        text-align: right;\n",
              "    }\n",
              "</style>\n",
              "<table border=\"1\" class=\"dataframe\">\n",
              "  <thead>\n",
              "    <tr style=\"text-align: right;\">\n",
              "      <th></th>\n",
              "      <th>Agency</th>\n",
              "    </tr>\n",
              "  </thead>\n",
              "  <tbody>\n",
              "    <tr>\n",
              "      <th>0</th>\n",
              "      <td>1</td>\n",
              "    </tr>\n",
              "    <tr>\n",
              "      <th>1</th>\n",
              "      <td>0</td>\n",
              "    </tr>\n",
              "    <tr>\n",
              "      <th>2</th>\n",
              "      <td>2</td>\n",
              "    </tr>\n",
              "    <tr>\n",
              "      <th>3</th>\n",
              "      <td>0</td>\n",
              "    </tr>\n",
              "    <tr>\n",
              "      <th>4</th>\n",
              "      <td>0</td>\n",
              "    </tr>\n",
              "    <tr>\n",
              "      <th>...</th>\n",
              "      <td>...</td>\n",
              "    </tr>\n",
              "    <tr>\n",
              "      <th>113613</th>\n",
              "      <td>31</td>\n",
              "    </tr>\n",
              "    <tr>\n",
              "      <th>113614</th>\n",
              "      <td>31</td>\n",
              "    </tr>\n",
              "    <tr>\n",
              "      <th>113615</th>\n",
              "      <td>31</td>\n",
              "    </tr>\n",
              "    <tr>\n",
              "      <th>113616</th>\n",
              "      <td>31</td>\n",
              "    </tr>\n",
              "    <tr>\n",
              "      <th>113617</th>\n",
              "      <td>55</td>\n",
              "    </tr>\n",
              "  </tbody>\n",
              "</table>\n",
              "<p>113618 rows × 1 columns</p>\n",
              "</div>"
            ],
            "text/plain": [
              "        Agency\n",
              "0            1\n",
              "1            0\n",
              "2            2\n",
              "3            0\n",
              "4            0\n",
              "...        ...\n",
              "113613      31\n",
              "113614      31\n",
              "113615      31\n",
              "113616      31\n",
              "113617      55\n",
              "\n",
              "[113618 rows x 1 columns]"
            ]
          },
          "metadata": {
            "tags": []
          },
          "execution_count": 69
        }
      ]
    },
    {
      "cell_type": "markdown",
      "metadata": {
        "id": "St2mA4m4LYvV",
        "colab_type": "text"
      },
      "source": [
        "**Clusteri**ng"
      ]
    },
    {
      "cell_type": "code",
      "metadata": {
        "id": "NMiRlAUPLL89",
        "colab_type": "code",
        "colab": {
          "base_uri": "https://localhost:8080/",
          "height": 68
        },
        "outputId": "c8f92c4e-e5c4-4c4e-bfd4-8fd8c79c9133"
      },
      "source": [
        "# Create an object from the KMeans method we imported from sklearn library\n",
        "# The argument in the Kmean method indicates the number of clusters we are aiming for. \n",
        "# We will use this object for clustering\n",
        "kmeans = KMeans(10)\n",
        "\n",
        "# calling the fit method on the object we created and then using our input as x.\n",
        "kmeans.fit(x)"
      ],
      "execution_count": 105,
      "outputs": [
        {
          "output_type": "execute_result",
          "data": {
            "text/plain": [
              "KMeans(algorithm='auto', copy_x=True, init='k-means++', max_iter=300,\n",
              "       n_clusters=10, n_init=10, n_jobs=None, precompute_distances='auto',\n",
              "       random_state=None, tol=0.0001, verbose=0)"
            ]
          },
          "metadata": {
            "tags": []
          },
          "execution_count": 105
        }
      ]
    },
    {
      "cell_type": "code",
      "metadata": {
        "id": "PcgLsyRQPQPX",
        "colab_type": "code",
        "colab": {
          "base_uri": "https://localhost:8080/",
          "height": 34
        },
        "outputId": "7bb03817-e93d-4d8b-9173-f60f2e657ff8"
      },
      "source": [
        "# Now that we have performed clustering, we need to obtain the predicted clusters for each observation by using the fit_predict method from sklearn.\n",
        "\n",
        "# Create a variable which will contain the predicted clusters for each observation\n",
        "identified_clusters = kmeans.fit_predict(x)\n",
        "# Check the result\n",
        "identified_clusters\n",
        "\n",
        "# The result is an array containing the predicted clusters. There are 10 clusters ."
      ],
      "execution_count": 109,
      "outputs": [
        {
          "output_type": "execute_result",
          "data": {
            "text/plain": [
              "array([8, 8, 8, ..., 2, 2, 9], dtype=int32)"
            ]
          },
          "metadata": {
            "tags": []
          },
          "execution_count": 109
        }
      ]
    },
    {
      "cell_type": "code",
      "metadata": {
        "id": "XlJbBlV9PdNr",
        "colab_type": "code",
        "colab": {
          "base_uri": "https://localhost:8080/",
          "height": 255
        },
        "outputId": "1a313b6b-f6e3-4d93-99d1-60d1532f0058"
      },
      "source": [
        "# Create a copy of the data\n",
        "data_with_clusters = datax.copy()\n",
        "# Create a new Series, containing the identified cluster for each observation\n",
        "data_with_clusters['Cluster'] = identified_clusters\n",
        "# Check the result\n",
        "data_with_clusters.count"
      ],
      "execution_count": 111,
      "outputs": [
        {
          "output_type": "execute_result",
          "data": {
            "text/plain": [
              "<bound method DataFrame.count of            _id     Id  Agency  ... PeriodPayRate YTDGross Cluster\n",
              "0            1  29972       1  ...          3600     7200       8\n",
              "1            2  62379       0  ...           400     6000       8\n",
              "2            3  90108       2  ...          8600     8200       8\n",
              "3            4  58565       0  ...          2200    38100       8\n",
              "4            5  67109       0  ...           300     9300       8\n",
              "...        ...    ...     ...  ...           ...      ...     ...\n",
              "113613  113614  77066      31  ...           500    95000       2\n",
              "113614  113615  94640      31  ...           100    73400       2\n",
              "113615  113616  11114      31  ...           100      900       2\n",
              "113616  113617  99032      31  ...          1400    62300       2\n",
              "113617  113618  72504      55  ...           100      100       9\n",
              "\n",
              "[113618 rows x 9 columns]>"
            ]
          },
          "metadata": {
            "tags": []
          },
          "execution_count": 111
        }
      ]
    },
    {
      "cell_type": "code",
      "metadata": {
        "id": "XHD_yDHAP8h8",
        "colab_type": "code",
        "colab": {
          "base_uri": "https://localhost:8080/",
          "height": 268
        },
        "outputId": "ee8471a1-cabc-4ad0-8f42-8c1b220ccbe3"
      },
      "source": [
        "# Plot the data \n",
        "# c (color) is an argument which could be coded with a variable \n",
        "# The variable in this case has values 0,1,2, indicating to plt.scatter, that there are three colors (0,1,2)\n",
        "# All points in cluster 0 will be the same colour, all points in cluster 1 - another one, etc.\n",
        "# cmap is the color map. Rainbow is a nice one, but you can check others here: https://matplotlib.org/users/colormaps.html\n",
        "plt.scatter(data_with_clusters['Agency'],data_with_clusters['Id'],c=data_with_clusters['Cluster'],cmap='rainbow')\n",
        "plt.xlim(-10,80)\n",
        "plt.ylim(0,150000)\n",
        "plt.show()"
      ],
      "execution_count": 112,
      "outputs": [
        {
          "output_type": "display_data",
          "data": {
            "image/png": "[encoded data removed]",
            "text/plain": [
              "<Figure size 432x288 with 1 Axes>"
            ]
          },
          "metadata": {
            "tags": []
          }
        }
      ]
    }
  ]
}