{
  "nbformat": 4,
  "nbformat_minor": 0,
  "metadata": {
    "colab": {
      "name": "Copy of Python Data Cleaning and Analysis - Ebola Response Laboratories",
      "provenance": [],
      "collapsed_sections": [
        "VSnOCZ5-IPCi",
        "HToJZ2gBPawZ",
        "IICLGbvBRYHq",
        "RAVzK5O6IR8v",
        "R9S2o1WXIhq1",
        "zXg8ynKSumXG",
        "NicC8P9LMjvO"
      ],
      "toc_visible": true,
      "include_colab_link": true
    },
    "kernelspec": {
      "name": "python3",
      "display_name": "Python 3"
    }
  },
  "cells": [
    {
      "cell_type": "markdown",
      "metadata": {
        "id": "view-in-github",
        "colab_type": "text"
      },
      "source": [
        "<a href=\"https://colab.research.google.com/github/abel-keya/moringa-school-projects/blob/master/Copy_of_Python_Data_Cleaning_and_Analysis_Ebola_Response_Laboratories.ipynb\" target=\"_parent\"><img src=\"https://colab.research.google.com/assets/colab-badge.svg\" alt=\"Open In Colab\"/></a>"
      ]
    },
    {
      "cell_type": "markdown",
      "metadata": {
        "id": "RsI07p7A5122",
        "colab_type": "text"
      },
      "source": [
        "<font color=\"green\">*To start working on this notebook, or any other notebook that we will use in the Moringa Data Science Course, we will need to save our own copy of it. We can do this by clicking File > Save a Copy in Drive. We will then be able to make edits to our own copy of this notebook.*</font>"
      ]
    },
    {
      "cell_type": "markdown",
      "metadata": {
        "id": "m0tgCkvzPLEa",
        "colab_type": "text"
      },
      "source": [
        "# Python Data Cleaning and Analysis - Ebola Response Laboratories"
      ]
    },
    {
      "cell_type": "markdown",
      "metadata": {
        "colab_type": "text",
        "id": "VSnOCZ5-IPCi"
      },
      "source": [
        "## 1.0 Importing our Libraries"
      ]
    },
    {
      "cell_type": "code",
      "metadata": {
        "id": "3r-KDLvrO44a",
        "colab_type": "code",
        "colab": {}
      },
      "source": [
        "# Importing the libraries we will need \n",
        "\n",
        "# Importing the pandas library\n",
        "# \n",
        "OUR CODE GOES HERE\n",
        "\n",
        "# Importing the numpy library\n",
        "#\n",
        "OUR CODE GOES HERE"
      ],
      "execution_count": 0,
      "outputs": []
    },
    {
      "cell_type": "markdown",
      "metadata": {
        "id": "HToJZ2gBPawZ",
        "colab_type": "text"
      },
      "source": [
        "## 1.1 Reading the Dataset from our CSV file\n",
        "\n"
      ]
    },
    {
      "cell_type": "markdown",
      "metadata": {
        "id": "LBUr8VUXQX-K",
        "colab_type": "text"
      },
      "source": [
        "The dataset we will use contains a List of Ebola Response Laboratories.\n",
        "\n",
        "*   Dataset link for download or access: [Link](https://drive.google.com/a/moringaschool.com/file/d/1Mxi52FoIk2V3Qr88W3yd6dSubcfhxVfI/view?usp=sharing)\n",
        "\n",
        "\n",
        "\n"
      ]
    },
    {
      "cell_type": "code",
      "metadata": {
        "id": "1acwmZanRNHs",
        "colab_type": "code",
        "colab": {}
      },
      "source": [
        "# Let's read the data from the CSV file and create the dataframe to be used\n",
        "# \n",
        "OUR CODE GOES HERE"
      ],
      "execution_count": 0,
      "outputs": []
    },
    {
      "cell_type": "markdown",
      "metadata": {
        "id": "IICLGbvBRYHq",
        "colab_type": "text"
      },
      "source": [
        "## 1.2 Previewing our Dataset\n"
      ]
    },
    {
      "cell_type": "code",
      "metadata": {
        "id": "WrwHg-hzR5BY",
        "colab_type": "code",
        "colab": {}
      },
      "source": [
        "# Let's preview the first 10 rows of our data\n",
        "# \n",
        "OUR CODE GOES HERE"
      ],
      "execution_count": 0,
      "outputs": []
    },
    {
      "cell_type": "markdown",
      "metadata": {
        "id": "RAVzK5O6IR8v",
        "colab_type": "text"
      },
      "source": [
        "## 1.3 Accessing Information about our Dataset"
      ]
    },
    {
      "cell_type": "code",
      "metadata": {
        "id": "0d2kfemDIYWI",
        "colab_type": "code",
        "colab": {}
      },
      "source": [
        "# Getting to know more about the dataset by accessing its information\n",
        "#\n",
        "OUR CODE GOES HERE"
      ],
      "execution_count": 0,
      "outputs": []
    },
    {
      "cell_type": "markdown",
      "metadata": {
        "id": "R9S2o1WXIhq1",
        "colab_type": "text"
      },
      "source": [
        "## 1.4 Cleaning our Dataset"
      ]
    },
    {
      "cell_type": "markdown",
      "metadata": {
        "id": "rSUDNXHZ7HwE",
        "colab_type": "text"
      },
      "source": [
        "Let us perform data cleaning procedures below providing a documentation for our data cleaning actions and reasons. We will perform as many data cleaning procedures as we think suitable for the various dimensions of data."
      ]
    },
    {
      "cell_type": "markdown",
      "metadata": {
        "id": "mldhwiK17J9u",
        "colab_type": "text"
      },
      "source": [
        "### 1.41) Validity: <font color=\"green\">Challenges</font>"
      ]
    },
    {
      "cell_type": "code",
      "metadata": {
        "id": "XqYObFb77Mqh",
        "colab_type": "code",
        "colab": {}
      },
      "source": [
        "# Procedure 1: \n",
        "# Data Cleaning Action:\n",
        "# Explanation:\n",
        "#\n",
        "OUR CODE GOES HERE"
      ],
      "execution_count": 0,
      "outputs": []
    },
    {
      "cell_type": "code",
      "metadata": {
        "id": "4w7_LAU87NZP",
        "colab_type": "code",
        "colab": {}
      },
      "source": [
        "# Procedure 2:\n",
        "# Data Cleaning Action:\n",
        "# Explanation:\n",
        "#\n",
        "OUR CODE GOES HERE"
      ],
      "execution_count": 0,
      "outputs": []
    },
    {
      "cell_type": "code",
      "metadata": {
        "id": "k3sORqKy7NCk",
        "colab_type": "code",
        "colab": {}
      },
      "source": [
        "# Procedure 3:\n",
        "# Data Cleaning Action:\n",
        "# Explanation:\n",
        "#\n",
        "OUR CODE GOES HERE"
      ],
      "execution_count": 0,
      "outputs": []
    },
    {
      "cell_type": "markdown",
      "metadata": {
        "id": "8HLg42o37N6U",
        "colab_type": "text"
      },
      "source": [
        "### 1.42) Accuracy <font color=\"green\">Challenges</font>"
      ]
    },
    {
      "cell_type": "code",
      "metadata": {
        "id": "aojVeoj57RpI",
        "colab_type": "code",
        "colab": {}
      },
      "source": [
        "# Procedure 1: \n",
        "# Data Cleaning Action:\n",
        "# Explanation:\n",
        "#\n",
        "OUR CODE GOES HERE"
      ],
      "execution_count": 0,
      "outputs": []
    },
    {
      "cell_type": "markdown",
      "metadata": {
        "id": "QtZESWqC7THB",
        "colab_type": "text"
      },
      "source": [
        "### 1.43) Completeness <font color=\"green\">Challenges</font>"
      ]
    },
    {
      "cell_type": "code",
      "metadata": {
        "id": "a90B-dMH7XGy",
        "colab_type": "code",
        "colab": {}
      },
      "source": [
        "# Procedure 1: \n",
        "# Data Cleaning Action:\n",
        "# Explanation:\n",
        "#\n",
        "OUR CODE GOES HERE"
      ],
      "execution_count": 0,
      "outputs": []
    },
    {
      "cell_type": "code",
      "metadata": {
        "id": "pdXMvIQp7W99",
        "colab_type": "code",
        "colab": {}
      },
      "source": [
        "# Procedure 2:\n",
        "# Data Cleaning Action:\n",
        "# Explanation:\n",
        "#\n",
        "OUR CODE GOES HERE"
      ],
      "execution_count": 0,
      "outputs": []
    },
    {
      "cell_type": "markdown",
      "metadata": {
        "id": "pIWJDxx77Y1Z",
        "colab_type": "text"
      },
      "source": [
        "### 1.44) Consitency: <font color=\"green\">Challenges</font>"
      ]
    },
    {
      "cell_type": "code",
      "metadata": {
        "id": "a8rdeZKM7b_k",
        "colab_type": "code",
        "colab": {}
      },
      "source": [
        "# Procedure 1: \n",
        "# Data Cleaning Action:\n",
        "# Explanation:\n",
        "#\n",
        "OUR CODE GOES HERE"
      ],
      "execution_count": 0,
      "outputs": []
    },
    {
      "cell_type": "code",
      "metadata": {
        "id": "5QDWkGP67b1T",
        "colab_type": "code",
        "colab": {}
      },
      "source": [
        "# Procedure 2:\n",
        "# Data Cleaning Action:\n",
        "# Explanation:\n",
        "#\n",
        "OUR CODE GOES HERE"
      ],
      "execution_count": 0,
      "outputs": []
    },
    {
      "cell_type": "markdown",
      "metadata": {
        "id": "zRw4YOnc7gTS",
        "colab_type": "text"
      },
      "source": [
        "### 1.45) Uniformity: <font color=\"green\">Challenges<font/>"
      ]
    },
    {
      "cell_type": "code",
      "metadata": {
        "id": "pqTkWZCy7h0z",
        "colab_type": "code",
        "colab": {}
      },
      "source": [
        "# Procedure 1: \n",
        "# Data Cleaning Action:\n",
        "# Explanation:\n",
        "#\n",
        "OUR CODE GOES HERE"
      ],
      "execution_count": 0,
      "outputs": []
    },
    {
      "cell_type": "code",
      "metadata": {
        "id": "oBsOxps-7hoB",
        "colab_type": "code",
        "colab": {}
      },
      "source": [
        "# Procedure 2:\n",
        "# Data Cleaning Action:\n",
        "# Explanation:\n",
        "#\n",
        "OUR CODE GOES HERE"
      ],
      "execution_count": 0,
      "outputs": []
    },
    {
      "cell_type": "markdown",
      "metadata": {
        "id": "zXg8ynKSumXG",
        "colab_type": "text"
      },
      "source": [
        "### Exporting the Cleaned Dataset"
      ]
    },
    {
      "cell_type": "code",
      "metadata": {
        "id": "VmU2CGbUugmJ",
        "colab_type": "code",
        "colab": {}
      },
      "source": [
        "# Let's export our dataframe into a csv file as shown \n",
        "# in the example given in the following line;\n",
        "# daframe.to_csv('example.csv')\n",
        "# In the above case daframe is the dataframe which would like to export.\n",
        "# we use the to_csv function to create a csv file with the name example \n",
        "# and export it\n",
        "#\n",
        "OUR CODE GOES HERE"
      ],
      "execution_count": 0,
      "outputs": []
    },
    {
      "cell_type": "markdown",
      "metadata": {
        "id": "NicC8P9LMjvO",
        "colab_type": "text"
      },
      "source": [
        "## 1.5 Answering Questions"
      ]
    },
    {
      "cell_type": "markdown",
      "metadata": {
        "id": "8izhaW7UNYGJ",
        "colab_type": "text"
      },
      "source": [
        "Let's answer the following questions with our dataset:"
      ]
    },
    {
      "cell_type": "code",
      "metadata": {
        "id": "tTOgnXvuMxcn",
        "colab_type": "code",
        "colab": {}
      },
      "source": [
        "# Challenge 1\n",
        "# In which countries were the mentioned laboratories were hosted?\n",
        "# \n",
        "OUR CODE GOES HERE"
      ],
      "execution_count": 0,
      "outputs": []
    },
    {
      "cell_type": "code",
      "metadata": {
        "id": "BNegesaWNvQs",
        "colab_type": "code",
        "colab": {}
      },
      "source": [
        "# Challenge 2\n",
        "# Which Laboratories(Name) were hosted in Lybia?\n",
        "#\n",
        "OUR CODE GOES HERE"
      ],
      "execution_count": 0,
      "outputs": []
    },
    {
      "cell_type": "code",
      "metadata": {
        "id": "7tilTerhNyiP",
        "colab_type": "code",
        "colab": {}
      },
      "source": [
        "# Challenge 3\n",
        "# Who were the owners of the laboratories in Sierra Leone?\n",
        "# \n",
        "OUR CODE GOES HERE"
      ],
      "execution_count": 0,
      "outputs": []
    },
    {
      "cell_type": "code",
      "metadata": {
        "id": "rhXeHa6IOBsq",
        "colab_type": "code",
        "colab": {}
      },
      "source": [
        "# Challenge 4\n",
        "# Where were the laboratories in Guinea located?\n",
        "# \n",
        "OUR CODE GOES HERE"
      ],
      "execution_count": 0,
      "outputs": []
    },
    {
      "cell_type": "code",
      "metadata": {
        "id": "wddDP6yCOD_F",
        "colab_type": "code",
        "colab": {}
      },
      "source": [
        "# Challenge 5\n",
        "# What were the accredition bodies for the laboratory bodies?\n",
        "# \n",
        "OUR CODE GOES HERE"
      ],
      "execution_count": 0,
      "outputs": []
    },
    {
      "cell_type": "code",
      "metadata": {
        "id": "OemJ0HDYOHCq",
        "colab_type": "code",
        "colab": {}
      },
      "source": [
        "# Challenge 6\n",
        "# What was the test capacity for laboratories in Liberia?\n",
        "# \n",
        "OUR CODE GOES HERE"
      ],
      "execution_count": 0,
      "outputs": []
    },
    {
      "cell_type": "code",
      "metadata": {
        "id": "CIxC5arSOLak",
        "colab_type": "code",
        "colab": {}
      },
      "source": [
        "# Challenge 7\n",
        "# What was the average test capacity for all the laboratories?\n",
        "# \n",
        "OUR CODE GOES HERE"
      ],
      "execution_count": 0,
      "outputs": []
    },
    {
      "cell_type": "code",
      "metadata": {
        "id": "gSjjnw56OP8O",
        "colab_type": "code",
        "colab": {}
      },
      "source": [
        "# Challenge 8\n",
        "# What were the lab codes of the functional laboratories?\n",
        "# \n",
        "OUR CODE GOES HERE"
      ],
      "execution_count": 0,
      "outputs": []
    },
    {
      "cell_type": "code",
      "metadata": {
        "id": "UZLYqF7UOTtu",
        "colab_type": "code",
        "colab": {}
      },
      "source": [
        "# Challenge 9\n",
        "# Which country had the most functional laboratories?\n",
        "# \n",
        "OUR CODE GOES HERE"
      ],
      "execution_count": 0,
      "outputs": []
    },
    {
      "cell_type": "code",
      "metadata": {
        "id": "1qk8wF3MOXDu",
        "colab_type": "code",
        "colab": {}
      },
      "source": [
        "# Challenge 10\n",
        "# What was the location of the laboratory with the largest test capacity?\n",
        "# \n",
        "OUR CODE GOES HERE"
      ],
      "execution_count": 0,
      "outputs": []
    },
    {
      "cell_type": "code",
      "metadata": {
        "id": "8xkStdjdXS3w",
        "colab_type": "code",
        "colab": {}
      },
      "source": [
        "# Challenge 11\n",
        "# What was percentage of functional laboratories?\n",
        "#\n",
        "OUR CODE GOES HERE"
      ],
      "execution_count": 0,
      "outputs": []
    },
    {
      "cell_type": "code",
      "metadata": {
        "id": "rgVsXH_5XVCh",
        "colab_type": "code",
        "colab": {}
      },
      "source": [
        "# Challenge 12\n",
        "# How many laborabory owners were there?\n",
        "#\n",
        "OUR CODE GOES HERE"
      ],
      "execution_count": 0,
      "outputs": []
    },
    {
      "cell_type": "code",
      "metadata": {
        "id": "XvvFWhuDXXeP",
        "colab_type": "code",
        "colab": {}
      },
      "source": [
        "# Challenge 13\n",
        "# Who was the laborabory owner with the majority of laboratories?\n",
        "#\n",
        "OUR CODE GOES HERE"
      ],
      "execution_count": 0,
      "outputs": []
    },
    {
      "cell_type": "code",
      "metadata": {
        "id": "q1iq02FuXc2R",
        "colab_type": "code",
        "colab": {}
      },
      "source": [
        "# Challenge 14\n",
        "# Which functional laborabory had the the highest test capacity?\n",
        "#\n",
        "OUR CODE GOES HERE"
      ],
      "execution_count": 0,
      "outputs": []
    },
    {
      "cell_type": "code",
      "metadata": {
        "id": "drAWpxBZXhcF",
        "colab_type": "code",
        "colab": {}
      },
      "source": [
        "# Challenge 15 \n",
        "# Who were the owners of the laboratories and what no. of laboratories did they own?\n",
        "# \n",
        "OUR CODE GOES HERE"
      ],
      "execution_count": 0,
      "outputs": []
    }
  ]
}