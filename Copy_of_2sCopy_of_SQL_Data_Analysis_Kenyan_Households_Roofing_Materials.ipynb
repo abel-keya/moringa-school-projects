{
  "nbformat": 4,
  "nbformat_minor": 0,
  "metadata": {
    "colab": {
      "name": "Copy of 2sCopy of SQL Data Analysis: Kenyan Households Roofing Materials",
      "provenance": [],
      "collapsed_sections": [
        "VSnOCZ5-IPCi",
        "HToJZ2gBPawZ",
        "IICLGbvBRYHq",
        "RAVzK5O6IR8v",
        "NicC8P9LMjvO"
      ],
      "include_colab_link": true
    },
    "kernelspec": {
      "name": "python3",
      "display_name": "Python 3"
    }
  },
  "cells": [
    {
      "cell_type": "markdown",
      "metadata": {
        "id": "view-in-github",
        "colab_type": "text"
      },
      "source": [
        "<a href=\"https://colab.research.google.com/github/abel-keya/moringa-school-projects/blob/master/Copy_of_2sCopy_of_SQL_Data_Analysis_Kenyan_Households_Roofing_Materials.ipynb\" target=\"_parent\"><img src=\"https://colab.research.google.com/assets/colab-badge.svg\" alt=\"Open In Colab\"/></a>"
      ]
    },
    {
      "cell_type": "markdown",
      "metadata": {
        "id": "v10LL6vuBqBk",
        "colab_type": "text"
      },
      "source": [
        "<font color=\"green\">*To start working on this notebook, or any other notebook that we will use in the Moringa Data Science Course, we will need to save our own copy of it. We can do this by clicking File > Save a Copy in Drive. We will then be able to make edits to our own copy of this notebook.*</font>"
      ]
    },
    {
      "cell_type": "markdown",
      "metadata": {
        "id": "m0tgCkvzPLEa",
        "colab_type": "text"
      },
      "source": [
        "# SQL Data Analysis: Kenyan Households Roofing Materials"
      ]
    },
    {
      "cell_type": "markdown",
      "metadata": {
        "colab_type": "text",
        "id": "VSnOCZ5-IPCi"
      },
      "source": [
        "## 1.0 Connecting to our Database"
      ]
    },
    {
      "cell_type": "code",
      "metadata": {
        "id": "3r-KDLvrO44a",
        "colab_type": "code",
        "outputId": "d3eb5aa9-1455-4823-cdff-5e3ed2e5bb5a",
        "colab": {
          "base_uri": "https://localhost:8080/",
          "height": 34
        }
      },
      "source": [
        "# We will first load the sql extension into our environment\n",
        "#\n",
        "%load_ext sql\n",
        "\n",
        "# Then connect to our in memory sqlite database\n",
        "# NB: This database will cease to exist as soon as the database connection is closed. \n",
        "#\n",
        "%sql sqlite://"
      ],
      "execution_count": 0,
      "outputs": [
        {
          "output_type": "execute_result",
          "data": {
            "text/plain": [
              "'Connected: @None'"
            ]
          },
          "metadata": {
            "tags": []
          },
          "execution_count": 1
        }
      ]
    },
    {
      "cell_type": "markdown",
      "metadata": {
        "id": "HToJZ2gBPawZ",
        "colab_type": "text"
      },
      "source": [
        "## 1.1 Importing Data from CSV files"
      ]
    },
    {
      "cell_type": "code",
      "metadata": {
        "id": "1acwmZanRNHs",
        "colab_type": "code",
        "colab": {}
      },
      "source": [
        "# Importing the pandas library\n",
        "# We will use a function read_csv from pandas to read our datasets as shown\n",
        "#\n",
        "import pandas as pd "
      ],
      "execution_count": 0,
      "outputs": []
    },
    {
      "cell_type": "code",
      "metadata": {
        "id": "RmreyLDJADqk",
        "colab_type": "code",
        "outputId": "86744d31-b234-41b5-8291-a857fcdc7561",
        "colab": {
          "base_uri": "https://localhost:8080/",
          "height": 420
        }
      },
      "source": [
        "# Loading our table from the respective CSV files\n",
        "# We will export the Households dataset that we have cleaned using python\n",
        "#\n",
        "with open('Roofings.csv','r') as f:\n",
        "    Households = pd.read_csv(f, index_col=0, encoding='utf-8')\n",
        "%sql DROP TABLE if EXISTS Households;\n",
        "%sql PERSIST Households;\n",
        "%sql SELECT * FROM Households LIMIT 5;"
      ],
      "execution_count": 0,
      "outputs": [
        {
          "output_type": "stream",
          "text": [
            " * sqlite://\n",
            "Done.\n",
            " * sqlite://\n",
            " * sqlite://\n",
            "Done.\n"
          ],
          "name": "stdout"
        },
        {
          "output_type": "execute_result",
          "data": {
            "text/html": [
              "<table>\n",
              "    <tr>\n",
              "        <th>index</th>\n",
              "        <th>district</th>\n",
              "        <th>rural_urban</th>\n",
              "        <th>households_corrugated_iron_sheets</th>\n",
              "        <th>households_tiles</th>\n",
              "        <th>households_concrete</th>\n",
              "        <th>asbestos_households_sheets</th>\n",
              "        <th>households_grass</th>\n",
              "        <th>households_makuti</th>\n",
              "        <th>households_tin</th>\n",
              "        <th>households_mud_dung</th>\n",
              "        <th>households_other</th>\n",
              "        <th>households</th>\n",
              "        <th>no_corrugated_iron_sheets</th>\n",
              "        <th>no_tiles</th>\n",
              "        <th>no_concrete</th>\n",
              "        <th>no_asbestos_sheets</th>\n",
              "        <th>no_grass</th>\n",
              "        <th>no_makuti</th>\n",
              "        <th>no_tin</th>\n",
              "        <th>no_mud_dung</th>\n",
              "        <th>no_other</th>\n",
              "        <th>county</th>\n",
              "        <th>mtef</th>\n",
              "        <th>province</th>\n",
              "    </tr>\n",
              "    <tr>\n",
              "        <td>0</td>\n",
              "        <td>NYANDARUA NORTH</td>\n",
              "        <td>Urban</td>\n",
              "        <td>21156.9732</td>\n",
              "        <td>144.0198</td>\n",
              "        <td>37.1664</td>\n",
              "        <td>339.1434</td>\n",
              "        <td>148.6656</td>\n",
              "        <td>6.968699999999999</td>\n",
              "        <td>16.2603</td>\n",
              "        <td>0.0</td>\n",
              "        <td>1379.8026</td>\n",
              "        <td>23229</td>\n",
              "        <td>21156</td>\n",
              "        <td>144</td>\n",
              "        <td>38</td>\n",
              "        <td>338</td>\n",
              "        <td>148</td>\n",
              "        <td>7</td>\n",
              "        <td>17</td>\n",
              "        <td>1</td>\n",
              "        <td>1380</td>\n",
              "        <td>Nyandarua</td>\n",
              "        <td>Physical Infrastructure, Housing</td>\n",
              "        <td>CENTRAL</td>\n",
              "    </tr>\n",
              "    <tr>\n",
              "        <td>1</td>\n",
              "        <td>NYANDARUA SOUTH</td>\n",
              "        <td>Urban</td>\n",
              "        <td>5098.061</td>\n",
              "        <td>25.1215</td>\n",
              "        <td>138.97</td>\n",
              "        <td>78.03699999999999</td>\n",
              "        <td>3.207</td>\n",
              "        <td>0.0</td>\n",
              "        <td>0.0</td>\n",
              "        <td>1.069</td>\n",
              "        <td>1.069</td>\n",
              "        <td>5345</td>\n",
              "        <td>5098</td>\n",
              "        <td>25</td>\n",
              "        <td>139</td>\n",
              "        <td>78</td>\n",
              "        <td>3</td>\n",
              "        <td>0</td>\n",
              "        <td>0</td>\n",
              "        <td>1</td>\n",
              "        <td>1</td>\n",
              "        <td>Nyandarua</td>\n",
              "        <td>Physical Infrastructure, Housing</td>\n",
              "        <td>CENTRAL</td>\n",
              "    </tr>\n",
              "    <tr>\n",
              "        <td>2</td>\n",
              "        <td>NYERI NORTH</td>\n",
              "        <td>Urban</td>\n",
              "        <td>12826.9824</td>\n",
              "        <td>160.5504</td>\n",
              "        <td>740.2368</td>\n",
              "        <td>366.5664</td>\n",
              "        <td>69.61919999999999</td>\n",
              "        <td>11.3664</td>\n",
              "        <td>28.416</td>\n",
              "        <td>1.4208</td>\n",
              "        <td>1.4208</td>\n",
              "        <td>14208</td>\n",
              "        <td>12827</td>\n",
              "        <td>161</td>\n",
              "        <td>740</td>\n",
              "        <td>367</td>\n",
              "        <td>69</td>\n",
              "        <td>11</td>\n",
              "        <td>29</td>\n",
              "        <td>2</td>\n",
              "        <td>2</td>\n",
              "        <td>Nyeri</td>\n",
              "        <td>Physical Infrastructure, Housing</td>\n",
              "        <td>CENTRAL</td>\n",
              "    </tr>\n",
              "    <tr>\n",
              "        <td>3</td>\n",
              "        <td>NYERI SOUTH</td>\n",
              "        <td>Urban</td>\n",
              "        <td>36289.6503</td>\n",
              "        <td>918.321</td>\n",
              "        <td>1325.5764</td>\n",
              "        <td>1213.7808</td>\n",
              "        <td>35.9343</td>\n",
              "        <td>19.9635</td>\n",
              "        <td>55.89780000000001</td>\n",
              "        <td>3.9927</td>\n",
              "        <td>67.8759</td>\n",
              "        <td>39927</td>\n",
              "        <td>36290</td>\n",
              "        <td>917</td>\n",
              "        <td>1325</td>\n",
              "        <td>1213</td>\n",
              "        <td>36</td>\n",
              "        <td>20</td>\n",
              "        <td>57</td>\n",
              "        <td>2</td>\n",
              "        <td>67</td>\n",
              "        <td>Nyeri</td>\n",
              "        <td>Physical Infrastructure, Housing</td>\n",
              "        <td>CENTRAL</td>\n",
              "    </tr>\n",
              "    <tr>\n",
              "        <td>4</td>\n",
              "        <td>KIRINYAGA</td>\n",
              "        <td>Urban</td>\n",
              "        <td>25102.1001</td>\n",
              "        <td>238.9107</td>\n",
              "        <td>1090.2017</td>\n",
              "        <td>961.135</td>\n",
              "        <td>10.9844</td>\n",
              "        <td>2.7461</td>\n",
              "        <td>8.238299999999999</td>\n",
              "        <td>2.7461</td>\n",
              "        <td>41.1915</td>\n",
              "        <td>27461</td>\n",
              "        <td>25103</td>\n",
              "        <td>239</td>\n",
              "        <td>1090</td>\n",
              "        <td>960</td>\n",
              "        <td>11</td>\n",
              "        <td>3</td>\n",
              "        <td>9</td>\n",
              "        <td>4</td>\n",
              "        <td>42</td>\n",
              "        <td>Kirinyaga</td>\n",
              "        <td>Physical Infrastructure, Housing</td>\n",
              "        <td>CENTRAL</td>\n",
              "    </tr>\n",
              "</table>"
            ],
            "text/plain": [
              "[(0, 'NYANDARUA NORTH', 'Urban', 21156.9732, 144.0198, 37.1664, 339.1434, 148.6656, 6.968699999999999, 16.2603, 0.0, 1379.8026, 23229, 21156, 144, 38, 338, 148, 7, 17, 1, 1380, 'Nyandarua', 'Physical Infrastructure, Housing', 'CENTRAL'),\n",
              " (1, 'NYANDARUA SOUTH', 'Urban', 5098.061, 25.1215, 138.97, 78.03699999999999, 3.207, 0.0, 0.0, 1.069, 1.069, 5345, 5098, 25, 139, 78, 3, 0, 0, 1, 1, 'Nyandarua', 'Physical Infrastructure, Housing', 'CENTRAL'),\n",
              " (2, 'NYERI NORTH', 'Urban', 12826.9824, 160.5504, 740.2368, 366.5664, 69.61919999999999, 11.3664, 28.416, 1.4208, 1.4208, 14208, 12827, 161, 740, 367, 69, 11, 29, 2, 2, 'Nyeri', 'Physical Infrastructure, Housing', 'CENTRAL'),\n",
              " (3, 'NYERI SOUTH', 'Urban', 36289.6503, 918.321, 1325.5764, 1213.7808, 35.9343, 19.9635, 55.89780000000001, 3.9927, 67.8759, 39927, 36290, 917, 1325, 1213, 36, 20, 57, 2, 67, 'Nyeri', 'Physical Infrastructure, Housing', 'CENTRAL'),\n",
              " (4, 'KIRINYAGA', 'Urban', 25102.1001, 238.9107, 1090.2017, 961.135, 10.9844, 2.7461, 8.238299999999999, 2.7461, 41.1915, 27461, 25103, 239, 1090, 960, 11, 3, 9, 4, 42, 'Kirinyaga', 'Physical Infrastructure, Housing', 'CENTRAL')]"
            ]
          },
          "metadata": {
            "tags": []
          },
          "execution_count": 43
        }
      ]
    },
    {
      "cell_type": "markdown",
      "metadata": {
        "id": "IICLGbvBRYHq",
        "colab_type": "text"
      },
      "source": [
        "## 1.2 Previewing our Dataset\n"
      ]
    },
    {
      "cell_type": "code",
      "metadata": {
        "id": "WrwHg-hzR5BY",
        "colab_type": "code",
        "outputId": "0ba83759-e346-4c00-bf0b-b05736e8f634",
        "colab": {
          "base_uri": "https://localhost:8080/",
          "height": 644
        }
      },
      "source": [
        "# Let's preview the first 10 rows of our data\n",
        "# \n",
        "%%sql\n",
        "SELECT * FROM Households LIMIT 10"
      ],
      "execution_count": 0,
      "outputs": [
        {
          "output_type": "stream",
          "text": [
            " * sqlite://\n",
            "Done.\n"
          ],
          "name": "stdout"
        },
        {
          "output_type": "execute_result",
          "data": {
            "text/html": [
              "<table>\n",
              "    <tr>\n",
              "        <th>index</th>\n",
              "        <th>district</th>\n",
              "        <th>rural_urban</th>\n",
              "        <th>households_corrugated_iron_sheets</th>\n",
              "        <th>households_tiles</th>\n",
              "        <th>households_concrete</th>\n",
              "        <th>asbestos_households_sheets</th>\n",
              "        <th>households_grass</th>\n",
              "        <th>households_makuti</th>\n",
              "        <th>households_tin</th>\n",
              "        <th>households_mud_dung</th>\n",
              "        <th>households_other</th>\n",
              "        <th>households</th>\n",
              "        <th>no_corrugated_iron_sheets</th>\n",
              "        <th>no_tiles</th>\n",
              "        <th>no_concrete</th>\n",
              "        <th>no_asbestos_sheets</th>\n",
              "        <th>no_grass</th>\n",
              "        <th>no_makuti</th>\n",
              "        <th>no_tin</th>\n",
              "        <th>no_mud_dung</th>\n",
              "        <th>no_other</th>\n",
              "        <th>county</th>\n",
              "        <th>mtef</th>\n",
              "        <th>province</th>\n",
              "    </tr>\n",
              "    <tr>\n",
              "        <td>0</td>\n",
              "        <td>NYANDARUA NORTH</td>\n",
              "        <td>Urban</td>\n",
              "        <td>21156.9732</td>\n",
              "        <td>144.0198</td>\n",
              "        <td>37.1664</td>\n",
              "        <td>339.1434</td>\n",
              "        <td>148.6656</td>\n",
              "        <td>6.968699999999999</td>\n",
              "        <td>16.2603</td>\n",
              "        <td>0.0</td>\n",
              "        <td>1379.8026</td>\n",
              "        <td>23229</td>\n",
              "        <td>21156</td>\n",
              "        <td>144</td>\n",
              "        <td>38</td>\n",
              "        <td>338</td>\n",
              "        <td>148</td>\n",
              "        <td>7</td>\n",
              "        <td>17</td>\n",
              "        <td>1</td>\n",
              "        <td>1380</td>\n",
              "        <td>Nyandarua</td>\n",
              "        <td>Physical Infrastructure, Housing</td>\n",
              "        <td>CENTRAL</td>\n",
              "    </tr>\n",
              "    <tr>\n",
              "        <td>1</td>\n",
              "        <td>NYANDARUA SOUTH</td>\n",
              "        <td>Urban</td>\n",
              "        <td>5098.061</td>\n",
              "        <td>25.1215</td>\n",
              "        <td>138.97</td>\n",
              "        <td>78.03699999999999</td>\n",
              "        <td>3.207</td>\n",
              "        <td>0.0</td>\n",
              "        <td>0.0</td>\n",
              "        <td>1.069</td>\n",
              "        <td>1.069</td>\n",
              "        <td>5345</td>\n",
              "        <td>5098</td>\n",
              "        <td>25</td>\n",
              "        <td>139</td>\n",
              "        <td>78</td>\n",
              "        <td>3</td>\n",
              "        <td>0</td>\n",
              "        <td>0</td>\n",
              "        <td>1</td>\n",
              "        <td>1</td>\n",
              "        <td>Nyandarua</td>\n",
              "        <td>Physical Infrastructure, Housing</td>\n",
              "        <td>CENTRAL</td>\n",
              "    </tr>\n",
              "    <tr>\n",
              "        <td>2</td>\n",
              "        <td>NYERI NORTH</td>\n",
              "        <td>Urban</td>\n",
              "        <td>12826.9824</td>\n",
              "        <td>160.5504</td>\n",
              "        <td>740.2368</td>\n",
              "        <td>366.5664</td>\n",
              "        <td>69.61919999999999</td>\n",
              "        <td>11.3664</td>\n",
              "        <td>28.416</td>\n",
              "        <td>1.4208</td>\n",
              "        <td>1.4208</td>\n",
              "        <td>14208</td>\n",
              "        <td>12827</td>\n",
              "        <td>161</td>\n",
              "        <td>740</td>\n",
              "        <td>367</td>\n",
              "        <td>69</td>\n",
              "        <td>11</td>\n",
              "        <td>29</td>\n",
              "        <td>2</td>\n",
              "        <td>2</td>\n",
              "        <td>Nyeri</td>\n",
              "        <td>Physical Infrastructure, Housing</td>\n",
              "        <td>CENTRAL</td>\n",
              "    </tr>\n",
              "    <tr>\n",
              "        <td>3</td>\n",
              "        <td>NYERI SOUTH</td>\n",
              "        <td>Urban</td>\n",
              "        <td>36289.6503</td>\n",
              "        <td>918.321</td>\n",
              "        <td>1325.5764</td>\n",
              "        <td>1213.7808</td>\n",
              "        <td>35.9343</td>\n",
              "        <td>19.9635</td>\n",
              "        <td>55.89780000000001</td>\n",
              "        <td>3.9927</td>\n",
              "        <td>67.8759</td>\n",
              "        <td>39927</td>\n",
              "        <td>36290</td>\n",
              "        <td>917</td>\n",
              "        <td>1325</td>\n",
              "        <td>1213</td>\n",
              "        <td>36</td>\n",
              "        <td>20</td>\n",
              "        <td>57</td>\n",
              "        <td>2</td>\n",
              "        <td>67</td>\n",
              "        <td>Nyeri</td>\n",
              "        <td>Physical Infrastructure, Housing</td>\n",
              "        <td>CENTRAL</td>\n",
              "    </tr>\n",
              "    <tr>\n",
              "        <td>4</td>\n",
              "        <td>KIRINYAGA</td>\n",
              "        <td>Urban</td>\n",
              "        <td>25102.1001</td>\n",
              "        <td>238.9107</td>\n",
              "        <td>1090.2017</td>\n",
              "        <td>961.135</td>\n",
              "        <td>10.9844</td>\n",
              "        <td>2.7461</td>\n",
              "        <td>8.238299999999999</td>\n",
              "        <td>2.7461</td>\n",
              "        <td>41.1915</td>\n",
              "        <td>27461</td>\n",
              "        <td>25103</td>\n",
              "        <td>239</td>\n",
              "        <td>1090</td>\n",
              "        <td>960</td>\n",
              "        <td>11</td>\n",
              "        <td>3</td>\n",
              "        <td>9</td>\n",
              "        <td>4</td>\n",
              "        <td>42</td>\n",
              "        <td>Kirinyaga</td>\n",
              "        <td>Physical Infrastructure, Housing</td>\n",
              "        <td>CENTRAL</td>\n",
              "    </tr>\n",
              "    <tr>\n",
              "        <td>5</td>\n",
              "        <td>MURANGA NORTH</td>\n",
              "        <td>Urban</td>\n",
              "        <td>8067.488</td>\n",
              "        <td>198.27599999999998</td>\n",
              "        <td>1915.602</td>\n",
              "        <td>409.344</td>\n",
              "        <td>1.0659999999999998</td>\n",
              "        <td>0.0</td>\n",
              "        <td>54.36600000000001</td>\n",
              "        <td>1.0659999999999998</td>\n",
              "        <td>13.858</td>\n",
              "        <td>10660</td>\n",
              "        <td>8067</td>\n",
              "        <td>198</td>\n",
              "        <td>1916</td>\n",
              "        <td>409</td>\n",
              "        <td>1</td>\n",
              "        <td>0</td>\n",
              "        <td>54</td>\n",
              "        <td>1</td>\n",
              "        <td>14</td>\n",
              "        <td>Murang&#x27;a</td>\n",
              "        <td>Physical Infrastructure, Housing</td>\n",
              "        <td>CENTRAL</td>\n",
              "    </tr>\n",
              "    <tr>\n",
              "        <td>6</td>\n",
              "        <td>MURANGA SOUTH</td>\n",
              "        <td>Urban</td>\n",
              "        <td>27613.5485</td>\n",
              "        <td>459.8705</td>\n",
              "        <td>1288.2465000000002</td>\n",
              "        <td>840.558</td>\n",
              "        <td>82.22850000000003</td>\n",
              "        <td>9.1365</td>\n",
              "        <td>143.1385</td>\n",
              "        <td>15.2275</td>\n",
              "        <td>9.1365</td>\n",
              "        <td>30455</td>\n",
              "        <td>27614</td>\n",
              "        <td>459</td>\n",
              "        <td>1287</td>\n",
              "        <td>840</td>\n",
              "        <td>81</td>\n",
              "        <td>9</td>\n",
              "        <td>142</td>\n",
              "        <td>15</td>\n",
              "        <td>8</td>\n",
              "        <td>Murang&#x27;a</td>\n",
              "        <td>Physical Infrastructure, Housing</td>\n",
              "        <td>CENTRAL</td>\n",
              "    </tr>\n",
              "    <tr>\n",
              "        <td>7</td>\n",
              "        <td>KIAMBU EAST(KIAMBAA)</td>\n",
              "        <td>Urban</td>\n",
              "        <td>55286.88</td>\n",
              "        <td>2022.9972</td>\n",
              "        <td>4146.516000000001</td>\n",
              "        <td>1174.8462000000004</td>\n",
              "        <td>6.2826</td>\n",
              "        <td>37.6956</td>\n",
              "        <td>87.95640000000002</td>\n",
              "        <td>0.0</td>\n",
              "        <td>69.10860000000001</td>\n",
              "        <td>62826</td>\n",
              "        <td>55285</td>\n",
              "        <td>2021</td>\n",
              "        <td>4146</td>\n",
              "        <td>1172</td>\n",
              "        <td>8</td>\n",
              "        <td>35</td>\n",
              "        <td>89</td>\n",
              "        <td>1</td>\n",
              "        <td>69</td>\n",
              "        <td>Kiambu</td>\n",
              "        <td>Physical Infrastructure, Housing</td>\n",
              "        <td>CENTRAL</td>\n",
              "    </tr>\n",
              "    <tr>\n",
              "        <td>8</td>\n",
              "        <td>KIKUYU</td>\n",
              "        <td>Urban</td>\n",
              "        <td>67893.3355</td>\n",
              "        <td>2824.7312</td>\n",
              "        <td>4751.382100000002</td>\n",
              "        <td>1113.0055</td>\n",
              "        <td>7.6759</td>\n",
              "        <td>38.3795</td>\n",
              "        <td>69.0831</td>\n",
              "        <td>7.6759</td>\n",
              "        <td>46.0554</td>\n",
              "        <td>76759</td>\n",
              "        <td>67896</td>\n",
              "        <td>2826</td>\n",
              "        <td>4750</td>\n",
              "        <td>1112</td>\n",
              "        <td>9</td>\n",
              "        <td>42</td>\n",
              "        <td>70</td>\n",
              "        <td>5</td>\n",
              "        <td>49</td>\n",
              "        <td>Kiambu</td>\n",
              "        <td>Physical Infrastructure, Housing</td>\n",
              "        <td>CENTRAL</td>\n",
              "    </tr>\n",
              "    <tr>\n",
              "        <td>9</td>\n",
              "        <td>KIAMBU WEST</td>\n",
              "        <td>Urban</td>\n",
              "        <td>20729.9092</td>\n",
              "        <td>580.1796</td>\n",
              "        <td>1211.0098</td>\n",
              "        <td>345.345</td>\n",
              "        <td>2.3023</td>\n",
              "        <td>16.116100000000007</td>\n",
              "        <td>124.3242</td>\n",
              "        <td>0.0</td>\n",
              "        <td>11.5115</td>\n",
              "        <td>23023</td>\n",
              "        <td>20729</td>\n",
              "        <td>580</td>\n",
              "        <td>1212</td>\n",
              "        <td>346</td>\n",
              "        <td>2</td>\n",
              "        <td>17</td>\n",
              "        <td>125</td>\n",
              "        <td>1</td>\n",
              "        <td>11</td>\n",
              "        <td>Kiambu</td>\n",
              "        <td>Physical Infrastructure, Housing</td>\n",
              "        <td>CENTRAL</td>\n",
              "    </tr>\n",
              "</table>"
            ],
            "text/plain": [
              "[(0, 'NYANDARUA NORTH', 'Urban', 21156.9732, 144.0198, 37.1664, 339.1434, 148.6656, 6.968699999999999, 16.2603, 0.0, 1379.8026, 23229, 21156, 144, 38, 338, 148, 7, 17, 1, 1380, 'Nyandarua', 'Physical Infrastructure, Housing', 'CENTRAL'),\n",
              " (1, 'NYANDARUA SOUTH', 'Urban', 5098.061, 25.1215, 138.97, 78.03699999999999, 3.207, 0.0, 0.0, 1.069, 1.069, 5345, 5098, 25, 139, 78, 3, 0, 0, 1, 1, 'Nyandarua', 'Physical Infrastructure, Housing', 'CENTRAL'),\n",
              " (2, 'NYERI NORTH', 'Urban', 12826.9824, 160.5504, 740.2368, 366.5664, 69.61919999999999, 11.3664, 28.416, 1.4208, 1.4208, 14208, 12827, 161, 740, 367, 69, 11, 29, 2, 2, 'Nyeri', 'Physical Infrastructure, Housing', 'CENTRAL'),\n",
              " (3, 'NYERI SOUTH', 'Urban', 36289.6503, 918.321, 1325.5764, 1213.7808, 35.9343, 19.9635, 55.89780000000001, 3.9927, 67.8759, 39927, 36290, 917, 1325, 1213, 36, 20, 57, 2, 67, 'Nyeri', 'Physical Infrastructure, Housing', 'CENTRAL'),\n",
              " (4, 'KIRINYAGA', 'Urban', 25102.1001, 238.9107, 1090.2017, 961.135, 10.9844, 2.7461, 8.238299999999999, 2.7461, 41.1915, 27461, 25103, 239, 1090, 960, 11, 3, 9, 4, 42, 'Kirinyaga', 'Physical Infrastructure, Housing', 'CENTRAL'),\n",
              " (5, 'MURANGA NORTH', 'Urban', 8067.488, 198.27599999999998, 1915.602, 409.344, 1.0659999999999998, 0.0, 54.36600000000001, 1.0659999999999998, 13.858, 10660, 8067, 198, 1916, 409, 1, 0, 54, 1, 14, \"Murang'a\", 'Physical Infrastructure, Housing', 'CENTRAL'),\n",
              " (6, 'MURANGA SOUTH', 'Urban', 27613.5485, 459.8705, 1288.2465000000002, 840.558, 82.22850000000003, 9.1365, 143.1385, 15.2275, 9.1365, 30455, 27614, 459, 1287, 840, 81, 9, 142, 15, 8, \"Murang'a\", 'Physical Infrastructure, Housing', 'CENTRAL'),\n",
              " (7, 'KIAMBU EAST(KIAMBAA)', 'Urban', 55286.88, 2022.9972, 4146.516000000001, 1174.8462000000004, 6.2826, 37.6956, 87.95640000000002, 0.0, 69.10860000000001, 62826, 55285, 2021, 4146, 1172, 8, 35, 89, 1, 69, 'Kiambu', 'Physical Infrastructure, Housing', 'CENTRAL'),\n",
              " (8, 'KIKUYU', 'Urban', 67893.3355, 2824.7312, 4751.382100000002, 1113.0055, 7.6759, 38.3795, 69.0831, 7.6759, 46.0554, 76759, 67896, 2826, 4750, 1112, 9, 42, 70, 5, 49, 'Kiambu', 'Physical Infrastructure, Housing', 'CENTRAL'),\n",
              " (9, 'KIAMBU WEST', 'Urban', 20729.9092, 580.1796, 1211.0098, 345.345, 2.3023, 16.116100000000007, 124.3242, 0.0, 11.5115, 23023, 20729, 580, 1212, 346, 2, 17, 125, 1, 11, 'Kiambu', 'Physical Infrastructure, Housing', 'CENTRAL')]"
            ]
          },
          "metadata": {
            "tags": []
          },
          "execution_count": 44
        }
      ]
    },
    {
      "cell_type": "markdown",
      "metadata": {
        "id": "RAVzK5O6IR8v",
        "colab_type": "text"
      },
      "source": [
        "## 1.3 Accessing Information about our Dataset"
      ]
    },
    {
      "cell_type": "code",
      "metadata": {
        "id": "0d2kfemDIYWI",
        "colab_type": "code",
        "colab": {}
      },
      "source": [
        "# Getting to know more about the dataset by accessing its information\n",
        "#\n"
      ],
      "execution_count": 0,
      "outputs": []
    },
    {
      "cell_type": "markdown",
      "metadata": {
        "id": "NicC8P9LMjvO",
        "colab_type": "text"
      },
      "source": [
        "## 1.4 Answering Questions"
      ]
    },
    {
      "cell_type": "markdown",
      "metadata": {
        "id": "8izhaW7UNYGJ",
        "colab_type": "text"
      },
      "source": [
        "Let's answer the following questions with our dataset. These are the same questions we answered using the python programming language. "
      ]
    },
    {
      "cell_type": "code",
      "metadata": {
        "id": "tTOgnXvuMxcn",
        "colab_type": "code",
        "outputId": "5ce34af7-f9f5-42ad-b018-4403aee11d35",
        "colab": {
          "base_uri": "https://localhost:8080/",
          "height": 149
        }
      },
      "source": [
        "# Challenge 1\n",
        "# Find out the most popular type of household material for urban regions.\n",
        "# \n",
        "%%sql\n",
        "SELECT * , max(households) FROM Households\n"
      ],
      "execution_count": 0,
      "outputs": [
        {
          "output_type": "stream",
          "text": [
            " * sqlite://\n",
            "Done.\n"
          ],
          "name": "stdout"
        },
        {
          "output_type": "execute_result",
          "data": {
            "text/html": [
              "<table>\n",
              "    <tr>\n",
              "        <th>index</th>\n",
              "        <th>district</th>\n",
              "        <th>rural_urban</th>\n",
              "        <th>households_corrugated_iron_sheets</th>\n",
              "        <th>households_tiles</th>\n",
              "        <th>households_concrete</th>\n",
              "        <th>asbestos_households_sheets</th>\n",
              "        <th>households_grass</th>\n",
              "        <th>households_makuti</th>\n",
              "        <th>households_tin</th>\n",
              "        <th>households_mud_dung</th>\n",
              "        <th>households_other</th>\n",
              "        <th>households</th>\n",
              "        <th>no_corrugated_iron_sheets</th>\n",
              "        <th>no_tiles</th>\n",
              "        <th>no_concrete</th>\n",
              "        <th>no_asbestos_sheets</th>\n",
              "        <th>no_grass</th>\n",
              "        <th>no_makuti</th>\n",
              "        <th>no_tin</th>\n",
              "        <th>no_mud_dung</th>\n",
              "        <th>no_other</th>\n",
              "        <th>county</th>\n",
              "        <th>mtef</th>\n",
              "        <th>province</th>\n",
              "        <th>max(households)</th>\n",
              "    </tr>\n",
              "    <tr>\n",
              "        <td>117</td>\n",
              "        <td>NAIROBI EAST</td>\n",
              "        <td>Urban</td>\n",
              "        <td>234778.687</td>\n",
              "        <td>29910.465</td>\n",
              "        <td>88623.59999999998</td>\n",
              "        <td>13219.687</td>\n",
              "        <td>73.85300000000002</td>\n",
              "        <td>221.559</td>\n",
              "        <td>1772.4719999999998</td>\n",
              "        <td>73.85300000000002</td>\n",
              "        <td>627.7505000000001</td>\n",
              "        <td>369265</td>\n",
              "        <td>234774</td>\n",
              "        <td>29909</td>\n",
              "        <td>88619</td>\n",
              "        <td>13229</td>\n",
              "        <td>58</td>\n",
              "        <td>233</td>\n",
              "        <td>1758</td>\n",
              "        <td>62</td>\n",
              "        <td>623</td>\n",
              "        <td>Nairobi</td>\n",
              "        <td>Physical Infrastructure, Housing</td>\n",
              "        <td>NAIROBI</td>\n",
              "        <td>369265</td>\n",
              "    </tr>\n",
              "</table>"
            ],
            "text/plain": [
              "[(117, 'NAIROBI EAST', 'Urban', 234778.687, 29910.465, 88623.59999999998, 13219.687, 73.85300000000002, 221.559, 1772.4719999999998, 73.85300000000002, 627.7505000000001, 369265, 234774, 29909, 88619, 13229, 58, 233, 1758, 62, 623, 'Nairobi', 'Physical Infrastructure, Housing', 'NAIROBI', 369265)]"
            ]
          },
          "metadata": {
            "tags": []
          },
          "execution_count": 45
        }
      ]
    },
    {
      "cell_type": "code",
      "metadata": {
        "id": "BNegesaWNvQs",
        "colab_type": "code",
        "outputId": "246e9473-0fce-4724-c419-e8afcba49740",
        "colab": {
          "base_uri": "https://localhost:8080/",
          "height": 149
        }
      },
      "source": [
        "# Challenge 2\n",
        "# Find out the least popular type of household material for urban regions.\n",
        "#\n",
        "%%sql\n",
        "SELECT * , min(households) FROM Households"
      ],
      "execution_count": 0,
      "outputs": [
        {
          "output_type": "stream",
          "text": [
            " * sqlite://\n",
            "Done.\n"
          ],
          "name": "stdout"
        },
        {
          "output_type": "execute_result",
          "data": {
            "text/html": [
              "<table>\n",
              "    <tr>\n",
              "        <th>index</th>\n",
              "        <th>district</th>\n",
              "        <th>rural_urban</th>\n",
              "        <th>households_corrugated_iron_sheets</th>\n",
              "        <th>households_tiles</th>\n",
              "        <th>households_concrete</th>\n",
              "        <th>asbestos_households_sheets</th>\n",
              "        <th>households_grass</th>\n",
              "        <th>households_makuti</th>\n",
              "        <th>households_tin</th>\n",
              "        <th>households_mud_dung</th>\n",
              "        <th>households_other</th>\n",
              "        <th>households</th>\n",
              "        <th>no_corrugated_iron_sheets</th>\n",
              "        <th>no_tiles</th>\n",
              "        <th>no_concrete</th>\n",
              "        <th>no_asbestos_sheets</th>\n",
              "        <th>no_grass</th>\n",
              "        <th>no_makuti</th>\n",
              "        <th>no_tin</th>\n",
              "        <th>no_mud_dung</th>\n",
              "        <th>no_other</th>\n",
              "        <th>county</th>\n",
              "        <th>mtef</th>\n",
              "        <th>province</th>\n",
              "        <th>min(households)</th>\n",
              "    </tr>\n",
              "    <tr>\n",
              "        <td>10</td>\n",
              "        <td>LARI</td>\n",
              "        <td>Urban</td>\n",
              "        <td>None</td>\n",
              "        <td>None</td>\n",
              "        <td>None</td>\n",
              "        <td>None</td>\n",
              "        <td>None</td>\n",
              "        <td>976.3116368965517</td>\n",
              "        <td>None</td>\n",
              "        <td>None</td>\n",
              "        <td>None</td>\n",
              "        <td>0</td>\n",
              "        <td>0</td>\n",
              "        <td>0</td>\n",
              "        <td>0</td>\n",
              "        <td>0</td>\n",
              "        <td>0</td>\n",
              "        <td>0</td>\n",
              "        <td>0</td>\n",
              "        <td>0</td>\n",
              "        <td>0</td>\n",
              "        <td>Kiambu</td>\n",
              "        <td>Physical Infrastructure, Housing</td>\n",
              "        <td>CENTRAL</td>\n",
              "        <td>0</td>\n",
              "    </tr>\n",
              "</table>"
            ],
            "text/plain": [
              "[(10, 'LARI', 'Urban', None, None, None, None, None, 976.3116368965517, None, None, None, 0, 0, 0, 0, 0, 0, 0, 0, 0, 0, 'Kiambu', 'Physical Infrastructure, Housing', 'CENTRAL', 0)]"
            ]
          },
          "metadata": {
            "tags": []
          },
          "execution_count": 46
        }
      ]
    },
    {
      "cell_type": "code",
      "metadata": {
        "id": "7tilTerhNyiP",
        "colab_type": "code",
        "outputId": "7ebf12f3-a173-429e-8ec2-cde4aec69fcc",
        "colab": {
          "base_uri": "https://localhost:8080/",
          "height": 149
        }
      },
      "source": [
        "# Challenge 3\n",
        "# Find out the most popular type of households material in the urban regions of Nairobi.\n",
        "# \n",
        "%%sql\n",
        "SELECT * , max(households) FROM Households\n",
        "WHERE  district = 'NAIROBI WEST' AND rural_urban = 'Urban'"
      ],
      "execution_count": 0,
      "outputs": [
        {
          "output_type": "stream",
          "text": [
            " * sqlite://\n",
            "Done.\n"
          ],
          "name": "stdout"
        },
        {
          "output_type": "execute_result",
          "data": {
            "text/html": [
              "<table>\n",
              "    <tr>\n",
              "        <th>index</th>\n",
              "        <th>district</th>\n",
              "        <th>rural_urban</th>\n",
              "        <th>households_corrugated_iron_sheets</th>\n",
              "        <th>households_tiles</th>\n",
              "        <th>households_concrete</th>\n",
              "        <th>asbestos_households_sheets</th>\n",
              "        <th>households_grass</th>\n",
              "        <th>households_makuti</th>\n",
              "        <th>households_tin</th>\n",
              "        <th>households_mud_dung</th>\n",
              "        <th>households_other</th>\n",
              "        <th>households</th>\n",
              "        <th>no_corrugated_iron_sheets</th>\n",
              "        <th>no_tiles</th>\n",
              "        <th>no_concrete</th>\n",
              "        <th>no_asbestos_sheets</th>\n",
              "        <th>no_grass</th>\n",
              "        <th>no_makuti</th>\n",
              "        <th>no_tin</th>\n",
              "        <th>no_mud_dung</th>\n",
              "        <th>no_other</th>\n",
              "        <th>county</th>\n",
              "        <th>mtef</th>\n",
              "        <th>province</th>\n",
              "        <th>max(households)</th>\n",
              "    </tr>\n",
              "    <tr>\n",
              "        <td>116</td>\n",
              "        <td>NAIROBI WEST</td>\n",
              "        <td>Urban</td>\n",
              "        <td>167886.1645</td>\n",
              "        <td>21852.995000000006</td>\n",
              "        <td>13748.292000000005</td>\n",
              "        <td>6810.496499999998</td>\n",
              "        <td>63.6495</td>\n",
              "        <td>212.165</td>\n",
              "        <td>1018.392</td>\n",
              "        <td>127.299</td>\n",
              "        <td>445.5465</td>\n",
              "        <td>212165</td>\n",
              "        <td>167894</td>\n",
              "        <td>21855</td>\n",
              "        <td>13741</td>\n",
              "        <td>6820</td>\n",
              "        <td>54</td>\n",
              "        <td>212</td>\n",
              "        <td>1014</td>\n",
              "        <td>128</td>\n",
              "        <td>447</td>\n",
              "        <td>Nairobi</td>\n",
              "        <td>Physical Infrastructure, Housing</td>\n",
              "        <td>NAIROBI</td>\n",
              "        <td>212165</td>\n",
              "    </tr>\n",
              "</table>"
            ],
            "text/plain": [
              "[(116, 'NAIROBI WEST', 'Urban', 167886.1645, 21852.995000000006, 13748.292000000005, 6810.496499999998, 63.6495, 212.165, 1018.392, 127.299, 445.5465, 212165, 167894, 21855, 13741, 6820, 54, 212, 1014, 128, 447, 'Nairobi', 'Physical Infrastructure, Housing', 'NAIROBI', 212165)]"
            ]
          },
          "metadata": {
            "tags": []
          },
          "execution_count": 47
        }
      ]
    },
    {
      "cell_type": "code",
      "metadata": {
        "id": "rhXeHa6IOBsq",
        "colab_type": "code",
        "outputId": "289bc1e1-14dd-4fe8-eae6-18503ab61f3a",
        "colab": {
          "base_uri": "https://localhost:8080/",
          "height": 149
        }
      },
      "source": [
        "# Challenge 4\n",
        "# Find out the least popular type of households material in rural regions of Nairobi.\n",
        "# \n",
        "%%sql\n",
        "SELECT * , max(households) FROM Households\n",
        "WHERE  district = 'NAIROBI WEST' AND rural_urban = 'Rural'"
      ],
      "execution_count": 0,
      "outputs": [
        {
          "output_type": "stream",
          "text": [
            " * sqlite://\n",
            "Done.\n"
          ],
          "name": "stdout"
        },
        {
          "output_type": "execute_result",
          "data": {
            "text/html": [
              "<table>\n",
              "    <tr>\n",
              "        <th>index</th>\n",
              "        <th>district</th>\n",
              "        <th>rural_urban</th>\n",
              "        <th>households_corrugated_iron_sheets</th>\n",
              "        <th>households_tiles</th>\n",
              "        <th>households_concrete</th>\n",
              "        <th>asbestos_households_sheets</th>\n",
              "        <th>households_grass</th>\n",
              "        <th>households_makuti</th>\n",
              "        <th>households_tin</th>\n",
              "        <th>households_mud_dung</th>\n",
              "        <th>households_other</th>\n",
              "        <th>households</th>\n",
              "        <th>no_corrugated_iron_sheets</th>\n",
              "        <th>no_tiles</th>\n",
              "        <th>no_concrete</th>\n",
              "        <th>no_asbestos_sheets</th>\n",
              "        <th>no_grass</th>\n",
              "        <th>no_makuti</th>\n",
              "        <th>no_tin</th>\n",
              "        <th>no_mud_dung</th>\n",
              "        <th>no_other</th>\n",
              "        <th>county</th>\n",
              "        <th>mtef</th>\n",
              "        <th>province</th>\n",
              "        <th>max(households)</th>\n",
              "    </tr>\n",
              "    <tr>\n",
              "        <td>120</td>\n",
              "        <td>NAIROBI WEST</td>\n",
              "        <td>Rural</td>\n",
              "        <td>None</td>\n",
              "        <td>None</td>\n",
              "        <td>None</td>\n",
              "        <td>None</td>\n",
              "        <td>None</td>\n",
              "        <td>976.3116368965517</td>\n",
              "        <td>None</td>\n",
              "        <td>None</td>\n",
              "        <td>None</td>\n",
              "        <td>0</td>\n",
              "        <td>0</td>\n",
              "        <td>0</td>\n",
              "        <td>0</td>\n",
              "        <td>0</td>\n",
              "        <td>0</td>\n",
              "        <td>0</td>\n",
              "        <td>0</td>\n",
              "        <td>0</td>\n",
              "        <td>0</td>\n",
              "        <td>Nairobi</td>\n",
              "        <td>Physical Infrastructure, Housing</td>\n",
              "        <td>NAIROBI</td>\n",
              "        <td>0</td>\n",
              "    </tr>\n",
              "</table>"
            ],
            "text/plain": [
              "[(120, 'NAIROBI WEST', 'Rural', None, None, None, None, None, 976.3116368965517, None, None, None, 0, 0, 0, 0, 0, 0, 0, 0, 0, 0, 'Nairobi', 'Physical Infrastructure, Housing', 'NAIROBI', 0)]"
            ]
          },
          "metadata": {
            "tags": []
          },
          "execution_count": 48
        }
      ]
    },
    {
      "cell_type": "code",
      "metadata": {
        "id": "wddDP6yCOD_F",
        "colab_type": "code",
        "outputId": "6c95e7a5-ebab-4a9b-a959-6f26662d0080",
        "colab": {
          "base_uri": "https://localhost:8080/",
          "height": 95
        }
      },
      "source": [
        "# Challenge 5\n",
        "# Find out the average no. of tiling households.\n",
        "# \n",
        "%%sql\n",
        "SELECT  avg(households_tiles) FROM Households"
      ],
      "execution_count": 0,
      "outputs": [
        {
          "output_type": "stream",
          "text": [
            " * sqlite://\n",
            "Done.\n"
          ],
          "name": "stdout"
        },
        {
          "output_type": "execute_result",
          "data": {
            "text/html": [
              "<table>\n",
              "    <tr>\n",
              "        <th>avg(households_tiles)</th>\n",
              "    </tr>\n",
              "    <tr>\n",
              "        <td>668.3458127586201</td>\n",
              "    </tr>\n",
              "</table>"
            ],
            "text/plain": [
              "[(668.3458127586201,)]"
            ]
          },
          "metadata": {
            "tags": []
          },
          "execution_count": 49
        }
      ]
    },
    {
      "cell_type": "code",
      "metadata": {
        "id": "OemJ0HDYOHCq",
        "colab_type": "code",
        "outputId": "89c84354-5840-4fe6-e906-80709e90c64c",
        "colab": {
          "base_uri": "https://localhost:8080/",
          "height": 95
        }
      },
      "source": [
        "# Challenge 6\n",
        "# Which county has the highest no. of grass households?\n",
        "# \n",
        "%%sql\n",
        "SELECT county, max(no_grass) FROM Households"
      ],
      "execution_count": 0,
      "outputs": [
        {
          "output_type": "stream",
          "text": [
            " * sqlite://\n",
            "Done.\n"
          ],
          "name": "stdout"
        },
        {
          "output_type": "execute_result",
          "data": {
            "text/html": [
              "<table>\n",
              "    <tr>\n",
              "        <th>county</th>\n",
              "        <th>max(no_grass)</th>\n",
              "    </tr>\n",
              "    <tr>\n",
              "        <td>Siaya</td>\n",
              "        <td>47962</td>\n",
              "    </tr>\n",
              "</table>"
            ],
            "text/plain": [
              "[('Siaya', 47962)]"
            ]
          },
          "metadata": {
            "tags": []
          },
          "execution_count": 50
        }
      ]
    },
    {
      "cell_type": "code",
      "metadata": {
        "id": "CIxC5arSOLak",
        "colab_type": "code",
        "outputId": "c882aa68-7150-4ea8-8b37-c11e5406a599",
        "colab": {
          "base_uri": "https://localhost:8080/",
          "height": 179
        }
      },
      "source": [
        "# Challenge 7\n",
        "# Which top 5 counties have the highest no of households made of iron sheets ?\n",
        "# \n",
        "%%sql\n",
        "SELECT county, households_corrugated_iron_sheets FROM Households\n",
        "ORDER BY households_corrugated_iron_sheets DESC LIMIT 5\n"
      ],
      "execution_count": 0,
      "outputs": [
        {
          "output_type": "stream",
          "text": [
            " * sqlite://\n",
            "Done.\n"
          ],
          "name": "stdout"
        },
        {
          "output_type": "execute_result",
          "data": {
            "text/html": [
              "<table>\n",
              "    <tr>\n",
              "        <th>county</th>\n",
              "        <th>households_corrugated_iron_sheets</th>\n",
              "    </tr>\n",
              "    <tr>\n",
              "        <td>Nairobi</td>\n",
              "        <td>234778.687</td>\n",
              "    </tr>\n",
              "    <tr>\n",
              "        <td>Nairobi</td>\n",
              "        <td>198711.1024</td>\n",
              "    </tr>\n",
              "    <tr>\n",
              "        <td>Nairobi</td>\n",
              "        <td>167886.1645</td>\n",
              "    </tr>\n",
              "    <tr>\n",
              "        <td>Kirinyaga</td>\n",
              "        <td>121104.944</td>\n",
              "    </tr>\n",
              "    <tr>\n",
              "        <td>Mombasa</td>\n",
              "        <td>101603.9601</td>\n",
              "    </tr>\n",
              "</table>"
            ],
            "text/plain": [
              "[('Nairobi', 234778.687),\n",
              " ('Nairobi', 198711.1024),\n",
              " ('Nairobi', 167886.1645),\n",
              " ('Kirinyaga', 121104.944),\n",
              " ('Mombasa', 101603.9601)]"
            ]
          },
          "metadata": {
            "tags": []
          },
          "execution_count": 51
        }
      ]
    },
    {
      "cell_type": "code",
      "metadata": {
        "id": "gSjjnw56OP8O",
        "colab_type": "code",
        "outputId": "6e6ab1a3-c89c-4546-9c73-327a33fbbe28",
        "colab": {
          "base_uri": "https://localhost:8080/",
          "height": 95
        }
      },
      "source": [
        "# Challenge 8\n",
        "# What is the average no. of households in Kenya?\n",
        "# \n",
        "%%sql\n",
        "SELECT avg(households) FROM Households"
      ],
      "execution_count": 0,
      "outputs": [
        {
          "output_type": "stream",
          "text": [
            " * sqlite://\n",
            "Done.\n"
          ],
          "name": "stdout"
        },
        {
          "output_type": "execute_result",
          "data": {
            "text/html": [
              "<table>\n",
              "    <tr>\n",
              "        <th>avg(households)</th>\n",
              "    </tr>\n",
              "    <tr>\n",
              "        <td>27739.990476190476</td>\n",
              "    </tr>\n",
              "</table>"
            ],
            "text/plain": [
              "[(27739.990476190476,)]"
            ]
          },
          "metadata": {
            "tags": []
          },
          "execution_count": 52
        }
      ]
    },
    {
      "cell_type": "code",
      "metadata": {
        "id": "UZLYqF7UOTtu",
        "colab_type": "code",
        "outputId": "c5fc2856-e8bf-47fc-db8d-63caa86b5ed5",
        "colab": {
          "base_uri": "https://localhost:8080/",
          "height": 95
        }
      },
      "source": [
        "# Challenge 9\n",
        "# Which county has the most no. of households made of dung?\n",
        "# \n",
        "%%sql\n",
        "SELECT county, max(households_mud_dung) FROM Households"
      ],
      "execution_count": 0,
      "outputs": [
        {
          "output_type": "stream",
          "text": [
            " * sqlite://\n",
            "Done.\n"
          ],
          "name": "stdout"
        },
        {
          "output_type": "execute_result",
          "data": {
            "text/html": [
              "<table>\n",
              "    <tr>\n",
              "        <th>county</th>\n",
              "        <th>max(households_mud_dung)</th>\n",
              "    </tr>\n",
              "    <tr>\n",
              "        <td>Narok</td>\n",
              "        <td>15213.7766</td>\n",
              "    </tr>\n",
              "</table>"
            ],
            "text/plain": [
              "[('Narok', 15213.7766)]"
            ]
          },
          "metadata": {
            "tags": []
          },
          "execution_count": 53
        }
      ]
    },
    {
      "cell_type": "code",
      "metadata": {
        "id": "1qk8wF3MOXDu",
        "colab_type": "code",
        "outputId": "4636c25c-aa28-40a2-a986-5fbe1b7c3795",
        "colab": {
          "base_uri": "https://localhost:8080/",
          "height": 137
        }
      },
      "source": [
        "# Challenge 10\n",
        "# In ascending order, which top 3 counties have the highest no. of households with makuti?\n",
        "# \n",
        "%%sql \n",
        "SELECT county, households_makuti  FROM Households\n",
        "ORDER BY households_makuti ASC LIMIT 3\n"
      ],
      "execution_count": 0,
      "outputs": [
        {
          "output_type": "stream",
          "text": [
            " * sqlite://\n",
            "Done.\n"
          ],
          "name": "stdout"
        },
        {
          "output_type": "execute_result",
          "data": {
            "text/html": [
              "<table>\n",
              "    <tr>\n",
              "        <th>county</th>\n",
              "        <th>households_makuti</th>\n",
              "    </tr>\n",
              "    <tr>\n",
              "        <td>Nyandarua</td>\n",
              "        <td>0.0</td>\n",
              "    </tr>\n",
              "    <tr>\n",
              "        <td>Murang&#x27;a</td>\n",
              "        <td>0.0</td>\n",
              "    </tr>\n",
              "    <tr>\n",
              "        <td>Kiambu</td>\n",
              "        <td>0.0</td>\n",
              "    </tr>\n",
              "</table>"
            ],
            "text/plain": [
              "[('Nyandarua', 0.0), (\"Murang'a\", 0.0), ('Kiambu', 0.0)]"
            ]
          },
          "metadata": {
            "tags": []
          },
          "execution_count": 54
        }
      ]
    },
    {
      "cell_type": "code",
      "metadata": {
        "id": "8xkStdjdXS3w",
        "colab_type": "code",
        "outputId": "ab977a2d-a344-4e20-9de6-7724452c8c0f",
        "colab": {
          "base_uri": "https://localhost:8080/",
          "height": 95
        }
      },
      "source": [
        "# Challenge 11\n",
        "# What is the no. of Makuti households in urban regions?\n",
        "#\n",
        "%%sql\n",
        "SELECT count(households_makuti) FROM Households\n",
        "WHERE rural_urban = 'Urban'\n"
      ],
      "execution_count": 0,
      "outputs": [
        {
          "output_type": "stream",
          "text": [
            " * sqlite://\n",
            "Done.\n"
          ],
          "name": "stdout"
        },
        {
          "output_type": "execute_result",
          "data": {
            "text/html": [
              "<table>\n",
              "    <tr>\n",
              "        <th>count(households_makuti)</th>\n",
              "    </tr>\n",
              "    <tr>\n",
              "        <td>157</td>\n",
              "    </tr>\n",
              "</table>"
            ],
            "text/plain": [
              "[(157,)]"
            ]
          },
          "metadata": {
            "tags": []
          },
          "execution_count": 56
        }
      ]
    },
    {
      "cell_type": "code",
      "metadata": {
        "id": "rgVsXH_5XVCh",
        "colab_type": "code",
        "outputId": "6f9ae873-b538-4f6d-d255-16e2cbfbd7f5",
        "colab": {
          "base_uri": "https://localhost:8080/",
          "height": 95
        }
      },
      "source": [
        "# Challenge 12\n",
        "# What is the no. of Makuti households in the rural regions of Kisumu county?\n",
        "#\n",
        "%%sql\n",
        "SELECT count(households_makuti) FROM Households\n",
        "WHERE rural_urban = 'Rural' AND district = 'KISUMU'"
      ],
      "execution_count": 0,
      "outputs": [
        {
          "output_type": "stream",
          "text": [
            " * sqlite://\n",
            "Done.\n"
          ],
          "name": "stdout"
        },
        {
          "output_type": "execute_result",
          "data": {
            "text/html": [
              "<table>\n",
              "    <tr>\n",
              "        <th>count(households_makuti)</th>\n",
              "    </tr>\n",
              "    <tr>\n",
              "        <td>0</td>\n",
              "    </tr>\n",
              "</table>"
            ],
            "text/plain": [
              "[(0,)]"
            ]
          },
          "metadata": {
            "tags": []
          },
          "execution_count": 66
        }
      ]
    },
    {
      "cell_type": "code",
      "metadata": {
        "id": "XvvFWhuDXXeP",
        "colab_type": "code",
        "outputId": "7b900fec-859f-4307-af7b-782413a77ecb",
        "colab": {
          "base_uri": "https://localhost:8080/",
          "height": 95
        }
      },
      "source": [
        "# Challenge 13\n",
        "# What percentage of households in Kenya are concrete?\n",
        "#\n",
        "%%sql\n",
        "SELECT SUM(households_concrete)/sum(households)*100 percentage_of_households FROM Households"
      ],
      "execution_count": 0,
      "outputs": [
        {
          "output_type": "stream",
          "text": [
            " * sqlite://\n",
            "Done.\n"
          ],
          "name": "stdout"
        },
        {
          "output_type": "execute_result",
          "data": {
            "text/html": [
              "<table>\n",
              "    <tr>\n",
              "        <th>percentage_of_households</th>\n",
              "    </tr>\n",
              "    <tr>\n",
              "        <td>3.563301987835568</td>\n",
              "    </tr>\n",
              "</table>"
            ],
            "text/plain": [
              "[(3.563301987835568,)]"
            ]
          },
          "metadata": {
            "tags": []
          },
          "execution_count": 74
        }
      ]
    },
    {
      "cell_type": "code",
      "metadata": {
        "id": "q1iq02FuXc2R",
        "colab_type": "code",
        "outputId": "4a12583d-87ce-41e3-b585-15800f8368af",
        "colab": {
          "base_uri": "https://localhost:8080/",
          "height": 137
        }
      },
      "source": [
        "# Challenge 14\n",
        "# Which top 3 districts have the highest no. of grass and makuti households?\n",
        "#\n",
        "%%sql\n",
        "SELECT district , households_grass, households_makuti FROM Households\n",
        "WHERE households_grass > 0  AND households_makuti > 0\n",
        "ORDER BY households_makuti  DESC LIMIT 3\n"
      ],
      "execution_count": 0,
      "outputs": [
        {
          "output_type": "stream",
          "text": [
            " * sqlite://\n",
            "Done.\n"
          ],
          "name": "stdout"
        },
        {
          "output_type": "execute_result",
          "data": {
            "text/html": [
              "<table>\n",
              "    <tr>\n",
              "        <th>district</th>\n",
              "        <th>households_grass</th>\n",
              "        <th>households_makuti</th>\n",
              "    </tr>\n",
              "    <tr>\n",
              "        <td>KILIFI</td>\n",
              "        <td>6111.71</td>\n",
              "        <td>34903.4202</td>\n",
              "    </tr>\n",
              "    <tr>\n",
              "        <td>MSAMBWENI</td>\n",
              "        <td>4021.4185</td>\n",
              "        <td>22576.6332</td>\n",
              "    </tr>\n",
              "    <tr>\n",
              "        <td>MALINDI</td>\n",
              "        <td>6611.373000000001</td>\n",
              "        <td>20959.2123</td>\n",
              "    </tr>\n",
              "</table>"
            ],
            "text/plain": [
              "[('KILIFI', 6111.71, 34903.4202),\n",
              " ('MSAMBWENI', 4021.4185, 22576.6332),\n",
              " ('MALINDI', 6611.373000000001, 20959.2123)]"
            ]
          },
          "metadata": {
            "tags": []
          },
          "execution_count": 83
        }
      ]
    },
    {
      "cell_type": "code",
      "metadata": {
        "id": "drAWpxBZXhcF",
        "colab_type": "code",
        "outputId": "be575901-56dc-40d3-d391-b540e0b75a6b",
        "colab": {
          "base_uri": "https://localhost:8080/",
          "height": 74
        }
      },
      "source": [
        "# Challenge 15 \n",
        "# What is the households distribution of iron sheets, mud/dung, tin, \n",
        "# makuti, grass, sheets, concrete, tiles for Baringa County?\n",
        "# \n",
        "%%sql\n",
        "SELECT district , households_grass, households_makuti FROM Households\n",
        "WHERE district = 'BARINGA'\n"
      ],
      "execution_count": 0,
      "outputs": [
        {
          "output_type": "stream",
          "text": [
            " * sqlite://\n",
            "Done.\n"
          ],
          "name": "stdout"
        },
        {
          "output_type": "execute_result",
          "data": {
            "text/html": [
              "<table>\n",
              "    <tr>\n",
              "        <th>district</th>\n",
              "        <th>households_grass</th>\n",
              "        <th>households_makuti</th>\n",
              "    </tr>\n",
              "</table>"
            ],
            "text/plain": [
              "[]"
            ]
          },
          "metadata": {
            "tags": []
          },
          "execution_count": 85
        }
      ]
    },
    {
      "cell_type": "code",
      "metadata": {
        "id": "urQVH-wh-9Di",
        "colab_type": "code",
        "colab": {}
      },
      "source": [
        ""
      ],
      "execution_count": 0,
      "outputs": []
    }
  ]
}