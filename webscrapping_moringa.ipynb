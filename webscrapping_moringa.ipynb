{
  "nbformat": 4,
  "nbformat_minor": 0,
  "metadata": {
    "kernelspec": {
      "display_name": "Python 3",
      "language": "python",
      "name": "python3"
    },
    "language_info": {
      "codemirror_mode": {
        "name": "ipython",
        "version": 3
      },
      "file_extension": ".py",
      "mimetype": "text/x-python",
      "name": "python",
      "nbconvert_exporter": "python",
      "pygments_lexer": "ipython3",
      "version": "3.7.4"
    },
    "colab": {
      "name": "webscrapping_moringa.ipynb",
      "provenance": [],
      "include_colab_link": true
    }
  },
  "cells": [
    {
      "cell_type": "markdown",
      "metadata": {
        "id": "view-in-github",
        "colab_type": "text"
      },
      "source": [
        "<a href=\"https://colab.research.google.com/github/abel-keya/moringa-school-projects/blob/master/webscrapping_moringa.ipynb\" target=\"_parent\"><img src=\"https://colab.research.google.com/assets/colab-badge.svg\" alt=\"Open In Colab\"/></a>"
      ]
    },
    {
      "cell_type": "markdown",
      "metadata": {
        "id": "m7DFvRmxoFww",
        "colab_type": "text"
      },
      "source": [
        "Setting up and Workflow"
      ]
    },
    {
      "cell_type": "markdown",
      "metadata": {
        "id": "6NLKq-MIoFwy",
        "colab_type": "text"
      },
      "source": [
        "importing the packages"
      ]
    },
    {
      "cell_type": "code",
      "metadata": {
        "id": "n-C0-FKooFwz",
        "colab_type": "code",
        "colab": {}
      },
      "source": [
        "import requests\n",
        "from bs4 import BeautifulSoup"
      ],
      "execution_count": 0,
      "outputs": []
    },
    {
      "cell_type": "markdown",
      "metadata": {
        "id": "Bh8C8LbNoFw4",
        "colab_type": "text"
      },
      "source": [
        "Making a get request"
      ]
    },
    {
      "cell_type": "code",
      "metadata": {
        "id": "3za8hPoToFw5",
        "colab_type": "code",
        "colab": {},
        "outputId": "a9c4232c-ca3b-44fd-f9d4-372cd5c60569"
      },
      "source": [
        "#base_site=\"https://moringaschool.instructure.com\"\n",
        "base_site=\"https://moringaschool.com\"\n",
        "response=requests.get(base_site)\n",
        "response"
      ],
      "execution_count": 0,
      "outputs": [
        {
          "output_type": "execute_result",
          "data": {
            "text/plain": [
              "<Response [200]>"
            ]
          },
          "metadata": {
            "tags": []
          },
          "execution_count": 2
        }
      ]
    },
    {
      "cell_type": "code",
      "metadata": {
        "id": "XPK1Ms-ooFw_",
        "colab_type": "code",
        "colab": {},
        "outputId": "d1e626e3-635b-4ebe-f5f4-8de334555f69"
      },
      "source": [
        "html = response.content\n",
        "html[:100]"
      ],
      "execution_count": 0,
      "outputs": [
        {
          "output_type": "execute_result",
          "data": {
            "text/plain": [
              "b'\\n<!DOCTYPE html>\\n<html lang=\"en\">\\n<head>\\n    <title>\\n        Developing Future Knowledge Workers | -'"
            ]
          },
          "metadata": {
            "tags": []
          },
          "execution_count": 3
        }
      ]
    },
    {
      "cell_type": "markdown",
      "metadata": {
        "id": "R7aO1GBJoFxD",
        "colab_type": "text"
      },
      "source": [
        "Making the Soup"
      ]
    },
    {
      "cell_type": "code",
      "metadata": {
        "id": "oWpIUNXkoFxD",
        "colab_type": "code",
        "colab": {}
      },
      "source": [
        "soup=BeautifulSoup(html,\"html.parser\")"
      ],
      "execution_count": 0,
      "outputs": []
    },
    {
      "cell_type": "code",
      "metadata": {
        "id": "XVjgVfNvoFxH",
        "colab_type": "code",
        "colab": {}
      },
      "source": [
        "Exporting the html to a file"
      ],
      "execution_count": 0,
      "outputs": []
    },
    {
      "cell_type": "code",
      "metadata": {
        "id": "-Jd0uRxzoFxL",
        "colab_type": "code",
        "colab": {}
      },
      "source": [
        "#with open('moringa_response.html','wb') as file:365datascience\n",
        "with open('moringa1_response.html','wb') as file:\n",
        "  file.write(soup.prettify('utf-8'))"
      ],
      "execution_count": 0,
      "outputs": []
    },
    {
      "cell_type": "markdown",
      "metadata": {
        "id": "xInz6aKeoFxP",
        "colab_type": "text"
      },
      "source": [
        "Searching and navigating the HTML Tree"
      ]
    },
    {
      "cell_type": "code",
      "metadata": {
        "id": "a79VYLTNoFxQ",
        "colab_type": "code",
        "colab": {},
        "outputId": "3c876b58-4b72-4e45-d1fb-0eac031ca6a3"
      },
      "source": [
        "soup"
      ],
      "execution_count": 0,
      "outputs": [
        {
          "output_type": "execute_result",
          "data": {
            "text/plain": [
              "\n",
              "<!DOCTYPE html>\n",
              "\n",
              "<html lang=\"en\">\n",
              "<head>\n",
              "<title>\n",
              "        Developing Future Knowledge Workers | - Moringa School\n",
              "    </title>\n",
              "<meta charset=\"utf-8\"/>\n",
              "<meta content=\"IE=edge\" http-equiv=\"X-UA-Compatible\"/>\n",
              "<meta content=\"width=device-width, initial-scale=1\" name=\"viewport\"/>\n",
              "<meta content=\"Developing the Next Generation of Tech Leaders Through Market-Driven Education\" name=\"description\"/>\n",
              "<meta content=\"moringa school\" name=\"author\"/>\n",
              "<meta content=\"#00a300\" name=\"msapplication-TileColor\"/>\n",
              "<meta content=\"#ffffff\" name=\"theme-color\"/>\n",
              "<link href=\"/static/favicon/favicon-32x32.png\" rel=\"icon\" sizes=\"32x32\" type=\"image/png\"/>\n",
              "<link href=\"/static/favicon/favicon-16x16.png\" rel=\"icon\" sizes=\"16x16\" type=\"image/png\"/>\n",
              "<link href=\"/static/manifest.json\" rel=\"manifest\"/>\n",
              "<link color=\"#5bbad5\" href=\"/static/favicon/safari-pinned-tab.svg\" rel=\"mask-icon\"/>\n",
              "<link href=\"/static/css/bootstrap.min.css\" rel=\"stylesheet\"/>\n",
              "<link href=\"/static/css/font-awesome-all.css\" rel=\"stylesheet\"/>\n",
              "<link href=\"/static/css/main.css\" rel=\"stylesheet\"/>\n",
              "<link href=\"/static/css/home.css\" rel=\"stylesheet\"/>\n",
              "<link href=\"/static/css/slider.css\" rel=\"stylesheet\"/>\n",
              "<link href=\"/static/css/course.css\" rel=\"stylesheet\"/>\n",
              "<link href=\"/static/css/blog.css\" rel=\"stylesheet\"/>\n",
              "<link href=\"/static/css/post_view.css\" rel=\"stylesheet\"/>\n",
              "<link href=\"/static/css/media_queries.css\" rel=\"stylesheet\"/>\n",
              "</head>\n",
              "<body>\n",
              "<nav class=\"navbar navbar-expand-md navbar-dark fixed-top mynav\" id=\"navbar\">\n",
              "<a class=\"navbar-brand\" href=\"/\">\n",
              "<img alt=\"\" id=\"logo\" src=\"/static/img/main-logo.png\"/>\n",
              "</a>\n",
              "<button aria-controls=\"navbarSupportedContent\" aria-expanded=\"false\" aria-label=\"Toggle navigation\" class=\"navbar-toggler\" data-target=\"#navbarSupportedContent\" data-toggle=\"collapse\" type=\"button\">\n",
              "<span class=\"navbar-toggler-icon\"></span>\n",
              "</button>\n",
              "<div class=\"collapse navbar-collapse\" id=\"navbarSupportedContent\">\n",
              "<ul class=\"navbar-nav nav navbar-right ml-md-2\">\n",
              "<li class=\"dropdown\"><a class=\"\" data-toggle=\"dropdown\" href=\"#\">Programs <i class=\"fa fa-chevron-down\"></i></a>\n",
              "<ul class=\"dropdown-menu\" id=\"dropdown\">\n",
              "<li><a href=\"/programs/\">Programs</a></li>\n",
              "<li><a href=\"/programs/software-development/\">Software Development</a></li>\n",
              "<li><a href=\"/programs/data-science-course/\">Data Science</a></li>\n",
              "</ul>\n",
              "</li>\n",
              "</ul>\n",
              "<ul class=\"navbar-nav nav navbar-right ml-auto\">\n",
              "<li><a href=\"/learning-model/\">Learning Model</a></li>\n",
              "<li><a href=\"/about-us/\">About Us</a></li>\n",
              "<li><a href=\"/outcomes/\">Outcomes</a></li>\n",
              "<li><a href=\"/events/\">Events</a></li>\n",
              "<!-- <li><a href=\"https://nairobitechweek.com\">NTW</a></li> -->\n",
              "<li><a href=\"/careers\">Careers</a></li>\n",
              "</ul>\n",
              "</div>\n",
              "</nav>\n",
              "<section class=\"py-1 m-0\" id=\"news_banner\">\n",
              "<span>For coronavirus updates and how it affects the Moringa School community, go to the <span class=\"no-wrap\"><a href=\"/covid-updates\">COVID 19 resource page</a>.</span></span>\n",
              "</section>\n",
              "<header id=\"home_banner_image\">\n",
              "<div class=\"w-100 h-100\" id=\"home_banner_image_text\">\n",
              "<h1 class=\"banner_title home\">Developing the Next Generation of Tech Leaders Through Market-Driven Education</h1>\n",
              "<p class=\"banner_line\"></p>\n",
              "<a class=\"home_course_link\" href=\"/programs/\">\n",
              "<button class=\"btn btn-xl apply\">Browse Courses</button>\n",
              "</a>\n",
              "</div>\n",
              "</header>\n",
              "<section id=\"moringa-pathways-section\">\n",
              "<div class=\"container text-center quote_container\">\n",
              "<p class=\"quote\">Our courses consist of pathways that branch into either full stack development or mobile development.</p>\n",
              "</div>\n",
              "<div class=\"container-fluid text-center\">\n",
              "<div class=\"moringa-pathways\">\n",
              "<img alt=\"\" src=\"/static/img/course-logos/android-studio.jpg\"/>\n",
              "<img alt=\"\" src=\"/static/img/course-logos/django-logo.jpg\"/>\n",
              "<img alt=\"\" src=\"/static/img/course-logos/java-logo.jpg\"/>\n",
              "<img alt=\"\" src=\"/static/img/course-logos/python-logo.jpg\"/>\n",
              "<img alt=\"\" src=\"/static/img/course-logos/android-developers.jpg\"/>\n",
              "</div>\n",
              "</div>\n",
              "</section>\n",
              "<section class=\"bg-gray\">\n",
              "<div class=\"container-fluid bg-gray\">\n",
              "<div class=\"row\">\n",
              "<div class=\"col-md-6\">\n",
              "<div class=\"moringa-events-pane-left blue\">\n",
              "<h1>Upcoming Events</h1>\n",
              "<h2 class=\"light-font\">Stay engaged, stay focused, stay coded.\n",
              "                            <br/>\n",
              "</h2>\n",
              "<h3 class=\"medium-font\">Experience the vibrant energy of <br/> our events</h3>\n",
              "<p><a class=\"moringa-learn-more blue\" href=\"/events\">Learn More<i class=\"fa fa-long-arrow-right\"></i> </a></p>\n",
              "</div>\n",
              "</div>\n",
              "<div class=\"col-md-6\">\n",
              "<div class=\"moringa-events-pane-right\">\n",
              "<img data-src=\"/static/img/moringa-events.jpg\" src=\"data:image/png;base64,R0lGODlhAQABAAD/ACwAAAAAAQABAAACADs=\"/>\n",
              "</div>\n",
              "</div>\n",
              "</div>\n",
              "</div>\n",
              "</section>\n",
              "<section id=\"alumni\">\n",
              "<div class=\"container-fluid\">\n",
              "<div class=\"text-left\">\n",
              "<h1 class=\"heading\">Our Alumni</h1>\n",
              "<p class=\"paragraph\">Hear from our recent students</p>\n",
              "</div>\n",
              "</div>\n",
              "<div class=\"container-fluid\">\n",
              "<div class=\"row\">\n",
              "<div class=\"col-12 col-sm-6 col-md-4\">\n",
              "<div class=\"content\">\n",
              "<img alt=\"\" class=\"about-image\" data-src=\"/static/img/alumni/0.jpg\" src=\"data:image/png;base64,R0lGODlhAQABAAD/ACwAAAAAAQABAAACADs=\"/>\n",
              "<div class=\"content-details content-detail d-flex align-items-center justify-content-center\">\n",
              "<div class=\"play\">\n",
              "<a href=\"https://youtu.be/tTvwX-NRGrw\" rel=\"noreferrer noopener\" target=\"_blank\">\n",
              "<i class=\"fa fa-play-circle\"></i>\n",
              "</a>\n",
              "</div>\n",
              "</div>\n",
              "</div>\n",
              "<div>\n",
              "<h1 class=\"tab-header\">Kevin Maina</h1>\n",
              "<p class=\"alumni-p\">Software Developer &amp; Moringa School Alumni</p>\n",
              "</div>\n",
              "</div>\n",
              "<div class=\"col-12 col-sm-6 col-md-4\">\n",
              "<div class=\"content\">\n",
              "<img alt=\"\" class=\"about-image\" data-src=\"/static/img/alumni/1.jpg\" src=\"data:image/png;base64,R0lGODlhAQABAAD/ACwAAAAAAQABAAACADs=\"/>\n",
              "<div class=\"content-details content-detail d-flex align-items-center justify-content-center\">\n",
              "<div class=\"play\"><a href=\"https://youtu.be/KalL9nm8IlA\" rel=\"noreferrer noopener\" target=\"_blank\"><i class=\"fa fa-play-circle\"></i></a>\n",
              "</div>\n",
              "</div>\n",
              "</div>\n",
              "<div>\n",
              "<h1 class=\"tab-header\">Mariam Omar</h1>\n",
              "<p class=\"alumni-p\">Full-stack Web Developer &amp; Moringa School Alumni</p>\n",
              "</div>\n",
              "</div>\n",
              "<div class=\"col-12 col-sm-6 col-md-4\">\n",
              "<div class=\"content\">\n",
              "<img alt=\"\" class=\"about-image\" data-src=\"/static/img/alumni/2.jpg\" src=\"data:image/png;base64,R0lGODlhAQABAAD/ACwAAAAAAQABAAACADs=\"/>\n",
              "<div class=\"content-details content-detail d-flex align-items-center justify-content-center\">\n",
              "<div class=\"play\"><a href=\"https://youtu.be/QMaoM54tu20\" rel=\"noreferrer noopener\" target=\"_blank\"><i class=\"fa fa-play-circle\"></i></a>\n",
              "</div>\n",
              "</div>\n",
              "</div>\n",
              "<div>\n",
              "<h1 class=\"tab-header\">Paul Lucas</h1>\n",
              "<p class=\"alumni-p\">Techpreneur &amp; Moringa School Alumni</p>\n",
              "</div>\n",
              "</div>\n",
              "</div>\n",
              "</div>\n",
              "<div class=\"container\">\n",
              "<div class=\"row\">\n",
              "<div class=\"col-md-12 text-center\">\n",
              "<a href=\"https://www.youtube.com/playlist?list=PLSEr6vQWk10F-n5x6ps-TJgOWObECLwfO\" target=\"_blank\">\n",
              "<button class=\"btn btn-xl bg-green\">View Our Alumni</button>\n",
              "</a>\n",
              "</div>\n",
              "</div>\n",
              "</div>\n",
              "</section>\n",
              "<section class=\"outcomes-data\">\n",
              "</section>\n",
              "<section class=\"bg-gray\" data-nosnippet=\"\">\n",
              "<div class=\"container\">\n",
              "<div class=\"row\">\n",
              "<div class=\"col-md-12 text-left\">\n",
              "<h1 class=\"heading\">Moringa School in The News</h1>\n",
              "<p class=\"paragraph\">\"In times of profound change, the learners inherit the earth,\n",
              "                        while the learned find themselves beautifully equipped to deal with a world that\n",
              "                        no longer exists.” <br/>— Eric Hoffer</p>\n",
              "</div>\n",
              "</div>\n",
              "</div>\n",
              "<div>\n",
              "<div class=\"news-row\">\n",
              "<div class=\"news\">\n",
              "<a href=\"https://www.huffingtonpost.com/entry/59fb2448e4b09887ad6f3df0\" target=\"_blank\">\n",
              "<div class=\"card-body\">\n",
              "<img alt=\"\" class=\"card-img\" data-src=\"/static/img/news/huffpost.jpg\" src=\"data:image/png;base64,R0lGODlhAQABAAD/ACwAAAAAAQABAAACADs=\"/>\n",
              "<p class=\"card-text\">How Automation in Africa Will Affect the Skills Needs of Employers</p>\n",
              "</div>\n",
              "</a>\n",
              "</div>\n",
              "<div class=\"news\">\n",
              "<a href=\"https://www.nbcnews.com/news/nbcblk/kenyan-school-producing-next-generation-engineers-n822366\">\n",
              "<div class=\"card-body\">\n",
              "<img alt=\"\" class=\"card-img\" data-src=\"/static/img/news/nbc.jpg\" src=\"data:image/png;base64,R0lGODlhAQABAAD/ACwAAAAAAQABAAACADs=\"/>\n",
              "<p class=\"card-text\">Kenyan school is producing next generation of engineers</p>\n",
              "</div>\n",
              "</a>\n",
              "</div>\n",
              "<div class=\"news\">\n",
              "<a href=\"http://disrupt-africa.com/2017/11/student-finance-africa-launches-in-kenya-with-fsd-support/\">\n",
              "<div class=\"card-body\">\n",
              "<img alt=\"\" class=\"card-img\" data-src=\"/static/img/news/5.jpg\" src=\"data:image/png;base64,R0lGODlhAQABAAD/ACwAAAAAAQABAAACADs=\"/>\n",
              "<p class=\"card-text\">Alternative-lending startup Student Finance Africa (SFA) is providing\n",
              "                                educational loans to\n",
              "                                Moringa School in Nairobi.</p>\n",
              "</div>\n",
              "</a>\n",
              "</div>\n",
              "<div class=\"news\">\n",
              "<a href=\"https://findingimpact.com/fip-043-bootstrapping-with-audrey-cheng/\">\n",
              "<div class=\"card-body\">\n",
              "<img alt=\"\" class=\"card-img\" data-src=\"/static/img/news/8.jpg\" src=\"data:image/png;base64,R0lGODlhAQABAAD/ACwAAAAAAQABAAACADs=\"/>\n",
              "<p class=\"card-text\">Bootstrap your business without sacrificing results or deviating from\n",
              "                                you mission along the way.</p>\n",
              "</div>\n",
              "</a>\n",
              "</div>\n",
              "<div class=\"news\">\n",
              "<a href=\"https://www.modernghana.com/news/820470/moringa-school-partners-with-mest-to-bring-technology-course.html\">\n",
              "<div class=\"card-body\">\n",
              "<img alt=\"\" class=\"card-img\" data-src=\"/static/img/news/9.jpg\" src=\"data:image/png;base64,R0lGODlhAQABAAD/ACwAAAAAAQABAAACADs=\"/>\n",
              "<p class=\"card-text\">Moringa School Partners with MEST To Bring Technology Courses To\n",
              "                                Talent Across Africa</p>\n",
              "</div>\n",
              "</a>\n",
              "</div>\n",
              "<div class=\"news\">\n",
              "<a href=\"https://www.howwemadeitinafrica.com/talent-shortage-prompts-entrepreneur-to-start-a-tech-school-in-kenya/\">\n",
              "<div class=\"card-body\">\n",
              "<img alt=\"\" class=\"card-img\" data-src=\"/static/img/news/1.jpg\" src=\"data:image/png;base64,R0lGODlhAQABAAD/ACwAAAAAAQABAAACADs=\"/>\n",
              "<p class=\"card-text\">Talent shortage prompts entrepreneur to start a tech school in\n",
              "                                Kenya</p>\n",
              "</div>\n",
              "</a>\n",
              "</div>\n",
              "<div class=\"news\">\n",
              "<a href=\"https://qz.com/india/1110205/in-pakistans-khyber-pakhtunkhwa-a-kenyan-startup-will-teach-thousands-of-young-people-to-code/\">\n",
              "<div class=\"card-body\">\n",
              "<img alt=\"\" class=\"card-img\" data-src=\"/static/img/news/10.jpg\" src=\"data:image/png;base64,R0lGODlhAQABAAD/ACwAAAAAAQABAAACADs=\"/>\n",
              "<p class=\"card-text\">In a restive corner of Pakistan, a Kenyan startup will teach\n",
              "                                thousands of young people to code.</p>\n",
              "</div>\n",
              "</a>\n",
              "</div>\n",
              "</div>\n",
              "</div>\n",
              "</section>\n",
              "<div class=\"text-center py-4 bg-light\" id=\"social-community\">\n",
              "<div class=\"footer-container container\">\n",
              "<div class=\"row\">\n",
              "<div class=\"col-md-3 d-none d-md-block images-zig\">\n",
              "<span class=\"img-one\"><img alt=\"\" src=\"/static/img/footer/django.jpg\"/></span>\n",
              "<span class=\"img-two\"><img alt=\"\" src=\"/static/img/footer/python.jpg\"/></span>\n",
              "<span class=\"img-three\"><img alt=\"\" src=\"/static/img/footer/flask.jpg\"/></span>\n",
              "<span class=\"img-four\"><img alt=\"\" src=\"/static/img/footer/angular.svg\"/></span>\n",
              "</div>\n",
              "<div class=\"col-md-6 col-12\">\n",
              "<h1 class=\"heading\">Join the Community!</h1>\n",
              "<p class=\"paragraph\">We are dedicated to providing good coding practices and\n",
              "                    <br/>\n",
              "                    we would like you to be part of the community</p>\n",
              "<div class=\"enroll-button text-center\">\n",
              "<a href=\"/programs/\">\n",
              "<button class=\"btn btn-xl bg-green\">Enroll Now!</button>\n",
              "</a>\n",
              "</div>\n",
              "</div>\n",
              "<div class=\"col-md-3 d-none d-md-block images-zig\">\n",
              "<span class=\"img-one\"><img alt=\"\" src=\"/static/img/footer/java.jpg\"/></span>\n",
              "<span class=\"img-two\"><img alt=\"\" src=\"/static/img/footer/spark.svg\"/></span>\n",
              "<span class=\"img-three\"><img alt=\"\" src=\"/static/img/footer/android.jpg\"/></span>\n",
              "<span class=\"img-four\"><img alt=\"\" src=\"/static/img/footer/javascript.jpg\"/></span>\n",
              "</div>\n",
              "</div>\n",
              "</div>\n",
              "</div>\n",
              "<section class=\"bg-green\" id=\"footer-social\">\n",
              "<div class=\"container\">\n",
              "<div class=\"row\">\n",
              "<div class=\"col-12 col-sm-6 col-lg-3 py-2\">\n",
              "<div>\n",
              "<a href=\"https://www.youtube.com/channel/UCnkYPrm1GvxDzGlT0S2zn4w/videos\" target=\"_blank\">\n",
              "<i class=\"fab fa-youtube\"></i>\n",
              "                        Watch us on YouTube\n",
              "                    </a>\n",
              "</div>\n",
              "</div>\n",
              "<div class=\"col-12 col-sm-6 col-lg-3 py-2\">\n",
              "<div>\n",
              "<a href=\"https://www.linkedin.com/company/moringa-school\" target=\"_blank\">\n",
              "<i class=\"fab fa-linkedin\"></i>\n",
              "                        Engage us on LinkedIn\n",
              "                    </a>\n",
              "</div>\n",
              "</div>\n",
              "<div class=\"col-12 col-sm-6 col-lg-3 py-2\">\n",
              "<div>\n",
              "<a href=\"https://twitter.com/moringaschool\" target=\"_blank\">\n",
              "<i class=\"fab fa-twitter\"></i>\n",
              "                        Follow us on Twitter\n",
              "                    </a>\n",
              "</div>\n",
              "</div>\n",
              "<div class=\"col-12 col-sm-6 col-lg-3 py-2\">\n",
              "<div>\n",
              "<a href=\"https://www.facebook.com/moringaschool/\" target=\"_blank\">\n",
              "<i class=\"fab fa-facebook\"></i>\n",
              "                        Find us on Facebook\n",
              "                    </a>\n",
              "</div>\n",
              "</div>\n",
              "</div>\n",
              "</div>\n",
              "</section>\n",
              "<footer>\n",
              "<div class=\"container-fluid\">\n",
              "<div class=\"footer_nav\">\n",
              "<div class=\"row\">\n",
              "<div class=\"col-md-4\">\n",
              "<p><a href=\"tel:+254711581484\"><b>General Enquiries:</b> +254 711 581 484</a></p>\n",
              "<p><a href=\"https://wa.me/254712293878\"><b>WhatsApp Enquiries:</b> <i class=\"fab fa-whatsapp\"></i> +254 711 581 484</a></p>\n",
              "<p><b>Email:</b> contact@moringaschool.com</p>\n",
              "<p><b>Admissions Enquiries:</b> +254 712 293 878</p>\n",
              "<p><b>Data Science Enquiries:</b> +254 741 493 565</p>\n",
              "<p><b>Address:</b> P.O.Box 28860-00100</p>\n",
              "<p><b>Location:</b> Ngong Lane Plaza, Ngong Lane. Nairobi</p>\n",
              "</div>\n",
              "<div class=\"col-md-4\">\n",
              "<p class=\"p-heading\"><a href=\"/programs/\">Programs</a></p>\n",
              "<p><a href=\"/programs/software-development/\">Software Development</a></p>\n",
              "<p><a href=\"/programs/data-science-course/\">Data Science</a></p>\n",
              "</div>\n",
              "<div class=\"col-md-4\">\n",
              "<!-- <p><a href=/careers>Careers</a></p> -->\n",
              "<p><a href=\"/learning-model/\">Learning Model</a></p>\n",
              "<p><a href=\"/about-us/\">About Us</a></p>\n",
              "<p><a href=\"/outcomes/\">Outcomes</a></p>\n",
              "<p><a href=\"/events/\">Events</a></p>\n",
              "</div>\n",
              "</div>\n",
              "</div>\n",
              "</div>\n",
              "</footer>\n",
              "<!-- Start of moringasupport Zendesk Widget script -->\n",
              "<script id=\"ze-snippet\" src=\"https://static.zdassets.com/ekr/snippet.js?key=0532414e-ffa9-4278-9570-fff17d90b2e4\"> </script>\n",
              "<!-- End of moringasupport Zendesk Widget script -->\n",
              "<script src=\"/static/js/jquery-3.4.1.min.js\" type=\"text/javascript\"></script>\n",
              "<script src=\"/static/js/bootstrap.min.js\" type=\"text/javascript\"></script>\n",
              "<script src=\"/static/js/moment.min.js\" type=\"text/javascript\"></script>\n",
              "<script src=\"/static/js/main.js\" type=\"text/javascript\"></script>\n",
              "<script src=\"/static/js/defer-images.js\" type=\"text/javascript\"></script>\n",
              "<!-- Global site tag (gtag.js) - Google Analytics -->\n",
              "<script async=\"\" defer=\"\" src=\"https://www.googletagmanager.com/gtag/js?id=UA-125823348-1\"></script>\n",
              "<script>\n",
              "        window.dataLayer = window.dataLayer || [];\n",
              "        function gtag() {\n",
              "            dataLayer.push(arguments);\n",
              "        }\n",
              "        gtag('js', new Date());\n",
              "        gtag('config', 'UA-125823348-1');\n",
              "    </script>\n",
              "<!-- Google Tag Manager -->\n",
              "<script>\n",
              "        (function (w, d, s, l, i) {\n",
              "            w[l] = w[l] || [];\n",
              "            w[l].push({\n",
              "                'gtm.start':\n",
              "                    new Date().getTime(), event: 'gtm.js'\n",
              "            });\n",
              "            var f = d.getElementsByTagName(s)[0],\n",
              "                j = d.createElement(s), dl = l != 'dataLayer' ? '&l=' + l : '';\n",
              "            j.async = true;\n",
              "            j.src =\n",
              "                'https://www.googletagmanager.com/gtm.js?id=' + i + dl;\n",
              "            f.parentNode.insertBefore(j, f);\n",
              "        })(window, document, 'script', 'dataLayer', 'GTM-KM4VGT8');\n",
              "    </script>\n",
              "<!-- End Google Tag Manager -->\n",
              "<!-- Google Tag Manager (noscript) -->\n",
              "<noscript>\n",
              "<iframe height=\"0\" src=\"https://www.googletagmanager.com/ns.html?id=GTM-KM4VGT8\" style=\"display:none;visibility:hidden\" width=\"0\"></iframe>\n",
              "</noscript>\n",
              "<!-- End Google Tag Manager (noscript) -->\n",
              "</body>\n",
              "</html>"
            ]
          },
          "metadata": {
            "tags": []
          },
          "execution_count": 6
        }
      ]
    },
    {
      "cell_type": "code",
      "metadata": {
        "id": "asPCoJE8oFxU",
        "colab_type": "code",
        "colab": {},
        "outputId": "8ab44f94-8274-4f7c-9581-740a6296b5be"
      },
      "source": [
        "soup.find('head')"
      ],
      "execution_count": 0,
      "outputs": [
        {
          "output_type": "execute_result",
          "data": {
            "text/plain": [
              "<head>\n",
              "<title>\n",
              "        Developing Future Knowledge Workers | - Moringa School\n",
              "    </title>\n",
              "<meta charset=\"utf-8\"/>\n",
              "<meta content=\"IE=edge\" http-equiv=\"X-UA-Compatible\"/>\n",
              "<meta content=\"width=device-width, initial-scale=1\" name=\"viewport\"/>\n",
              "<meta content=\"Developing the Next Generation of Tech Leaders Through Market-Driven Education\" name=\"description\"/>\n",
              "<meta content=\"moringa school\" name=\"author\"/>\n",
              "<meta content=\"#00a300\" name=\"msapplication-TileColor\"/>\n",
              "<meta content=\"#ffffff\" name=\"theme-color\"/>\n",
              "<link href=\"/static/favicon/favicon-32x32.png\" rel=\"icon\" sizes=\"32x32\" type=\"image/png\"/>\n",
              "<link href=\"/static/favicon/favicon-16x16.png\" rel=\"icon\" sizes=\"16x16\" type=\"image/png\"/>\n",
              "<link href=\"/static/manifest.json\" rel=\"manifest\"/>\n",
              "<link color=\"#5bbad5\" href=\"/static/favicon/safari-pinned-tab.svg\" rel=\"mask-icon\"/>\n",
              "<link href=\"/static/css/bootstrap.min.css\" rel=\"stylesheet\"/>\n",
              "<link href=\"/static/css/font-awesome-all.css\" rel=\"stylesheet\"/>\n",
              "<link href=\"/static/css/main.css\" rel=\"stylesheet\"/>\n",
              "<link href=\"/static/css/home.css\" rel=\"stylesheet\"/>\n",
              "<link href=\"/static/css/slider.css\" rel=\"stylesheet\"/>\n",
              "<link href=\"/static/css/course.css\" rel=\"stylesheet\"/>\n",
              "<link href=\"/static/css/blog.css\" rel=\"stylesheet\"/>\n",
              "<link href=\"/static/css/post_view.css\" rel=\"stylesheet\"/>\n",
              "<link href=\"/static/css/media_queries.css\" rel=\"stylesheet\"/>\n",
              "</head>"
            ]
          },
          "metadata": {
            "tags": []
          },
          "execution_count": 7
        }
      ]
    },
    {
      "cell_type": "code",
      "metadata": {
        "id": "NeL2v7n7oFxY",
        "colab_type": "code",
        "colab": {},
        "outputId": "67d7f91c-71a7-4391-b3d2-78df3caf0d09"
      },
      "source": [
        "print(soup.find('Video'))"
      ],
      "execution_count": 0,
      "outputs": [
        {
          "output_type": "stream",
          "text": [
            "None\n"
          ],
          "name": "stdout"
        }
      ]
    },
    {
      "cell_type": "code",
      "metadata": {
        "id": "rS0BDChXoFxb",
        "colab_type": "code",
        "colab": {},
        "outputId": "5c72b28c-c9b9-43b4-e9a5-cab4ae3223a5"
      },
      "source": [
        "type(soup.find('Video'))"
      ],
      "execution_count": 0,
      "outputs": [
        {
          "output_type": "execute_result",
          "data": {
            "text/plain": [
              "NoneType"
            ]
          },
          "metadata": {
            "tags": []
          },
          "execution_count": 9
        }
      ]
    },
    {
      "cell_type": "code",
      "metadata": {
        "id": "6vSl_yeSoFxg",
        "colab_type": "code",
        "colab": {},
        "outputId": "68a072fa-9cff-4785-8e87-06ec82346de5"
      },
      "source": [
        "soup.find('a')"
      ],
      "execution_count": 0,
      "outputs": [
        {
          "output_type": "execute_result",
          "data": {
            "text/plain": [
              "<a class=\"navbar-brand\" href=\"/\">\n",
              "<img alt=\"\" id=\"logo\" src=\"/static/img/main-logo.png\"/>\n",
              "</a>"
            ]
          },
          "metadata": {
            "tags": []
          },
          "execution_count": 10
        }
      ]
    },
    {
      "cell_type": "code",
      "metadata": {
        "id": "3hRE-BRloFxl",
        "colab_type": "code",
        "colab": {},
        "outputId": "e986a631-1c47-49b4-d679-39d0fafea13e"
      },
      "source": [
        "links=soup.find_all('a')\n",
        "links"
      ],
      "execution_count": 0,
      "outputs": [
        {
          "output_type": "execute_result",
          "data": {
            "text/plain": [
              "[<a class=\"navbar-brand\" href=\"/\">\n",
              " <img alt=\"\" id=\"logo\" src=\"/static/img/main-logo.png\"/>\n",
              " </a>,\n",
              " <a class=\"\" data-toggle=\"dropdown\" href=\"#\">Programs <i class=\"fa fa-chevron-down\"></i></a>,\n",
              " <a href=\"/programs/\">Programs</a>,\n",
              " <a href=\"/programs/software-development/\">Software Development</a>,\n",
              " <a href=\"/programs/data-science-course/\">Data Science</a>,\n",
              " <a href=\"/learning-model/\">Learning Model</a>,\n",
              " <a href=\"/about-us/\">About Us</a>,\n",
              " <a href=\"/outcomes/\">Outcomes</a>,\n",
              " <a href=\"/events/\">Events</a>,\n",
              " <a href=\"/careers\">Careers</a>,\n",
              " <a href=\"/covid-updates\">COVID 19 resource page</a>,\n",
              " <a class=\"home_course_link\" href=\"/programs/\">\n",
              " <button class=\"btn btn-xl apply\">Browse Courses</button>\n",
              " </a>,\n",
              " <a class=\"moringa-learn-more blue\" href=\"/events\">Learn More<i class=\"fa fa-long-arrow-right\"></i> </a>,\n",
              " <a href=\"https://youtu.be/tTvwX-NRGrw\" rel=\"noreferrer noopener\" target=\"_blank\">\n",
              " <i class=\"fa fa-play-circle\"></i>\n",
              " </a>,\n",
              " <a href=\"https://youtu.be/KalL9nm8IlA\" rel=\"noreferrer noopener\" target=\"_blank\"><i class=\"fa fa-play-circle\"></i></a>,\n",
              " <a href=\"https://youtu.be/QMaoM54tu20\" rel=\"noreferrer noopener\" target=\"_blank\"><i class=\"fa fa-play-circle\"></i></a>,\n",
              " <a href=\"https://www.youtube.com/playlist?list=PLSEr6vQWk10F-n5x6ps-TJgOWObECLwfO\" target=\"_blank\">\n",
              " <button class=\"btn btn-xl bg-green\">View Our Alumni</button>\n",
              " </a>,\n",
              " <a href=\"https://www.huffingtonpost.com/entry/59fb2448e4b09887ad6f3df0\" target=\"_blank\">\n",
              " <div class=\"card-body\">\n",
              " <img alt=\"\" class=\"card-img\" data-src=\"/static/img/news/huffpost.jpg\" src=\"data:image/png;base64,R0lGODlhAQABAAD/ACwAAAAAAQABAAACADs=\"/>\n",
              " <p class=\"card-text\">How Automation in Africa Will Affect the Skills Needs of Employers</p>\n",
              " </div>\n",
              " </a>,\n",
              " <a href=\"https://www.nbcnews.com/news/nbcblk/kenyan-school-producing-next-generation-engineers-n822366\">\n",
              " <div class=\"card-body\">\n",
              " <img alt=\"\" class=\"card-img\" data-src=\"/static/img/news/nbc.jpg\" src=\"data:image/png;base64,R0lGODlhAQABAAD/ACwAAAAAAQABAAACADs=\"/>\n",
              " <p class=\"card-text\">Kenyan school is producing next generation of engineers</p>\n",
              " </div>\n",
              " </a>,\n",
              " <a href=\"http://disrupt-africa.com/2017/11/student-finance-africa-launches-in-kenya-with-fsd-support/\">\n",
              " <div class=\"card-body\">\n",
              " <img alt=\"\" class=\"card-img\" data-src=\"/static/img/news/5.jpg\" src=\"data:image/png;base64,R0lGODlhAQABAAD/ACwAAAAAAQABAAACADs=\"/>\n",
              " <p class=\"card-text\">Alternative-lending startup Student Finance Africa (SFA) is providing\n",
              "                                 educational loans to\n",
              "                                 Moringa School in Nairobi.</p>\n",
              " </div>\n",
              " </a>,\n",
              " <a href=\"https://findingimpact.com/fip-043-bootstrapping-with-audrey-cheng/\">\n",
              " <div class=\"card-body\">\n",
              " <img alt=\"\" class=\"card-img\" data-src=\"/static/img/news/8.jpg\" src=\"data:image/png;base64,R0lGODlhAQABAAD/ACwAAAAAAQABAAACADs=\"/>\n",
              " <p class=\"card-text\">Bootstrap your business without sacrificing results or deviating from\n",
              "                                 you mission along the way.</p>\n",
              " </div>\n",
              " </a>,\n",
              " <a href=\"https://www.modernghana.com/news/820470/moringa-school-partners-with-mest-to-bring-technology-course.html\">\n",
              " <div class=\"card-body\">\n",
              " <img alt=\"\" class=\"card-img\" data-src=\"/static/img/news/9.jpg\" src=\"data:image/png;base64,R0lGODlhAQABAAD/ACwAAAAAAQABAAACADs=\"/>\n",
              " <p class=\"card-text\">Moringa School Partners with MEST To Bring Technology Courses To\n",
              "                                 Talent Across Africa</p>\n",
              " </div>\n",
              " </a>,\n",
              " <a href=\"https://www.howwemadeitinafrica.com/talent-shortage-prompts-entrepreneur-to-start-a-tech-school-in-kenya/\">\n",
              " <div class=\"card-body\">\n",
              " <img alt=\"\" class=\"card-img\" data-src=\"/static/img/news/1.jpg\" src=\"data:image/png;base64,R0lGODlhAQABAAD/ACwAAAAAAQABAAACADs=\"/>\n",
              " <p class=\"card-text\">Talent shortage prompts entrepreneur to start a tech school in\n",
              "                                 Kenya</p>\n",
              " </div>\n",
              " </a>,\n",
              " <a href=\"https://qz.com/india/1110205/in-pakistans-khyber-pakhtunkhwa-a-kenyan-startup-will-teach-thousands-of-young-people-to-code/\">\n",
              " <div class=\"card-body\">\n",
              " <img alt=\"\" class=\"card-img\" data-src=\"/static/img/news/10.jpg\" src=\"data:image/png;base64,R0lGODlhAQABAAD/ACwAAAAAAQABAAACADs=\"/>\n",
              " <p class=\"card-text\">In a restive corner of Pakistan, a Kenyan startup will teach\n",
              "                                 thousands of young people to code.</p>\n",
              " </div>\n",
              " </a>,\n",
              " <a href=\"/programs/\">\n",
              " <button class=\"btn btn-xl bg-green\">Enroll Now!</button>\n",
              " </a>,\n",
              " <a href=\"https://www.youtube.com/channel/UCnkYPrm1GvxDzGlT0S2zn4w/videos\" target=\"_blank\">\n",
              " <i class=\"fab fa-youtube\"></i>\n",
              "                         Watch us on YouTube\n",
              "                     </a>,\n",
              " <a href=\"https://www.linkedin.com/company/moringa-school\" target=\"_blank\">\n",
              " <i class=\"fab fa-linkedin\"></i>\n",
              "                         Engage us on LinkedIn\n",
              "                     </a>,\n",
              " <a href=\"https://twitter.com/moringaschool\" target=\"_blank\">\n",
              " <i class=\"fab fa-twitter\"></i>\n",
              "                         Follow us on Twitter\n",
              "                     </a>,\n",
              " <a href=\"https://www.facebook.com/moringaschool/\" target=\"_blank\">\n",
              " <i class=\"fab fa-facebook\"></i>\n",
              "                         Find us on Facebook\n",
              "                     </a>,\n",
              " <a href=\"tel:+254711581484\"><b>General Enquiries:</b> +254 711 581 484</a>,\n",
              " <a href=\"https://wa.me/254712293878\"><b>WhatsApp Enquiries:</b> <i class=\"fab fa-whatsapp\"></i> +254 711 581 484</a>,\n",
              " <a href=\"/programs/\">Programs</a>,\n",
              " <a href=\"/programs/software-development/\">Software Development</a>,\n",
              " <a href=\"/programs/data-science-course/\">Data Science</a>,\n",
              " <a href=\"/learning-model/\">Learning Model</a>,\n",
              " <a href=\"/about-us/\">About Us</a>,\n",
              " <a href=\"/outcomes/\">Outcomes</a>,\n",
              " <a href=\"/events/\">Events</a>]"
            ]
          },
          "metadata": {
            "tags": []
          },
          "execution_count": 11
        }
      ]
    },
    {
      "cell_type": "code",
      "metadata": {
        "id": "cqBNuLGsoFxp",
        "colab_type": "code",
        "colab": {},
        "outputId": "fe0f24de-93d8-4d9d-c65a-b05343fcc32e"
      },
      "source": [
        "isinstance(links,list)"
      ],
      "execution_count": 0,
      "outputs": [
        {
          "output_type": "execute_result",
          "data": {
            "text/plain": [
              "True"
            ]
          },
          "metadata": {
            "tags": []
          },
          "execution_count": 12
        }
      ]
    },
    {
      "cell_type": "code",
      "metadata": {
        "id": "vfeXD8QboFxs",
        "colab_type": "code",
        "colab": {},
        "outputId": "a277b78c-7735-4dee-f741-9de1ca8d4948"
      },
      "source": [
        "soup.find_all('video')"
      ],
      "execution_count": 0,
      "outputs": [
        {
          "output_type": "execute_result",
          "data": {
            "text/plain": [
              "[]"
            ]
          },
          "metadata": {
            "tags": []
          },
          "execution_count": 13
        }
      ]
    },
    {
      "cell_type": "code",
      "metadata": {
        "id": "Gyd6AMGxoFxv",
        "colab_type": "code",
        "colab": {},
        "outputId": "788f3e36-aca9-40d1-9a0a-112390f2556a"
      },
      "source": [
        "len(links)"
      ],
      "execution_count": 0,
      "outputs": [
        {
          "output_type": "execute_result",
          "data": {
            "text/plain": [
              "38"
            ]
          },
          "metadata": {
            "tags": []
          },
          "execution_count": 14
        }
      ]
    },
    {
      "cell_type": "code",
      "metadata": {
        "id": "FvFPtyUuoFxy",
        "colab_type": "code",
        "colab": {}
      },
      "source": [
        "table=soup.find('tbody')"
      ],
      "execution_count": 0,
      "outputs": []
    },
    {
      "cell_type": "code",
      "metadata": {
        "id": "ZvVjoBLOoFx4",
        "colab_type": "code",
        "colab": {}
      },
      "source": [
        "table"
      ],
      "execution_count": 0,
      "outputs": []
    },
    {
      "cell_type": "code",
      "metadata": {
        "id": "U6YxmVn8oFx7",
        "colab_type": "code",
        "colab": {},
        "outputId": "19f967de-39ff-48a4-a7aa-be86db6c5695"
      },
      "source": [
        "type('table')"
      ],
      "execution_count": 0,
      "outputs": [
        {
          "output_type": "execute_result",
          "data": {
            "text/plain": [
              "str"
            ]
          },
          "metadata": {
            "tags": []
          },
          "execution_count": 71
        }
      ]
    },
    {
      "cell_type": "code",
      "metadata": {
        "id": "dc4gy7O0oFx_",
        "colab_type": "code",
        "colab": {},
        "outputId": "baf070cf-2495-4596-aa21-4405c3e4f794"
      },
      "source": [
        "table.find_all('td')"
      ],
      "execution_count": 0,
      "outputs": [
        {
          "output_type": "error",
          "ename": "AttributeError",
          "evalue": "'NoneType' object has no attribute 'find_all'",
          "traceback": [
            "\u001b[1;31m---------------------------------------------------------------------------\u001b[0m",
            "\u001b[1;31mAttributeError\u001b[0m                            Traceback (most recent call last)",
            "\u001b[1;32m<ipython-input-17-2d33ee3d6606>\u001b[0m in \u001b[0;36m<module>\u001b[1;34m\u001b[0m\n\u001b[1;32m----> 1\u001b[1;33m \u001b[0mtable\u001b[0m\u001b[1;33m.\u001b[0m\u001b[0mfind_all\u001b[0m\u001b[1;33m(\u001b[0m\u001b[1;34m'td'\u001b[0m\u001b[1;33m)\u001b[0m\u001b[1;33m\u001b[0m\u001b[1;33m\u001b[0m\u001b[0m\n\u001b[0m",
            "\u001b[1;31mAttributeError\u001b[0m: 'NoneType' object has no attribute 'find_all'"
          ]
        }
      ]
    },
    {
      "cell_type": "code",
      "metadata": {
        "id": "MncBqsT0oFyC",
        "colab_type": "code",
        "colab": {},
        "outputId": "c419cdc2-4d03-424a-da03-aef4e54b1f06"
      },
      "source": [
        "table.find('td')"
      ],
      "execution_count": 0,
      "outputs": [
        {
          "output_type": "error",
          "ename": "AttributeError",
          "evalue": "'NoneType' object has no attribute 'find'",
          "traceback": [
            "\u001b[1;31m---------------------------------------------------------------------------\u001b[0m",
            "\u001b[1;31mAttributeError\u001b[0m                            Traceback (most recent call last)",
            "\u001b[1;32m<ipython-input-18-4e99b8ec8d8d>\u001b[0m in \u001b[0;36m<module>\u001b[1;34m\u001b[0m\n\u001b[1;32m----> 1\u001b[1;33m \u001b[0mtable\u001b[0m\u001b[1;33m.\u001b[0m\u001b[0mfind\u001b[0m\u001b[1;33m(\u001b[0m\u001b[1;34m'td'\u001b[0m\u001b[1;33m)\u001b[0m\u001b[1;33m\u001b[0m\u001b[1;33m\u001b[0m\u001b[0m\n\u001b[0m",
            "\u001b[1;31mAttributeError\u001b[0m: 'NoneType' object has no attribute 'find'"
          ]
        }
      ]
    },
    {
      "cell_type": "markdown",
      "metadata": {
        "id": "iLaA5MOeoFyF",
        "colab_type": "text"
      },
      "source": [
        "Navigating the Tree"
      ]
    },
    {
      "cell_type": "code",
      "metadata": {
        "id": "pRYphFMjoFyF",
        "colab_type": "code",
        "colab": {},
        "outputId": "7894d6b6-4e5f-4330-b290-429292d1dc30"
      },
      "source": [
        "table.contents"
      ],
      "execution_count": 0,
      "outputs": [
        {
          "output_type": "error",
          "ename": "AttributeError",
          "evalue": "'NoneType' object has no attribute 'contents'",
          "traceback": [
            "\u001b[1;31m---------------------------------------------------------------------------\u001b[0m",
            "\u001b[1;31mAttributeError\u001b[0m                            Traceback (most recent call last)",
            "\u001b[1;32m<ipython-input-19-3e8bd24c9b12>\u001b[0m in \u001b[0;36m<module>\u001b[1;34m\u001b[0m\n\u001b[1;32m----> 1\u001b[1;33m \u001b[0mtable\u001b[0m\u001b[1;33m.\u001b[0m\u001b[0mcontents\u001b[0m\u001b[1;33m\u001b[0m\u001b[1;33m\u001b[0m\u001b[0m\n\u001b[0m",
            "\u001b[1;31mAttributeError\u001b[0m: 'NoneType' object has no attribute 'contents'"
          ]
        }
      ]
    },
    {
      "cell_type": "code",
      "metadata": {
        "id": "hj-V_dWCoFyI",
        "colab_type": "code",
        "colab": {},
        "outputId": "7196c18f-04ff-4229-d35b-3bb10c8f3ee7"
      },
      "source": [
        "len(table.find_all('td'))"
      ],
      "execution_count": 0,
      "outputs": [
        {
          "output_type": "error",
          "ename": "AttributeError",
          "evalue": "'NoneType' object has no attribute 'find_all'",
          "traceback": [
            "\u001b[1;31m---------------------------------------------------------------------------\u001b[0m",
            "\u001b[1;31mAttributeError\u001b[0m                            Traceback (most recent call last)",
            "\u001b[1;32m<ipython-input-20-66f6ec2198a1>\u001b[0m in \u001b[0;36m<module>\u001b[1;34m\u001b[0m\n\u001b[1;32m----> 1\u001b[1;33m \u001b[0mlen\u001b[0m\u001b[1;33m(\u001b[0m\u001b[0mtable\u001b[0m\u001b[1;33m.\u001b[0m\u001b[0mfind_all\u001b[0m\u001b[1;33m(\u001b[0m\u001b[1;34m'td'\u001b[0m\u001b[1;33m)\u001b[0m\u001b[1;33m)\u001b[0m\u001b[1;33m\u001b[0m\u001b[1;33m\u001b[0m\u001b[0m\n\u001b[0m",
            "\u001b[1;31mAttributeError\u001b[0m: 'NoneType' object has no attribute 'find_all'"
          ]
        }
      ]
    },
    {
      "cell_type": "code",
      "metadata": {
        "id": "cktqE_NVoFyL",
        "colab_type": "code",
        "colab": {},
        "outputId": "f1f746cc-f54c-4c66-a25e-c58d531f6f8e"
      },
      "source": [
        "table.parent"
      ],
      "execution_count": 0,
      "outputs": [
        {
          "output_type": "error",
          "ename": "AttributeError",
          "evalue": "'NoneType' object has no attribute 'parent'",
          "traceback": [
            "\u001b[1;31m---------------------------------------------------------------------------\u001b[0m",
            "\u001b[1;31mAttributeError\u001b[0m                            Traceback (most recent call last)",
            "\u001b[1;32m<ipython-input-21-c43a13c0fab8>\u001b[0m in \u001b[0;36m<module>\u001b[1;34m\u001b[0m\n\u001b[1;32m----> 1\u001b[1;33m \u001b[0mtable\u001b[0m\u001b[1;33m.\u001b[0m\u001b[0mparent\u001b[0m\u001b[1;33m\u001b[0m\u001b[1;33m\u001b[0m\u001b[0m\n\u001b[0m",
            "\u001b[1;31mAttributeError\u001b[0m: 'NoneType' object has no attribute 'parent'"
          ]
        }
      ]
    },
    {
      "cell_type": "code",
      "metadata": {
        "id": "l-0EX_22oFyO",
        "colab_type": "code",
        "colab": {},
        "outputId": "87f2116b-ce92-45aa-b726-aa18ce330d82"
      },
      "source": [
        "table.parent.parent"
      ],
      "execution_count": 0,
      "outputs": [
        {
          "output_type": "error",
          "ename": "AttributeError",
          "evalue": "'NoneType' object has no attribute 'parent'",
          "traceback": [
            "\u001b[1;31m---------------------------------------------------------------------------\u001b[0m",
            "\u001b[1;31mAttributeError\u001b[0m                            Traceback (most recent call last)",
            "\u001b[1;32m<ipython-input-22-c95b98f000f8>\u001b[0m in \u001b[0;36m<module>\u001b[1;34m\u001b[0m\n\u001b[1;32m----> 1\u001b[1;33m \u001b[0mtable\u001b[0m\u001b[1;33m.\u001b[0m\u001b[0mparent\u001b[0m\u001b[1;33m.\u001b[0m\u001b[0mparent\u001b[0m\u001b[1;33m\u001b[0m\u001b[1;33m\u001b[0m\u001b[0m\n\u001b[0m",
            "\u001b[1;31mAttributeError\u001b[0m: 'NoneType' object has no attribute 'parent'"
          ]
        }
      ]
    },
    {
      "cell_type": "markdown",
      "metadata": {
        "id": "3EhZ28lLoFyS",
        "colab_type": "text"
      },
      "source": [
        "Searching by attributes"
      ]
    },
    {
      "cell_type": "code",
      "metadata": {
        "id": "6SgHQqQBoFyT",
        "colab_type": "code",
        "colab": {}
      },
      "source": [
        "soup.find('div',id='siteSub')"
      ],
      "execution_count": 0,
      "outputs": []
    },
    {
      "cell_type": "markdown",
      "metadata": {
        "id": "2NrMvn16oFyX",
        "colab_type": "text"
      },
      "source": [
        "Passing attributes a function parameters"
      ]
    },
    {
      "cell_type": "code",
      "metadata": {
        "id": "mv8Qk9aUoFyX",
        "colab_type": "code",
        "colab": {},
        "outputId": "5dcccd35-4dd3-4859-bbae-cf1eb52b959b"
      },
      "source": [
        "soup.find_all('a',class_='mw-jump-link')"
      ],
      "execution_count": 0,
      "outputs": [
        {
          "output_type": "execute_result",
          "data": {
            "text/plain": [
              "[]"
            ]
          },
          "metadata": {
            "tags": []
          },
          "execution_count": 24
        }
      ]
    },
    {
      "cell_type": "code",
      "metadata": {
        "id": "-PISPueloFyb",
        "colab_type": "code",
        "colab": {}
      },
      "source": [
        "soup.find('a',class_='mw-jump-link',href='#p-search')"
      ],
      "execution_count": 0,
      "outputs": []
    },
    {
      "cell_type": "markdown",
      "metadata": {
        "id": "fl0F6i7-oFye",
        "colab_type": "text"
      },
      "source": [
        "Placing the attributes in a dictionery"
      ]
    },
    {
      "cell_type": "code",
      "metadata": {
        "id": "9MhZgPfZoFye",
        "colab_type": "code",
        "colab": {}
      },
      "source": [
        "soup.find( 'a',attrs={'class':'mw-jump-link','href':'#p-search'})"
      ],
      "execution_count": 0,
      "outputs": []
    },
    {
      "cell_type": "code",
      "metadata": {
        "id": "MUuFK7avoFyh",
        "colab_type": "code",
        "colab": {}
      },
      "source": [
        "soup.find('div',{'id':'footer'})"
      ],
      "execution_count": 0,
      "outputs": []
    },
    {
      "cell_type": "markdown",
      "metadata": {
        "id": "BOvM6v-aoFyk",
        "colab_type": "text"
      },
      "source": [
        "Extracting data from HTML Tree"
      ]
    },
    {
      "cell_type": "code",
      "metadata": {
        "id": "CJucl9TtoFyl",
        "colab_type": "code",
        "colab": {}
      },
      "source": [
        "a=soup.find('a',class_='mw-jump-link')"
      ],
      "execution_count": 0,
      "outputs": []
    },
    {
      "cell_type": "code",
      "metadata": {
        "id": "lOGdLQtmoFyo",
        "colab_type": "code",
        "colab": {}
      },
      "source": [
        "a"
      ],
      "execution_count": 0,
      "outputs": []
    },
    {
      "cell_type": "code",
      "metadata": {
        "id": "Yxc9svuuoFyt",
        "colab_type": "code",
        "colab": {},
        "outputId": "11b8ac9b-a85c-4446-88ec-63dcb131bfd5"
      },
      "source": [
        "a.name"
      ],
      "execution_count": 0,
      "outputs": [
        {
          "output_type": "error",
          "ename": "AttributeError",
          "evalue": "'NoneType' object has no attribute 'name'",
          "traceback": [
            "\u001b[1;31m---------------------------------------------------------------------------\u001b[0m",
            "\u001b[1;31mAttributeError\u001b[0m                            Traceback (most recent call last)",
            "\u001b[1;32m<ipython-input-31-9945a631c1ff>\u001b[0m in \u001b[0;36m<module>\u001b[1;34m\u001b[0m\n\u001b[1;32m----> 1\u001b[1;33m \u001b[0ma\u001b[0m\u001b[1;33m.\u001b[0m\u001b[0mname\u001b[0m\u001b[1;33m\u001b[0m\u001b[1;33m\u001b[0m\u001b[0m\n\u001b[0m",
            "\u001b[1;31mAttributeError\u001b[0m: 'NoneType' object has no attribute 'name'"
          ]
        }
      ]
    },
    {
      "cell_type": "markdown",
      "metadata": {
        "id": "0wiXVp2zoFyx",
        "colab_type": "text"
      },
      "source": [
        "Getting the attribute name"
      ]
    },
    {
      "cell_type": "code",
      "metadata": {
        "id": "LxKS0CntoFyy",
        "colab_type": "code",
        "colab": {},
        "outputId": "fa023792-ab6d-4412-dbfb-4c95fe1046a0"
      },
      "source": [
        "a['href']"
      ],
      "execution_count": 0,
      "outputs": [
        {
          "output_type": "error",
          "ename": "TypeError",
          "evalue": "'NoneType' object is not subscriptable",
          "traceback": [
            "\u001b[1;31m---------------------------------------------------------------------------\u001b[0m",
            "\u001b[1;31mTypeError\u001b[0m                                 Traceback (most recent call last)",
            "\u001b[1;32m<ipython-input-32-027dddb08990>\u001b[0m in \u001b[0;36m<module>\u001b[1;34m\u001b[0m\n\u001b[1;32m----> 1\u001b[1;33m \u001b[0ma\u001b[0m\u001b[1;33m[\u001b[0m\u001b[1;34m'href'\u001b[0m\u001b[1;33m]\u001b[0m\u001b[1;33m\u001b[0m\u001b[1;33m\u001b[0m\u001b[0m\n\u001b[0m",
            "\u001b[1;31mTypeError\u001b[0m: 'NoneType' object is not subscriptable"
          ]
        }
      ]
    },
    {
      "cell_type": "code",
      "metadata": {
        "id": "WhvgNhAEoFy2",
        "colab_type": "code",
        "colab": {},
        "outputId": "1ccf330a-b81a-41a1-d017-844f31b14714"
      },
      "source": [
        "a['class']"
      ],
      "execution_count": 0,
      "outputs": [
        {
          "output_type": "error",
          "ename": "TypeError",
          "evalue": "'NoneType' object is not subscriptable",
          "traceback": [
            "\u001b[1;31m---------------------------------------------------------------------------\u001b[0m",
            "\u001b[1;31mTypeError\u001b[0m                                 Traceback (most recent call last)",
            "\u001b[1;32m<ipython-input-33-70eef1f508f4>\u001b[0m in \u001b[0;36m<module>\u001b[1;34m\u001b[0m\n\u001b[1;32m----> 1\u001b[1;33m \u001b[0ma\u001b[0m\u001b[1;33m[\u001b[0m\u001b[1;34m'class'\u001b[0m\u001b[1;33m]\u001b[0m\u001b[1;33m\u001b[0m\u001b[1;33m\u001b[0m\u001b[0m\n\u001b[0m",
            "\u001b[1;31mTypeError\u001b[0m: 'NoneType' object is not subscriptable"
          ]
        }
      ]
    },
    {
      "cell_type": "code",
      "metadata": {
        "id": "xTk9r_QHoFy5",
        "colab_type": "code",
        "colab": {},
        "outputId": "03995d27-cd20-4efd-87f5-22a66fc790fe"
      },
      "source": [
        "a.get('href')"
      ],
      "execution_count": 0,
      "outputs": [
        {
          "output_type": "error",
          "ename": "AttributeError",
          "evalue": "'NoneType' object has no attribute 'get'",
          "traceback": [
            "\u001b[1;31m---------------------------------------------------------------------------\u001b[0m",
            "\u001b[1;31mAttributeError\u001b[0m                            Traceback (most recent call last)",
            "\u001b[1;32m<ipython-input-34-d5cfdcfc89de>\u001b[0m in \u001b[0;36m<module>\u001b[1;34m\u001b[0m\n\u001b[1;32m----> 1\u001b[1;33m \u001b[0ma\u001b[0m\u001b[1;33m.\u001b[0m\u001b[0mget\u001b[0m\u001b[1;33m(\u001b[0m\u001b[1;34m'href'\u001b[0m\u001b[1;33m)\u001b[0m\u001b[1;33m\u001b[0m\u001b[1;33m\u001b[0m\u001b[0m\n\u001b[0m",
            "\u001b[1;31mAttributeError\u001b[0m: 'NoneType' object has no attribute 'get'"
          ]
        }
      ]
    },
    {
      "cell_type": "code",
      "metadata": {
        "id": "jw9mokiUoFy9",
        "colab_type": "code",
        "colab": {},
        "outputId": "a33eb7f0-04d0-4167-cabd-e3783b782461"
      },
      "source": [
        "a.get('class')"
      ],
      "execution_count": 0,
      "outputs": [
        {
          "output_type": "error",
          "ename": "AttributeError",
          "evalue": "'NoneType' object has no attribute 'get'",
          "traceback": [
            "\u001b[1;31m---------------------------------------------------------------------------\u001b[0m",
            "\u001b[1;31mAttributeError\u001b[0m                            Traceback (most recent call last)",
            "\u001b[1;32m<ipython-input-35-b2396dbe1538>\u001b[0m in \u001b[0;36m<module>\u001b[1;34m\u001b[0m\n\u001b[1;32m----> 1\u001b[1;33m \u001b[0ma\u001b[0m\u001b[1;33m.\u001b[0m\u001b[0mget\u001b[0m\u001b[1;33m(\u001b[0m\u001b[1;34m'class'\u001b[0m\u001b[1;33m)\u001b[0m\u001b[1;33m\u001b[0m\u001b[1;33m\u001b[0m\u001b[0m\n\u001b[0m",
            "\u001b[1;31mAttributeError\u001b[0m: 'NoneType' object has no attribute 'get'"
          ]
        }
      ]
    },
    {
      "cell_type": "code",
      "metadata": {
        "id": "-Kk8w2LXoFzB",
        "colab_type": "code",
        "colab": {},
        "outputId": "e7800a64-b6a9-4c3d-d675-1c885da378cc"
      },
      "source": [
        "a['id']"
      ],
      "execution_count": 0,
      "outputs": [
        {
          "output_type": "error",
          "ename": "KeyError",
          "evalue": "'id'",
          "traceback": [
            "\u001b[1;31m---------------------------------------------------------------------------\u001b[0m",
            "\u001b[1;31mKeyError\u001b[0m                                  Traceback (most recent call last)",
            "\u001b[1;32m<ipython-input-102-546d634c4694>\u001b[0m in \u001b[0;36m<module>\u001b[1;34m\u001b[0m\n\u001b[1;32m----> 1\u001b[1;33m \u001b[0ma\u001b[0m\u001b[1;33m[\u001b[0m\u001b[1;34m'id'\u001b[0m\u001b[1;33m]\u001b[0m\u001b[1;33m\u001b[0m\u001b[1;33m\u001b[0m\u001b[0m\n\u001b[0m",
            "\u001b[1;32m~\\Anaconda3\\lib\\site-packages\\bs4\\element.py\u001b[0m in \u001b[0;36m__getitem__\u001b[1;34m(self, key)\u001b[0m\n\u001b[0;32m    969\u001b[0m         \"\"\"tag[key] returns the value of the 'key' attribute for the tag,\n\u001b[0;32m    970\u001b[0m         and throws an exception if it's not there.\"\"\"\n\u001b[1;32m--> 971\u001b[1;33m         \u001b[1;32mreturn\u001b[0m \u001b[0mself\u001b[0m\u001b[1;33m.\u001b[0m\u001b[0mattrs\u001b[0m\u001b[1;33m[\u001b[0m\u001b[0mkey\u001b[0m\u001b[1;33m]\u001b[0m\u001b[1;33m\u001b[0m\u001b[1;33m\u001b[0m\u001b[0m\n\u001b[0m\u001b[0;32m    972\u001b[0m \u001b[1;33m\u001b[0m\u001b[0m\n\u001b[0;32m    973\u001b[0m     \u001b[1;32mdef\u001b[0m \u001b[0m__iter__\u001b[0m\u001b[1;33m(\u001b[0m\u001b[0mself\u001b[0m\u001b[1;33m)\u001b[0m\u001b[1;33m:\u001b[0m\u001b[1;33m\u001b[0m\u001b[1;33m\u001b[0m\u001b[0m\n",
            "\u001b[1;31mKeyError\u001b[0m: 'id'"
          ]
        }
      ]
    },
    {
      "cell_type": "code",
      "metadata": {
        "id": "hHMlY9IRoFzH",
        "colab_type": "code",
        "colab": {}
      },
      "source": [
        "a.get('id')"
      ],
      "execution_count": 0,
      "outputs": []
    },
    {
      "cell_type": "code",
      "metadata": {
        "id": "CohxJ1RtoFzK",
        "colab_type": "code",
        "colab": {},
        "outputId": "08358598-d796-4110-93e6-fa7e91f17c20"
      },
      "source": [
        "repr(a.get('id'))"
      ],
      "execution_count": 0,
      "outputs": [
        {
          "output_type": "execute_result",
          "data": {
            "text/plain": [
              "'None'"
            ]
          },
          "metadata": {
            "tags": []
          },
          "execution_count": 104
        }
      ]
    },
    {
      "cell_type": "code",
      "metadata": {
        "id": "yDH5qnfdoFzN",
        "colab_type": "code",
        "colab": {},
        "outputId": "67413b4b-06f4-4fda-a86b-e735b63de269"
      },
      "source": [
        "a.attrs"
      ],
      "execution_count": 0,
      "outputs": [
        {
          "output_type": "execute_result",
          "data": {
            "text/plain": [
              "{'class': ['mw-jump-link'], 'href': '#mw-head'}"
            ]
          },
          "metadata": {
            "tags": []
          },
          "execution_count": 105
        }
      ]
    },
    {
      "cell_type": "markdown",
      "metadata": {
        "id": "ab5Itk2xoFzR",
        "colab_type": "text"
      },
      "source": [
        "Extracting text"
      ]
    },
    {
      "cell_type": "markdown",
      "metadata": {
        "id": "4TD5kBhloFzR",
        "colab_type": "text"
      },
      "source": [
        ".string vs .text"
      ]
    },
    {
      "cell_type": "code",
      "metadata": {
        "id": "1nz3sS9PoFzS",
        "colab_type": "code",
        "colab": {},
        "outputId": "ad38528c-36af-4367-99b9-7a8a86bc5154"
      },
      "source": [
        "a.string"
      ],
      "execution_count": 0,
      "outputs": [
        {
          "output_type": "execute_result",
          "data": {
            "text/plain": [
              "'Jump to navigation'"
            ]
          },
          "metadata": {
            "tags": []
          },
          "execution_count": 106
        }
      ]
    },
    {
      "cell_type": "code",
      "metadata": {
        "id": "WKZWYWOgoFzV",
        "colab_type": "code",
        "colab": {},
        "outputId": "72c6173c-992c-42ba-f2e6-203517067985"
      },
      "source": [
        "a.text"
      ],
      "execution_count": 0,
      "outputs": [
        {
          "output_type": "execute_result",
          "data": {
            "text/plain": [
              "'Jump to navigation'"
            ]
          },
          "metadata": {
            "tags": []
          },
          "execution_count": 107
        }
      ]
    },
    {
      "cell_type": "markdown",
      "metadata": {
        "id": "HfQXn_t5oFzZ",
        "colab_type": "text"
      },
      "source": [
        "They exhibit different behaviour when the element contains more than one distict string"
      ]
    },
    {
      "cell_type": "code",
      "metadata": {
        "id": "-zuqgoF9oFza",
        "colab_type": "code",
        "colab": {}
      },
      "source": [
        "p=soup.find_all('p')[1]"
      ],
      "execution_count": 0,
      "outputs": []
    },
    {
      "cell_type": "code",
      "metadata": {
        "id": "DaDT7UsjoFze",
        "colab_type": "code",
        "colab": {},
        "outputId": "f781b348-3a77-422f-9667-014e91aa2cfe"
      },
      "source": [
        "p"
      ],
      "execution_count": 0,
      "outputs": [
        {
          "output_type": "execute_result",
          "data": {
            "text/plain": [
              "<p class=\"quote\">Our courses consist of pathways that branch into either full stack development or mobile development.</p>"
            ]
          },
          "metadata": {
            "tags": []
          },
          "execution_count": 37
        }
      ]
    },
    {
      "cell_type": "code",
      "metadata": {
        "id": "sM0tcVa3oFzi",
        "colab_type": "code",
        "colab": {},
        "outputId": "4770d48c-8e21-4f0f-8025-c9b370466792"
      },
      "source": [
        "p.text"
      ],
      "execution_count": 0,
      "outputs": [
        {
          "output_type": "execute_result",
          "data": {
            "text/plain": [
              "'Our courses consist of pathways that branch into either full stack development or mobile development.'"
            ]
          },
          "metadata": {
            "tags": []
          },
          "execution_count": 38
        }
      ]
    },
    {
      "cell_type": "code",
      "metadata": {
        "id": "naITKnmAoFzk",
        "colab_type": "code",
        "colab": {},
        "outputId": "768affab-8f8b-4517-e354-84bef07407ce"
      },
      "source": [
        "p.string"
      ],
      "execution_count": 0,
      "outputs": [
        {
          "output_type": "execute_result",
          "data": {
            "text/plain": [
              "'Our courses consist of pathways that branch into either full stack development or mobile development.'"
            ]
          },
          "metadata": {
            "tags": []
          },
          "execution_count": 39
        }
      ]
    },
    {
      "cell_type": "code",
      "metadata": {
        "id": "tOKyPHdNoFzn",
        "colab_type": "code",
        "colab": {},
        "outputId": "66f46e94-cff8-42d1-f8c3-9cea1dc3a35a"
      },
      "source": [
        "repr(p.string)"
      ],
      "execution_count": 0,
      "outputs": [
        {
          "output_type": "execute_result",
          "data": {
            "text/plain": [
              "\"'Our courses consist of pathways that branch into either full stack development or mobile development.'\""
            ]
          },
          "metadata": {
            "tags": []
          },
          "execution_count": 40
        }
      ]
    },
    {
      "cell_type": "code",
      "metadata": {
        "id": "J_JX5Dx6oFzq",
        "colab_type": "code",
        "colab": {},
        "outputId": "ff7bdbe8-ec16-4ab8-ced5-3d68201a5aac"
      },
      "source": [
        "p.parent"
      ],
      "execution_count": 0,
      "outputs": [
        {
          "output_type": "execute_result",
          "data": {
            "text/plain": [
              "<div class=\"container text-center quote_container\">\n",
              "<p class=\"quote\">Our courses consist of pathways that branch into either full stack development or mobile development.</p>\n",
              "</div>"
            ]
          },
          "metadata": {
            "tags": []
          },
          "execution_count": 41
        }
      ]
    },
    {
      "cell_type": "code",
      "metadata": {
        "id": "trLLvKhyoFzs",
        "colab_type": "code",
        "colab": {},
        "outputId": "cf7c9ff9-8594-4319-c022-b8f3723fc31c"
      },
      "source": [
        "p.parent.text"
      ],
      "execution_count": 0,
      "outputs": [
        {
          "output_type": "execute_result",
          "data": {
            "text/plain": [
              "'\\nOur courses consist of pathways that branch into either full stack development or mobile development.\\n'"
            ]
          },
          "metadata": {
            "tags": []
          },
          "execution_count": 42
        }
      ]
    },
    {
      "cell_type": "code",
      "metadata": {
        "id": "S_anLVv5oFzx",
        "colab_type": "code",
        "colab": {},
        "outputId": "b0ba7f5d-a138-44b7-a3d4-1da889cd6312"
      },
      "source": [
        "print(p.parent.text)"
      ],
      "execution_count": 0,
      "outputs": [
        {
          "output_type": "stream",
          "text": [
            "\n",
            "Our courses consist of pathways that branch into either full stack development or mobile development.\n",
            "\n"
          ],
          "name": "stdout"
        }
      ]
    },
    {
      "cell_type": "code",
      "metadata": {
        "id": "N82ijH9ooFz0",
        "colab_type": "code",
        "colab": {},
        "outputId": "7dac17bf-a06e-4af6-de4a-b0d996172e41"
      },
      "source": [
        "print(soup.text)"
      ],
      "execution_count": 0,
      "outputs": [
        {
          "output_type": "stream",
          "text": [
            "\n",
            "\n",
            "\n",
            "\n",
            "\n",
            "        Developing Future Knowledge Workers | - Moringa School\n",
            "    \n",
            "\n",
            "\n",
            "\n",
            "\n",
            "\n",
            "\n",
            "\n",
            "\n",
            "\n",
            "\n",
            "\n",
            "\n",
            "\n",
            "\n",
            "\n",
            "\n",
            "\n",
            "\n",
            "\n",
            "\n",
            "\n",
            "\n",
            "\n",
            "\n",
            "\n",
            "\n",
            "\n",
            "\n",
            "\n",
            "\n",
            "\n",
            "Programs \n",
            "\n",
            "Programs\n",
            "Software Development\n",
            "Data Science\n",
            "\n",
            "\n",
            "\n",
            "\n",
            "Learning Model\n",
            "About Us\n",
            "Outcomes\n",
            "Events\n",
            "\n",
            "Careers\n",
            "\n",
            "\n",
            "\n",
            "\n",
            "For coronavirus updates and how it affects the Moringa School community, go to the COVID 19 resource page.\n",
            "\n",
            "\n",
            "\n",
            "Developing the Next Generation of Tech Leaders Through Market-Driven Education\n",
            "\n",
            "\n",
            "Browse Courses\n",
            "\n",
            "\n",
            "\n",
            "\n",
            "\n",
            "Our courses consist of pathways that branch into either full stack development or mobile development.\n",
            "\n",
            "\n",
            "\n",
            "\n",
            "\n",
            "\n",
            "\n",
            "\n",
            "\n",
            "\n",
            "\n",
            "\n",
            "\n",
            "\n",
            "\n",
            "\n",
            "Upcoming Events\n",
            "Stay engaged, stay focused, stay coded.\n",
            "                            \n",
            "\n",
            "Experience the vibrant energy of  our events\n",
            "Learn More \n",
            "\n",
            "\n",
            "\n",
            "\n",
            "\n",
            "\n",
            "\n",
            "\n",
            "\n",
            "\n",
            "\n",
            "\n",
            "\n",
            "Our Alumni\n",
            "Hear from our recent students\n",
            "\n",
            "\n",
            "\n",
            "\n",
            "\n",
            "\n",
            "\n",
            "\n",
            "\n",
            "\n",
            "\n",
            "\n",
            "\n",
            "\n",
            "\n",
            "\n",
            "Kevin Maina\n",
            "Software Developer & Moringa School Alumni\n",
            "\n",
            "\n",
            "\n",
            "\n",
            "\n",
            "\n",
            "\n",
            "\n",
            "\n",
            "\n",
            "\n",
            "Mariam Omar\n",
            "Full-stack Web Developer & Moringa School Alumni\n",
            "\n",
            "\n",
            "\n",
            "\n",
            "\n",
            "\n",
            "\n",
            "\n",
            "\n",
            "\n",
            "\n",
            "Paul Lucas\n",
            "Techpreneur & Moringa School Alumni\n",
            "\n",
            "\n",
            "\n",
            "\n",
            "\n",
            "\n",
            "\n",
            "\n",
            "View Our Alumni\n",
            "\n",
            "\n",
            "\n",
            "\n",
            "\n",
            "\n",
            "\n",
            "\n",
            "\n",
            "\n",
            "\n",
            "Moringa School in The News\n",
            "\"In times of profound change, the learners inherit the earth,\n",
            "                        while the learned find themselves beautifully equipped to deal with a world that\n",
            "                        no longer exists.” — Eric Hoffer\n",
            "\n",
            "\n",
            "\n",
            "\n",
            "\n",
            "\n",
            "\n",
            "\n",
            "\n",
            "How Automation in Africa Will Affect the Skills Needs of Employers\n",
            "\n",
            "\n",
            "\n",
            "\n",
            "\n",
            "\n",
            "\n",
            "Kenyan school is producing next generation of engineers\n",
            "\n",
            "\n",
            "\n",
            "\n",
            "\n",
            "\n",
            "\n",
            "Alternative-lending startup Student Finance Africa (SFA) is providing\n",
            "                                educational loans to\n",
            "                                Moringa School in Nairobi.\n",
            "\n",
            "\n",
            "\n",
            "\n",
            "\n",
            "\n",
            "\n",
            "Bootstrap your business without sacrificing results or deviating from\n",
            "                                you mission along the way.\n",
            "\n",
            "\n",
            "\n",
            "\n",
            "\n",
            "\n",
            "\n",
            "Moringa School Partners with MEST To Bring Technology Courses To\n",
            "                                Talent Across Africa\n",
            "\n",
            "\n",
            "\n",
            "\n",
            "\n",
            "\n",
            "\n",
            "Talent shortage prompts entrepreneur to start a tech school in\n",
            "                                Kenya\n",
            "\n",
            "\n",
            "\n",
            "\n",
            "\n",
            "\n",
            "\n",
            "In a restive corner of Pakistan, a Kenyan startup will teach\n",
            "                                thousands of young people to code.\n",
            "\n",
            "\n",
            "\n",
            "\n",
            "\n",
            "\n",
            "\n",
            "\n",
            "\n",
            "\n",
            "\n",
            "\n",
            "\n",
            "\n",
            "\n",
            "\n",
            "Join the Community!\n",
            "We are dedicated to providing good coding practices and\n",
            "                    \n",
            "                    we would like you to be part of the community\n",
            "\n",
            "\n",
            "Enroll Now!\n",
            "\n",
            "\n",
            "\n",
            "\n",
            "\n",
            "\n",
            "\n",
            "\n",
            "\n",
            "\n",
            "\n",
            "\n",
            "\n",
            "\n",
            "\n",
            "\n",
            "\n",
            "\n",
            "\n",
            "                        Watch us on YouTube\n",
            "                    \n",
            "\n",
            "\n",
            "\n",
            "\n",
            "\n",
            "\n",
            "                        Engage us on LinkedIn\n",
            "                    \n",
            "\n",
            "\n",
            "\n",
            "\n",
            "\n",
            "\n",
            "                        Follow us on Twitter\n",
            "                    \n",
            "\n",
            "\n",
            "\n",
            "\n",
            "\n",
            "\n",
            "                        Find us on Facebook\n",
            "                    \n",
            "\n",
            "\n",
            "\n",
            "\n",
            "\n",
            "\n",
            "\n",
            "\n",
            "\n",
            "\n",
            "General Enquiries: +254 711 581 484\n",
            "WhatsApp Enquiries:  +254 711 581 484\n",
            "Email: contact@moringaschool.com\n",
            "Admissions Enquiries: +254 712 293 878\n",
            "Data Science Enquiries: +254 741 493 565\n",
            "Address: P.O.Box 28860-00100\n",
            "Location: Ngong Lane Plaza, Ngong Lane. Nairobi\n",
            "\n",
            "\n",
            "Programs\n",
            "Software Development\n",
            "Data Science\n",
            "\n",
            "\n",
            "\n",
            "Learning Model\n",
            "About Us\n",
            "Outcomes\n",
            "Events\n",
            "\n",
            "\n",
            "\n",
            "\n",
            "\n",
            "\n",
            " \n",
            "\n",
            "\n",
            "\n",
            "\n",
            "\n",
            "\n",
            "\n",
            "\n",
            "\n",
            "        window.dataLayer = window.dataLayer || [];\n",
            "        function gtag() {\n",
            "            dataLayer.push(arguments);\n",
            "        }\n",
            "        gtag('js', new Date());\n",
            "        gtag('config', 'UA-125823348-1');\n",
            "    \n",
            "\n",
            "\n",
            "        (function (w, d, s, l, i) {\n",
            "            w[l] = w[l] || [];\n",
            "            w[l].push({\n",
            "                'gtm.start':\n",
            "                    new Date().getTime(), event: 'gtm.js'\n",
            "            });\n",
            "            var f = d.getElementsByTagName(s)[0],\n",
            "                j = d.createElement(s), dl = l != 'dataLayer' ? '&l=' + l : '';\n",
            "            j.async = true;\n",
            "            j.src =\n",
            "                'https://www.googletagmanager.com/gtm.js?id=' + i + dl;\n",
            "            f.parentNode.insertBefore(j, f);\n",
            "        })(window, document, 'script', 'dataLayer', 'GTM-KM4VGT8');\n",
            "    \n",
            "\n",
            "\n",
            "\n",
            "\n",
            "\n",
            "\n",
            "\n",
            "\n",
            "\n"
          ],
          "name": "stdout"
        }
      ]
    },
    {
      "cell_type": "markdown",
      "metadata": {
        "id": "lKlxc2GToFz7",
        "colab_type": "text"
      },
      "source": [
        ".strings and .stripped_strings"
      ]
    },
    {
      "cell_type": "code",
      "metadata": {
        "id": "Bw9Ht55AoFz7",
        "colab_type": "code",
        "colab": {},
        "outputId": "a6a75821-5c85-41d4-fec2-640f5f713b31"
      },
      "source": [
        "for s in p.strings:\n",
        "    print(repr(s))"
      ],
      "execution_count": 0,
      "outputs": [
        {
          "output_type": "stream",
          "text": [
            "'Our courses consist of pathways that branch into either full stack development or mobile development.'\n"
          ],
          "name": "stdout"
        }
      ]
    },
    {
      "cell_type": "code",
      "metadata": {
        "id": "Y9UdgJjBoFz-",
        "colab_type": "code",
        "colab": {},
        "outputId": "166d8bd6-72b4-4ae3-dc25-40ebe36f557c"
      },
      "source": [
        "for s in p.stripped_strings:\n",
        "    print(repr(s))"
      ],
      "execution_count": 0,
      "outputs": [
        {
          "output_type": "stream",
          "text": [
            "'Our courses consist of pathways that branch into either full stack development or mobile development.'\n"
          ],
          "name": "stdout"
        }
      ]
    },
    {
      "cell_type": "markdown",
      "metadata": {
        "id": "13juqX90oF0E",
        "colab_type": "text"
      },
      "source": [
        "Processing multiple links at once"
      ]
    },
    {
      "cell_type": "markdown",
      "metadata": {
        "id": "XxKhsv7qoF0E",
        "colab_type": "text"
      },
      "source": [
        "links -absolute path URL"
      ]
    },
    {
      "cell_type": "code",
      "metadata": {
        "id": "LmfZizisoF0E",
        "colab_type": "code",
        "colab": {},
        "outputId": "e284113f-5945-44b3-f307-cb5407854348"
      },
      "source": [
        "link=links[26]\n",
        "link"
      ],
      "execution_count": 0,
      "outputs": [
        {
          "output_type": "execute_result",
          "data": {
            "text/plain": [
              "<a href=\"https://www.linkedin.com/company/moringa-school\" target=\"_blank\">\n",
              "<i class=\"fab fa-linkedin\"></i>\n",
              "                        Engage us on LinkedIn\n",
              "                    </a>"
            ]
          },
          "metadata": {
            "tags": []
          },
          "execution_count": 48
        }
      ]
    },
    {
      "cell_type": "code",
      "metadata": {
        "id": "Mk3T8iC7oF0H",
        "colab_type": "code",
        "colab": {}
      },
      "source": [
        "link.string"
      ],
      "execution_count": 0,
      "outputs": []
    },
    {
      "cell_type": "code",
      "metadata": {
        "id": "ATZdMqe_oF0K",
        "colab_type": "code",
        "colab": {},
        "outputId": "d799faeb-0cdc-4c50-de8e-39d1e786aa7b"
      },
      "source": [
        "link['href']"
      ],
      "execution_count": 0,
      "outputs": [
        {
          "output_type": "execute_result",
          "data": {
            "text/plain": [
              "'https://www.linkedin.com/company/moringa-school'"
            ]
          },
          "metadata": {
            "tags": []
          },
          "execution_count": 51
        }
      ]
    },
    {
      "cell_type": "code",
      "metadata": {
        "id": "0jIOhbyWoF0P",
        "colab_type": "code",
        "colab": {}
      },
      "source": [
        "from urllib.parse import urljoin"
      ],
      "execution_count": 0,
      "outputs": []
    },
    {
      "cell_type": "code",
      "metadata": {
        "id": "yFjG4i4AoF0V",
        "colab_type": "code",
        "colab": {},
        "outputId": "1dcd67a9-91fb-40a9-aac9-9adf1e25d1e7"
      },
      "source": [
        "base_site"
      ],
      "execution_count": 0,
      "outputs": [
        {
          "output_type": "execute_result",
          "data": {
            "text/plain": [
              "'https://moringaschool.com'"
            ]
          },
          "metadata": {
            "tags": []
          },
          "execution_count": 53
        }
      ]
    },
    {
      "cell_type": "code",
      "metadata": {
        "id": "iuJPAox3oF0Y",
        "colab_type": "code",
        "colab": {},
        "outputId": "a4e6f289-7ccd-4f6a-9f18-734fd98e99d6"
      },
      "source": [
        "relative_url=link['href']\n",
        "relative_url"
      ],
      "execution_count": 0,
      "outputs": [
        {
          "output_type": "execute_result",
          "data": {
            "text/plain": [
              "'https://www.linkedin.com/company/moringa-school'"
            ]
          },
          "metadata": {
            "tags": []
          },
          "execution_count": 54
        }
      ]
    },
    {
      "cell_type": "code",
      "metadata": {
        "id": "wzGiAARQoF0b",
        "colab_type": "code",
        "colab": {},
        "outputId": "4de1f515-f2d2-4f59-e09f-2154777827ff"
      },
      "source": [
        "full_url=urljoin(base_site,relative_url)\n",
        "full_url"
      ],
      "execution_count": 0,
      "outputs": [
        {
          "output_type": "execute_result",
          "data": {
            "text/plain": [
              "'https://www.linkedin.com/company/moringa-school'"
            ]
          },
          "metadata": {
            "tags": []
          },
          "execution_count": 55
        }
      ]
    },
    {
      "cell_type": "markdown",
      "metadata": {
        "id": "ELsNvUIZoF0d",
        "colab_type": "text"
      },
      "source": [
        "Processing multiple links at once"
      ]
    },
    {
      "cell_type": "code",
      "metadata": {
        "id": "Xc0KujDioF0d",
        "colab_type": "code",
        "colab": {},
        "outputId": "51c3d8bb-00f2-4a97-ee54-3a2277e711d0"
      },
      "source": [
        "[l.get('href') for l in links]\n"
      ],
      "execution_count": 0,
      "outputs": [
        {
          "output_type": "execute_result",
          "data": {
            "text/plain": [
              "['/',\n",
              " '#',\n",
              " '/programs/',\n",
              " '/programs/software-development/',\n",
              " '/programs/data-science-course/',\n",
              " '/learning-model/',\n",
              " '/about-us/',\n",
              " '/outcomes/',\n",
              " '/events/',\n",
              " '/careers',\n",
              " '/covid-updates',\n",
              " '/programs/',\n",
              " '/events',\n",
              " 'https://youtu.be/tTvwX-NRGrw',\n",
              " 'https://youtu.be/KalL9nm8IlA',\n",
              " 'https://youtu.be/QMaoM54tu20',\n",
              " 'https://www.youtube.com/playlist?list=PLSEr6vQWk10F-n5x6ps-TJgOWObECLwfO',\n",
              " 'https://www.huffingtonpost.com/entry/59fb2448e4b09887ad6f3df0',\n",
              " 'https://www.nbcnews.com/news/nbcblk/kenyan-school-producing-next-generation-engineers-n822366',\n",
              " 'http://disrupt-africa.com/2017/11/student-finance-africa-launches-in-kenya-with-fsd-support/',\n",
              " 'https://findingimpact.com/fip-043-bootstrapping-with-audrey-cheng/',\n",
              " 'https://www.modernghana.com/news/820470/moringa-school-partners-with-mest-to-bring-technology-course.html',\n",
              " 'https://www.howwemadeitinafrica.com/talent-shortage-prompts-entrepreneur-to-start-a-tech-school-in-kenya/',\n",
              " 'https://qz.com/india/1110205/in-pakistans-khyber-pakhtunkhwa-a-kenyan-startup-will-teach-thousands-of-young-people-to-code/',\n",
              " '/programs/',\n",
              " 'https://www.youtube.com/channel/UCnkYPrm1GvxDzGlT0S2zn4w/videos',\n",
              " 'https://www.linkedin.com/company/moringa-school',\n",
              " 'https://twitter.com/moringaschool',\n",
              " 'https://www.facebook.com/moringaschool/',\n",
              " 'tel:+254711581484',\n",
              " 'https://wa.me/254712293878',\n",
              " '/programs/',\n",
              " '/programs/software-development/',\n",
              " '/programs/data-science-course/',\n",
              " '/learning-model/',\n",
              " '/about-us/',\n",
              " '/outcomes/',\n",
              " '/events/']"
            ]
          },
          "metadata": {
            "tags": []
          },
          "execution_count": 56
        }
      ]
    },
    {
      "cell_type": "code",
      "metadata": {
        "id": "WoDHpZaroF0f",
        "colab_type": "code",
        "colab": {},
        "outputId": "32d61b23-f6e5-4871-c304-b0944510fe08"
      },
      "source": [
        "clean_links= [l for l in links if l.get('href')!= None]\n",
        "clean_links"
      ],
      "execution_count": 0,
      "outputs": [
        {
          "output_type": "execute_result",
          "data": {
            "text/plain": [
              "[<a class=\"navbar-brand\" href=\"/\">\n",
              " <img alt=\"\" id=\"logo\" src=\"/static/img/main-logo.png\"/>\n",
              " </a>,\n",
              " <a class=\"\" data-toggle=\"dropdown\" href=\"#\">Programs <i class=\"fa fa-chevron-down\"></i></a>,\n",
              " <a href=\"/programs/\">Programs</a>,\n",
              " <a href=\"/programs/software-development/\">Software Development</a>,\n",
              " <a href=\"/programs/data-science-course/\">Data Science</a>,\n",
              " <a href=\"/learning-model/\">Learning Model</a>,\n",
              " <a href=\"/about-us/\">About Us</a>,\n",
              " <a href=\"/outcomes/\">Outcomes</a>,\n",
              " <a href=\"/events/\">Events</a>,\n",
              " <a href=\"/careers\">Careers</a>,\n",
              " <a href=\"/covid-updates\">COVID 19 resource page</a>,\n",
              " <a class=\"home_course_link\" href=\"/programs/\">\n",
              " <button class=\"btn btn-xl apply\">Browse Courses</button>\n",
              " </a>,\n",
              " <a class=\"moringa-learn-more blue\" href=\"/events\">Learn More<i class=\"fa fa-long-arrow-right\"></i> </a>,\n",
              " <a href=\"https://youtu.be/tTvwX-NRGrw\" rel=\"noreferrer noopener\" target=\"_blank\">\n",
              " <i class=\"fa fa-play-circle\"></i>\n",
              " </a>,\n",
              " <a href=\"https://youtu.be/KalL9nm8IlA\" rel=\"noreferrer noopener\" target=\"_blank\"><i class=\"fa fa-play-circle\"></i></a>,\n",
              " <a href=\"https://youtu.be/QMaoM54tu20\" rel=\"noreferrer noopener\" target=\"_blank\"><i class=\"fa fa-play-circle\"></i></a>,\n",
              " <a href=\"https://www.youtube.com/playlist?list=PLSEr6vQWk10F-n5x6ps-TJgOWObECLwfO\" target=\"_blank\">\n",
              " <button class=\"btn btn-xl bg-green\">View Our Alumni</button>\n",
              " </a>,\n",
              " <a href=\"https://www.huffingtonpost.com/entry/59fb2448e4b09887ad6f3df0\" target=\"_blank\">\n",
              " <div class=\"card-body\">\n",
              " <img alt=\"\" class=\"card-img\" data-src=\"/static/img/news/huffpost.jpg\" src=\"data:image/png;base64,R0lGODlhAQABAAD/ACwAAAAAAQABAAACADs=\"/>\n",
              " <p class=\"card-text\">How Automation in Africa Will Affect the Skills Needs of Employers</p>\n",
              " </div>\n",
              " </a>,\n",
              " <a href=\"https://www.nbcnews.com/news/nbcblk/kenyan-school-producing-next-generation-engineers-n822366\">\n",
              " <div class=\"card-body\">\n",
              " <img alt=\"\" class=\"card-img\" data-src=\"/static/img/news/nbc.jpg\" src=\"data:image/png;base64,R0lGODlhAQABAAD/ACwAAAAAAQABAAACADs=\"/>\n",
              " <p class=\"card-text\">Kenyan school is producing next generation of engineers</p>\n",
              " </div>\n",
              " </a>,\n",
              " <a href=\"http://disrupt-africa.com/2017/11/student-finance-africa-launches-in-kenya-with-fsd-support/\">\n",
              " <div class=\"card-body\">\n",
              " <img alt=\"\" class=\"card-img\" data-src=\"/static/img/news/5.jpg\" src=\"data:image/png;base64,R0lGODlhAQABAAD/ACwAAAAAAQABAAACADs=\"/>\n",
              " <p class=\"card-text\">Alternative-lending startup Student Finance Africa (SFA) is providing\n",
              "                                 educational loans to\n",
              "                                 Moringa School in Nairobi.</p>\n",
              " </div>\n",
              " </a>,\n",
              " <a href=\"https://findingimpact.com/fip-043-bootstrapping-with-audrey-cheng/\">\n",
              " <div class=\"card-body\">\n",
              " <img alt=\"\" class=\"card-img\" data-src=\"/static/img/news/8.jpg\" src=\"data:image/png;base64,R0lGODlhAQABAAD/ACwAAAAAAQABAAACADs=\"/>\n",
              " <p class=\"card-text\">Bootstrap your business without sacrificing results or deviating from\n",
              "                                 you mission along the way.</p>\n",
              " </div>\n",
              " </a>,\n",
              " <a href=\"https://www.modernghana.com/news/820470/moringa-school-partners-with-mest-to-bring-technology-course.html\">\n",
              " <div class=\"card-body\">\n",
              " <img alt=\"\" class=\"card-img\" data-src=\"/static/img/news/9.jpg\" src=\"data:image/png;base64,R0lGODlhAQABAAD/ACwAAAAAAQABAAACADs=\"/>\n",
              " <p class=\"card-text\">Moringa School Partners with MEST To Bring Technology Courses To\n",
              "                                 Talent Across Africa</p>\n",
              " </div>\n",
              " </a>,\n",
              " <a href=\"https://www.howwemadeitinafrica.com/talent-shortage-prompts-entrepreneur-to-start-a-tech-school-in-kenya/\">\n",
              " <div class=\"card-body\">\n",
              " <img alt=\"\" class=\"card-img\" data-src=\"/static/img/news/1.jpg\" src=\"data:image/png;base64,R0lGODlhAQABAAD/ACwAAAAAAQABAAACADs=\"/>\n",
              " <p class=\"card-text\">Talent shortage prompts entrepreneur to start a tech school in\n",
              "                                 Kenya</p>\n",
              " </div>\n",
              " </a>,\n",
              " <a href=\"https://qz.com/india/1110205/in-pakistans-khyber-pakhtunkhwa-a-kenyan-startup-will-teach-thousands-of-young-people-to-code/\">\n",
              " <div class=\"card-body\">\n",
              " <img alt=\"\" class=\"card-img\" data-src=\"/static/img/news/10.jpg\" src=\"data:image/png;base64,R0lGODlhAQABAAD/ACwAAAAAAQABAAACADs=\"/>\n",
              " <p class=\"card-text\">In a restive corner of Pakistan, a Kenyan startup will teach\n",
              "                                 thousands of young people to code.</p>\n",
              " </div>\n",
              " </a>,\n",
              " <a href=\"/programs/\">\n",
              " <button class=\"btn btn-xl bg-green\">Enroll Now!</button>\n",
              " </a>,\n",
              " <a href=\"https://www.youtube.com/channel/UCnkYPrm1GvxDzGlT0S2zn4w/videos\" target=\"_blank\">\n",
              " <i class=\"fab fa-youtube\"></i>\n",
              "                         Watch us on YouTube\n",
              "                     </a>,\n",
              " <a href=\"https://www.linkedin.com/company/moringa-school\" target=\"_blank\">\n",
              " <i class=\"fab fa-linkedin\"></i>\n",
              "                         Engage us on LinkedIn\n",
              "                     </a>,\n",
              " <a href=\"https://twitter.com/moringaschool\" target=\"_blank\">\n",
              " <i class=\"fab fa-twitter\"></i>\n",
              "                         Follow us on Twitter\n",
              "                     </a>,\n",
              " <a href=\"https://www.facebook.com/moringaschool/\" target=\"_blank\">\n",
              " <i class=\"fab fa-facebook\"></i>\n",
              "                         Find us on Facebook\n",
              "                     </a>,\n",
              " <a href=\"tel:+254711581484\"><b>General Enquiries:</b> +254 711 581 484</a>,\n",
              " <a href=\"https://wa.me/254712293878\"><b>WhatsApp Enquiries:</b> <i class=\"fab fa-whatsapp\"></i> +254 711 581 484</a>,\n",
              " <a href=\"/programs/\">Programs</a>,\n",
              " <a href=\"/programs/software-development/\">Software Development</a>,\n",
              " <a href=\"/programs/data-science-course/\">Data Science</a>,\n",
              " <a href=\"/learning-model/\">Learning Model</a>,\n",
              " <a href=\"/about-us/\">About Us</a>,\n",
              " <a href=\"/outcomes/\">Outcomes</a>,\n",
              " <a href=\"/events/\">Events</a>]"
            ]
          },
          "metadata": {
            "tags": []
          },
          "execution_count": 57
        }
      ]
    },
    {
      "cell_type": "code",
      "metadata": {
        "id": "InYi5hTooF0j",
        "colab_type": "code",
        "colab": {},
        "outputId": "70a19a52-288e-48b8-a862-9fbe93a8f597"
      },
      "source": [
        "relative_urls=[l.get('href') for l in clean_links]\n",
        "relative_urls"
      ],
      "execution_count": 0,
      "outputs": [
        {
          "output_type": "execute_result",
          "data": {
            "text/plain": [
              "['/',\n",
              " '#',\n",
              " '/programs/',\n",
              " '/programs/software-development/',\n",
              " '/programs/data-science-course/',\n",
              " '/learning-model/',\n",
              " '/about-us/',\n",
              " '/outcomes/',\n",
              " '/events/',\n",
              " '/careers',\n",
              " '/covid-updates',\n",
              " '/programs/',\n",
              " '/events',\n",
              " 'https://youtu.be/tTvwX-NRGrw',\n",
              " 'https://youtu.be/KalL9nm8IlA',\n",
              " 'https://youtu.be/QMaoM54tu20',\n",
              " 'https://www.youtube.com/playlist?list=PLSEr6vQWk10F-n5x6ps-TJgOWObECLwfO',\n",
              " 'https://www.huffingtonpost.com/entry/59fb2448e4b09887ad6f3df0',\n",
              " 'https://www.nbcnews.com/news/nbcblk/kenyan-school-producing-next-generation-engineers-n822366',\n",
              " 'http://disrupt-africa.com/2017/11/student-finance-africa-launches-in-kenya-with-fsd-support/',\n",
              " 'https://findingimpact.com/fip-043-bootstrapping-with-audrey-cheng/',\n",
              " 'https://www.modernghana.com/news/820470/moringa-school-partners-with-mest-to-bring-technology-course.html',\n",
              " 'https://www.howwemadeitinafrica.com/talent-shortage-prompts-entrepreneur-to-start-a-tech-school-in-kenya/',\n",
              " 'https://qz.com/india/1110205/in-pakistans-khyber-pakhtunkhwa-a-kenyan-startup-will-teach-thousands-of-young-people-to-code/',\n",
              " '/programs/',\n",
              " 'https://www.youtube.com/channel/UCnkYPrm1GvxDzGlT0S2zn4w/videos',\n",
              " 'https://www.linkedin.com/company/moringa-school',\n",
              " 'https://twitter.com/moringaschool',\n",
              " 'https://www.facebook.com/moringaschool/',\n",
              " 'tel:+254711581484',\n",
              " 'https://wa.me/254712293878',\n",
              " '/programs/',\n",
              " '/programs/software-development/',\n",
              " '/programs/data-science-course/',\n",
              " '/learning-model/',\n",
              " '/about-us/',\n",
              " '/outcomes/',\n",
              " '/events/']"
            ]
          },
          "metadata": {
            "tags": []
          },
          "execution_count": 58
        }
      ]
    },
    {
      "cell_type": "code",
      "metadata": {
        "id": "PhZIwb5UoF0l",
        "colab_type": "code",
        "colab": {},
        "outputId": "53d95901-4af7-48c8-f15a-eda55a9641ad"
      },
      "source": [
        "full_urls=[urljoin(base_site, url) for url in relative_urls]\n",
        "full_urls"
      ],
      "execution_count": 0,
      "outputs": [
        {
          "output_type": "execute_result",
          "data": {
            "text/plain": [
              "['https://moringaschool.com/',\n",
              " 'https://moringaschool.com',\n",
              " 'https://moringaschool.com/programs/',\n",
              " 'https://moringaschool.com/programs/software-development/',\n",
              " 'https://moringaschool.com/programs/data-science-course/',\n",
              " 'https://moringaschool.com/learning-model/',\n",
              " 'https://moringaschool.com/about-us/',\n",
              " 'https://moringaschool.com/outcomes/',\n",
              " 'https://moringaschool.com/events/',\n",
              " 'https://moringaschool.com/careers',\n",
              " 'https://moringaschool.com/covid-updates',\n",
              " 'https://moringaschool.com/programs/',\n",
              " 'https://moringaschool.com/events',\n",
              " 'https://youtu.be/tTvwX-NRGrw',\n",
              " 'https://youtu.be/KalL9nm8IlA',\n",
              " 'https://youtu.be/QMaoM54tu20',\n",
              " 'https://www.youtube.com/playlist?list=PLSEr6vQWk10F-n5x6ps-TJgOWObECLwfO',\n",
              " 'https://www.huffingtonpost.com/entry/59fb2448e4b09887ad6f3df0',\n",
              " 'https://www.nbcnews.com/news/nbcblk/kenyan-school-producing-next-generation-engineers-n822366',\n",
              " 'http://disrupt-africa.com/2017/11/student-finance-africa-launches-in-kenya-with-fsd-support/',\n",
              " 'https://findingimpact.com/fip-043-bootstrapping-with-audrey-cheng/',\n",
              " 'https://www.modernghana.com/news/820470/moringa-school-partners-with-mest-to-bring-technology-course.html',\n",
              " 'https://www.howwemadeitinafrica.com/talent-shortage-prompts-entrepreneur-to-start-a-tech-school-in-kenya/',\n",
              " 'https://qz.com/india/1110205/in-pakistans-khyber-pakhtunkhwa-a-kenyan-startup-will-teach-thousands-of-young-people-to-code/',\n",
              " 'https://moringaschool.com/programs/',\n",
              " 'https://www.youtube.com/channel/UCnkYPrm1GvxDzGlT0S2zn4w/videos',\n",
              " 'https://www.linkedin.com/company/moringa-school',\n",
              " 'https://twitter.com/moringaschool',\n",
              " 'https://www.facebook.com/moringaschool/',\n",
              " 'tel:+254711581484',\n",
              " 'https://wa.me/254712293878',\n",
              " 'https://moringaschool.com/programs/',\n",
              " 'https://moringaschool.com/programs/software-development/',\n",
              " 'https://moringaschool.com/programs/data-science-course/',\n",
              " 'https://moringaschool.com/learning-model/',\n",
              " 'https://moringaschool.com/about-us/',\n",
              " 'https://moringaschool.com/outcomes/',\n",
              " 'https://moringaschool.com/events/']"
            ]
          },
          "metadata": {
            "tags": []
          },
          "execution_count": 59
        }
      ]
    },
    {
      "cell_type": "code",
      "metadata": {
        "id": "eJfWE0F6oF0n",
        "colab_type": "code",
        "colab": {},
        "outputId": "3f026e35-d285-4fc3-e6f5-82ce0cf4199b"
      },
      "source": [
        "internal_links =[url for url in full_urls if 'moringaschool.com' in url]\n",
        "internal_links"
      ],
      "execution_count": 0,
      "outputs": [
        {
          "output_type": "execute_result",
          "data": {
            "text/plain": [
              "['https://moringaschool.com/',\n",
              " 'https://moringaschool.com',\n",
              " 'https://moringaschool.com/programs/',\n",
              " 'https://moringaschool.com/programs/software-development/',\n",
              " 'https://moringaschool.com/programs/data-science-course/',\n",
              " 'https://moringaschool.com/learning-model/',\n",
              " 'https://moringaschool.com/about-us/',\n",
              " 'https://moringaschool.com/outcomes/',\n",
              " 'https://moringaschool.com/events/',\n",
              " 'https://moringaschool.com/careers',\n",
              " 'https://moringaschool.com/covid-updates',\n",
              " 'https://moringaschool.com/programs/',\n",
              " 'https://moringaschool.com/events',\n",
              " 'https://moringaschool.com/programs/',\n",
              " 'https://moringaschool.com/programs/',\n",
              " 'https://moringaschool.com/programs/software-development/',\n",
              " 'https://moringaschool.com/programs/data-science-course/',\n",
              " 'https://moringaschool.com/learning-model/',\n",
              " 'https://moringaschool.com/about-us/',\n",
              " 'https://moringaschool.com/outcomes/',\n",
              " 'https://moringaschool.com/events/']"
            ]
          },
          "metadata": {
            "tags": []
          },
          "execution_count": 80
        }
      ]
    },
    {
      "cell_type": "markdown",
      "metadata": {
        "id": "PL5fGO12oF0o",
        "colab_type": "text"
      },
      "source": [
        "Extracting data from nested html tags"
      ]
    },
    {
      "cell_type": "code",
      "metadata": {
        "id": "aPHwtXbkoF0p",
        "colab_type": "code",
        "colab": {},
        "outputId": "855aa80e-5194-487a-d45e-1ea576ae4f83"
      },
      "source": [
        "div_notes = soup.find_all(\"div\",{\"\":\"\"})\n",
        "div_notes"
      ],
      "execution_count": 0,
      "outputs": [
        {
          "output_type": "execute_result",
          "data": {
            "text/plain": [
              "[<div class=\"collapse navbar-collapse\" id=\"navbarSupportedContent\">\n",
              " <ul class=\"navbar-nav nav navbar-right ml-md-2\">\n",
              " <li class=\"dropdown\"><a class=\"\" data-toggle=\"dropdown\" href=\"#\">Programs <i class=\"fa fa-chevron-down\"></i></a>\n",
              " <ul class=\"dropdown-menu\" id=\"dropdown\">\n",
              " <li><a href=\"/programs/\">Programs</a></li>\n",
              " <li><a href=\"/programs/software-development/\">Software Development</a></li>\n",
              " <li><a href=\"/programs/data-science-course/\">Data Science</a></li>\n",
              " </ul>\n",
              " </li>\n",
              " </ul>\n",
              " <ul class=\"navbar-nav nav navbar-right ml-auto\">\n",
              " <li><a href=\"/learning-model/\">Learning Model</a></li>\n",
              " <li><a href=\"/about-us/\">About Us</a></li>\n",
              " <li><a href=\"/outcomes/\">Outcomes</a></li>\n",
              " <li><a href=\"/events/\">Events</a></li>\n",
              " <!-- <li><a href=\"https://nairobitechweek.com\">NTW</a></li> -->\n",
              " <li><a href=\"/careers\">Careers</a></li>\n",
              " </ul>\n",
              " </div>, <div class=\"w-100 h-100\" id=\"home_banner_image_text\">\n",
              " <h1 class=\"banner_title home\">Developing the Next Generation of Tech Leaders Through Market-Driven Education</h1>\n",
              " <p class=\"banner_line\"></p>\n",
              " <a class=\"home_course_link\" href=\"/programs/\">\n",
              " <button class=\"btn btn-xl apply\">Browse Courses</button>\n",
              " </a>\n",
              " </div>, <div class=\"container text-center quote_container\">\n",
              " <p class=\"quote\">Our courses consist of pathways that branch into either full stack development or mobile development.</p>\n",
              " </div>, <div class=\"container-fluid text-center\">\n",
              " <div class=\"moringa-pathways\">\n",
              " <img alt=\"\" src=\"/static/img/course-logos/android-studio.jpg\"/>\n",
              " <img alt=\"\" src=\"/static/img/course-logos/django-logo.jpg\"/>\n",
              " <img alt=\"\" src=\"/static/img/course-logos/java-logo.jpg\"/>\n",
              " <img alt=\"\" src=\"/static/img/course-logos/python-logo.jpg\"/>\n",
              " <img alt=\"\" src=\"/static/img/course-logos/android-developers.jpg\"/>\n",
              " </div>\n",
              " </div>, <div class=\"moringa-pathways\">\n",
              " <img alt=\"\" src=\"/static/img/course-logos/android-studio.jpg\"/>\n",
              " <img alt=\"\" src=\"/static/img/course-logos/django-logo.jpg\"/>\n",
              " <img alt=\"\" src=\"/static/img/course-logos/java-logo.jpg\"/>\n",
              " <img alt=\"\" src=\"/static/img/course-logos/python-logo.jpg\"/>\n",
              " <img alt=\"\" src=\"/static/img/course-logos/android-developers.jpg\"/>\n",
              " </div>, <div class=\"container-fluid bg-gray\">\n",
              " <div class=\"row\">\n",
              " <div class=\"col-md-6\">\n",
              " <div class=\"moringa-events-pane-left blue\">\n",
              " <h1>Upcoming Events</h1>\n",
              " <h2 class=\"light-font\">Stay engaged, stay focused, stay coded.\n",
              "                             <br/>\n",
              " </h2>\n",
              " <h3 class=\"medium-font\">Experience the vibrant energy of <br/> our events</h3>\n",
              " <p><a class=\"moringa-learn-more blue\" href=\"/events\">Learn More<i class=\"fa fa-long-arrow-right\"></i> </a></p>\n",
              " </div>\n",
              " </div>\n",
              " <div class=\"col-md-6\">\n",
              " <div class=\"moringa-events-pane-right\">\n",
              " <img data-src=\"/static/img/moringa-events.jpg\" src=\"data:image/png;base64,R0lGODlhAQABAAD/ACwAAAAAAQABAAACADs=\"/>\n",
              " </div>\n",
              " </div>\n",
              " </div>\n",
              " </div>, <div class=\"row\">\n",
              " <div class=\"col-md-6\">\n",
              " <div class=\"moringa-events-pane-left blue\">\n",
              " <h1>Upcoming Events</h1>\n",
              " <h2 class=\"light-font\">Stay engaged, stay focused, stay coded.\n",
              "                             <br/>\n",
              " </h2>\n",
              " <h3 class=\"medium-font\">Experience the vibrant energy of <br/> our events</h3>\n",
              " <p><a class=\"moringa-learn-more blue\" href=\"/events\">Learn More<i class=\"fa fa-long-arrow-right\"></i> </a></p>\n",
              " </div>\n",
              " </div>\n",
              " <div class=\"col-md-6\">\n",
              " <div class=\"moringa-events-pane-right\">\n",
              " <img data-src=\"/static/img/moringa-events.jpg\" src=\"data:image/png;base64,R0lGODlhAQABAAD/ACwAAAAAAQABAAACADs=\"/>\n",
              " </div>\n",
              " </div>\n",
              " </div>, <div class=\"col-md-6\">\n",
              " <div class=\"moringa-events-pane-left blue\">\n",
              " <h1>Upcoming Events</h1>\n",
              " <h2 class=\"light-font\">Stay engaged, stay focused, stay coded.\n",
              "                             <br/>\n",
              " </h2>\n",
              " <h3 class=\"medium-font\">Experience the vibrant energy of <br/> our events</h3>\n",
              " <p><a class=\"moringa-learn-more blue\" href=\"/events\">Learn More<i class=\"fa fa-long-arrow-right\"></i> </a></p>\n",
              " </div>\n",
              " </div>, <div class=\"moringa-events-pane-left blue\">\n",
              " <h1>Upcoming Events</h1>\n",
              " <h2 class=\"light-font\">Stay engaged, stay focused, stay coded.\n",
              "                             <br/>\n",
              " </h2>\n",
              " <h3 class=\"medium-font\">Experience the vibrant energy of <br/> our events</h3>\n",
              " <p><a class=\"moringa-learn-more blue\" href=\"/events\">Learn More<i class=\"fa fa-long-arrow-right\"></i> </a></p>\n",
              " </div>, <div class=\"col-md-6\">\n",
              " <div class=\"moringa-events-pane-right\">\n",
              " <img data-src=\"/static/img/moringa-events.jpg\" src=\"data:image/png;base64,R0lGODlhAQABAAD/ACwAAAAAAQABAAACADs=\"/>\n",
              " </div>\n",
              " </div>, <div class=\"moringa-events-pane-right\">\n",
              " <img data-src=\"/static/img/moringa-events.jpg\" src=\"data:image/png;base64,R0lGODlhAQABAAD/ACwAAAAAAQABAAACADs=\"/>\n",
              " </div>, <div class=\"container-fluid\">\n",
              " <div class=\"text-left\">\n",
              " <h1 class=\"heading\">Our Alumni</h1>\n",
              " <p class=\"paragraph\">Hear from our recent students</p>\n",
              " </div>\n",
              " </div>, <div class=\"text-left\">\n",
              " <h1 class=\"heading\">Our Alumni</h1>\n",
              " <p class=\"paragraph\">Hear from our recent students</p>\n",
              " </div>, <div class=\"container-fluid\">\n",
              " <div class=\"row\">\n",
              " <div class=\"col-12 col-sm-6 col-md-4\">\n",
              " <div class=\"content\">\n",
              " <img alt=\"\" class=\"about-image\" data-src=\"/static/img/alumni/0.jpg\" src=\"data:image/png;base64,R0lGODlhAQABAAD/ACwAAAAAAQABAAACADs=\"/>\n",
              " <div class=\"content-details content-detail d-flex align-items-center justify-content-center\">\n",
              " <div class=\"play\">\n",
              " <a href=\"https://youtu.be/tTvwX-NRGrw\" rel=\"noreferrer noopener\" target=\"_blank\">\n",
              " <i class=\"fa fa-play-circle\"></i>\n",
              " </a>\n",
              " </div>\n",
              " </div>\n",
              " </div>\n",
              " <div>\n",
              " <h1 class=\"tab-header\">Kevin Maina</h1>\n",
              " <p class=\"alumni-p\">Software Developer &amp; Moringa School Alumni</p>\n",
              " </div>\n",
              " </div>\n",
              " <div class=\"col-12 col-sm-6 col-md-4\">\n",
              " <div class=\"content\">\n",
              " <img alt=\"\" class=\"about-image\" data-src=\"/static/img/alumni/1.jpg\" src=\"data:image/png;base64,R0lGODlhAQABAAD/ACwAAAAAAQABAAACADs=\"/>\n",
              " <div class=\"content-details content-detail d-flex align-items-center justify-content-center\">\n",
              " <div class=\"play\"><a href=\"https://youtu.be/KalL9nm8IlA\" rel=\"noreferrer noopener\" target=\"_blank\"><i class=\"fa fa-play-circle\"></i></a>\n",
              " </div>\n",
              " </div>\n",
              " </div>\n",
              " <div>\n",
              " <h1 class=\"tab-header\">Mariam Omar</h1>\n",
              " <p class=\"alumni-p\">Full-stack Web Developer &amp; Moringa School Alumni</p>\n",
              " </div>\n",
              " </div>\n",
              " <div class=\"col-12 col-sm-6 col-md-4\">\n",
              " <div class=\"content\">\n",
              " <img alt=\"\" class=\"about-image\" data-src=\"/static/img/alumni/2.jpg\" src=\"data:image/png;base64,R0lGODlhAQABAAD/ACwAAAAAAQABAAACADs=\"/>\n",
              " <div class=\"content-details content-detail d-flex align-items-center justify-content-center\">\n",
              " <div class=\"play\"><a href=\"https://youtu.be/QMaoM54tu20\" rel=\"noreferrer noopener\" target=\"_blank\"><i class=\"fa fa-play-circle\"></i></a>\n",
              " </div>\n",
              " </div>\n",
              " </div>\n",
              " <div>\n",
              " <h1 class=\"tab-header\">Paul Lucas</h1>\n",
              " <p class=\"alumni-p\">Techpreneur &amp; Moringa School Alumni</p>\n",
              " </div>\n",
              " </div>\n",
              " </div>\n",
              " </div>, <div class=\"row\">\n",
              " <div class=\"col-12 col-sm-6 col-md-4\">\n",
              " <div class=\"content\">\n",
              " <img alt=\"\" class=\"about-image\" data-src=\"/static/img/alumni/0.jpg\" src=\"data:image/png;base64,R0lGODlhAQABAAD/ACwAAAAAAQABAAACADs=\"/>\n",
              " <div class=\"content-details content-detail d-flex align-items-center justify-content-center\">\n",
              " <div class=\"play\">\n",
              " <a href=\"https://youtu.be/tTvwX-NRGrw\" rel=\"noreferrer noopener\" target=\"_blank\">\n",
              " <i class=\"fa fa-play-circle\"></i>\n",
              " </a>\n",
              " </div>\n",
              " </div>\n",
              " </div>\n",
              " <div>\n",
              " <h1 class=\"tab-header\">Kevin Maina</h1>\n",
              " <p class=\"alumni-p\">Software Developer &amp; Moringa School Alumni</p>\n",
              " </div>\n",
              " </div>\n",
              " <div class=\"col-12 col-sm-6 col-md-4\">\n",
              " <div class=\"content\">\n",
              " <img alt=\"\" class=\"about-image\" data-src=\"/static/img/alumni/1.jpg\" src=\"data:image/png;base64,R0lGODlhAQABAAD/ACwAAAAAAQABAAACADs=\"/>\n",
              " <div class=\"content-details content-detail d-flex align-items-center justify-content-center\">\n",
              " <div class=\"play\"><a href=\"https://youtu.be/KalL9nm8IlA\" rel=\"noreferrer noopener\" target=\"_blank\"><i class=\"fa fa-play-circle\"></i></a>\n",
              " </div>\n",
              " </div>\n",
              " </div>\n",
              " <div>\n",
              " <h1 class=\"tab-header\">Mariam Omar</h1>\n",
              " <p class=\"alumni-p\">Full-stack Web Developer &amp; Moringa School Alumni</p>\n",
              " </div>\n",
              " </div>\n",
              " <div class=\"col-12 col-sm-6 col-md-4\">\n",
              " <div class=\"content\">\n",
              " <img alt=\"\" class=\"about-image\" data-src=\"/static/img/alumni/2.jpg\" src=\"data:image/png;base64,R0lGODlhAQABAAD/ACwAAAAAAQABAAACADs=\"/>\n",
              " <div class=\"content-details content-detail d-flex align-items-center justify-content-center\">\n",
              " <div class=\"play\"><a href=\"https://youtu.be/QMaoM54tu20\" rel=\"noreferrer noopener\" target=\"_blank\"><i class=\"fa fa-play-circle\"></i></a>\n",
              " </div>\n",
              " </div>\n",
              " </div>\n",
              " <div>\n",
              " <h1 class=\"tab-header\">Paul Lucas</h1>\n",
              " <p class=\"alumni-p\">Techpreneur &amp; Moringa School Alumni</p>\n",
              " </div>\n",
              " </div>\n",
              " </div>, <div class=\"col-12 col-sm-6 col-md-4\">\n",
              " <div class=\"content\">\n",
              " <img alt=\"\" class=\"about-image\" data-src=\"/static/img/alumni/0.jpg\" src=\"data:image/png;base64,R0lGODlhAQABAAD/ACwAAAAAAQABAAACADs=\"/>\n",
              " <div class=\"content-details content-detail d-flex align-items-center justify-content-center\">\n",
              " <div class=\"play\">\n",
              " <a href=\"https://youtu.be/tTvwX-NRGrw\" rel=\"noreferrer noopener\" target=\"_blank\">\n",
              " <i class=\"fa fa-play-circle\"></i>\n",
              " </a>\n",
              " </div>\n",
              " </div>\n",
              " </div>\n",
              " <div>\n",
              " <h1 class=\"tab-header\">Kevin Maina</h1>\n",
              " <p class=\"alumni-p\">Software Developer &amp; Moringa School Alumni</p>\n",
              " </div>\n",
              " </div>, <div class=\"content\">\n",
              " <img alt=\"\" class=\"about-image\" data-src=\"/static/img/alumni/0.jpg\" src=\"data:image/png;base64,R0lGODlhAQABAAD/ACwAAAAAAQABAAACADs=\"/>\n",
              " <div class=\"content-details content-detail d-flex align-items-center justify-content-center\">\n",
              " <div class=\"play\">\n",
              " <a href=\"https://youtu.be/tTvwX-NRGrw\" rel=\"noreferrer noopener\" target=\"_blank\">\n",
              " <i class=\"fa fa-play-circle\"></i>\n",
              " </a>\n",
              " </div>\n",
              " </div>\n",
              " </div>, <div class=\"content-details content-detail d-flex align-items-center justify-content-center\">\n",
              " <div class=\"play\">\n",
              " <a href=\"https://youtu.be/tTvwX-NRGrw\" rel=\"noreferrer noopener\" target=\"_blank\">\n",
              " <i class=\"fa fa-play-circle\"></i>\n",
              " </a>\n",
              " </div>\n",
              " </div>, <div class=\"play\">\n",
              " <a href=\"https://youtu.be/tTvwX-NRGrw\" rel=\"noreferrer noopener\" target=\"_blank\">\n",
              " <i class=\"fa fa-play-circle\"></i>\n",
              " </a>\n",
              " </div>, <div>\n",
              " <h1 class=\"tab-header\">Kevin Maina</h1>\n",
              " <p class=\"alumni-p\">Software Developer &amp; Moringa School Alumni</p>\n",
              " </div>, <div class=\"col-12 col-sm-6 col-md-4\">\n",
              " <div class=\"content\">\n",
              " <img alt=\"\" class=\"about-image\" data-src=\"/static/img/alumni/1.jpg\" src=\"data:image/png;base64,R0lGODlhAQABAAD/ACwAAAAAAQABAAACADs=\"/>\n",
              " <div class=\"content-details content-detail d-flex align-items-center justify-content-center\">\n",
              " <div class=\"play\"><a href=\"https://youtu.be/KalL9nm8IlA\" rel=\"noreferrer noopener\" target=\"_blank\"><i class=\"fa fa-play-circle\"></i></a>\n",
              " </div>\n",
              " </div>\n",
              " </div>\n",
              " <div>\n",
              " <h1 class=\"tab-header\">Mariam Omar</h1>\n",
              " <p class=\"alumni-p\">Full-stack Web Developer &amp; Moringa School Alumni</p>\n",
              " </div>\n",
              " </div>, <div class=\"content\">\n",
              " <img alt=\"\" class=\"about-image\" data-src=\"/static/img/alumni/1.jpg\" src=\"data:image/png;base64,R0lGODlhAQABAAD/ACwAAAAAAQABAAACADs=\"/>\n",
              " <div class=\"content-details content-detail d-flex align-items-center justify-content-center\">\n",
              " <div class=\"play\"><a href=\"https://youtu.be/KalL9nm8IlA\" rel=\"noreferrer noopener\" target=\"_blank\"><i class=\"fa fa-play-circle\"></i></a>\n",
              " </div>\n",
              " </div>\n",
              " </div>, <div class=\"content-details content-detail d-flex align-items-center justify-content-center\">\n",
              " <div class=\"play\"><a href=\"https://youtu.be/KalL9nm8IlA\" rel=\"noreferrer noopener\" target=\"_blank\"><i class=\"fa fa-play-circle\"></i></a>\n",
              " </div>\n",
              " </div>, <div class=\"play\"><a href=\"https://youtu.be/KalL9nm8IlA\" rel=\"noreferrer noopener\" target=\"_blank\"><i class=\"fa fa-play-circle\"></i></a>\n",
              " </div>, <div>\n",
              " <h1 class=\"tab-header\">Mariam Omar</h1>\n",
              " <p class=\"alumni-p\">Full-stack Web Developer &amp; Moringa School Alumni</p>\n",
              " </div>, <div class=\"col-12 col-sm-6 col-md-4\">\n",
              " <div class=\"content\">\n",
              " <img alt=\"\" class=\"about-image\" data-src=\"/static/img/alumni/2.jpg\" src=\"data:image/png;base64,R0lGODlhAQABAAD/ACwAAAAAAQABAAACADs=\"/>\n",
              " <div class=\"content-details content-detail d-flex align-items-center justify-content-center\">\n",
              " <div class=\"play\"><a href=\"https://youtu.be/QMaoM54tu20\" rel=\"noreferrer noopener\" target=\"_blank\"><i class=\"fa fa-play-circle\"></i></a>\n",
              " </div>\n",
              " </div>\n",
              " </div>\n",
              " <div>\n",
              " <h1 class=\"tab-header\">Paul Lucas</h1>\n",
              " <p class=\"alumni-p\">Techpreneur &amp; Moringa School Alumni</p>\n",
              " </div>\n",
              " </div>, <div class=\"content\">\n",
              " <img alt=\"\" class=\"about-image\" data-src=\"/static/img/alumni/2.jpg\" src=\"data:image/png;base64,R0lGODlhAQABAAD/ACwAAAAAAQABAAACADs=\"/>\n",
              " <div class=\"content-details content-detail d-flex align-items-center justify-content-center\">\n",
              " <div class=\"play\"><a href=\"https://youtu.be/QMaoM54tu20\" rel=\"noreferrer noopener\" target=\"_blank\"><i class=\"fa fa-play-circle\"></i></a>\n",
              " </div>\n",
              " </div>\n",
              " </div>, <div class=\"content-details content-detail d-flex align-items-center justify-content-center\">\n",
              " <div class=\"play\"><a href=\"https://youtu.be/QMaoM54tu20\" rel=\"noreferrer noopener\" target=\"_blank\"><i class=\"fa fa-play-circle\"></i></a>\n",
              " </div>\n",
              " </div>, <div class=\"play\"><a href=\"https://youtu.be/QMaoM54tu20\" rel=\"noreferrer noopener\" target=\"_blank\"><i class=\"fa fa-play-circle\"></i></a>\n",
              " </div>, <div>\n",
              " <h1 class=\"tab-header\">Paul Lucas</h1>\n",
              " <p class=\"alumni-p\">Techpreneur &amp; Moringa School Alumni</p>\n",
              " </div>, <div class=\"container\">\n",
              " <div class=\"row\">\n",
              " <div class=\"col-md-12 text-center\">\n",
              " <a href=\"https://www.youtube.com/playlist?list=PLSEr6vQWk10F-n5x6ps-TJgOWObECLwfO\" target=\"_blank\">\n",
              " <button class=\"btn btn-xl bg-green\">View Our Alumni</button>\n",
              " </a>\n",
              " </div>\n",
              " </div>\n",
              " </div>, <div class=\"row\">\n",
              " <div class=\"col-md-12 text-center\">\n",
              " <a href=\"https://www.youtube.com/playlist?list=PLSEr6vQWk10F-n5x6ps-TJgOWObECLwfO\" target=\"_blank\">\n",
              " <button class=\"btn btn-xl bg-green\">View Our Alumni</button>\n",
              " </a>\n",
              " </div>\n",
              " </div>, <div class=\"col-md-12 text-center\">\n",
              " <a href=\"https://www.youtube.com/playlist?list=PLSEr6vQWk10F-n5x6ps-TJgOWObECLwfO\" target=\"_blank\">\n",
              " <button class=\"btn btn-xl bg-green\">View Our Alumni</button>\n",
              " </a>\n",
              " </div>, <div class=\"container\">\n",
              " <div class=\"row\">\n",
              " <div class=\"col-md-12 text-left\">\n",
              " <h1 class=\"heading\">Moringa School in The News</h1>\n",
              " <p class=\"paragraph\">\"In times of profound change, the learners inherit the earth,\n",
              "                         while the learned find themselves beautifully equipped to deal with a world that\n",
              "                         no longer exists.” <br/>— Eric Hoffer</p>\n",
              " </div>\n",
              " </div>\n",
              " </div>, <div class=\"row\">\n",
              " <div class=\"col-md-12 text-left\">\n",
              " <h1 class=\"heading\">Moringa School in The News</h1>\n",
              " <p class=\"paragraph\">\"In times of profound change, the learners inherit the earth,\n",
              "                         while the learned find themselves beautifully equipped to deal with a world that\n",
              "                         no longer exists.” <br/>— Eric Hoffer</p>\n",
              " </div>\n",
              " </div>, <div class=\"col-md-12 text-left\">\n",
              " <h1 class=\"heading\">Moringa School in The News</h1>\n",
              " <p class=\"paragraph\">\"In times of profound change, the learners inherit the earth,\n",
              "                         while the learned find themselves beautifully equipped to deal with a world that\n",
              "                         no longer exists.” <br/>— Eric Hoffer</p>\n",
              " </div>, <div>\n",
              " <div class=\"news-row\">\n",
              " <div class=\"news\">\n",
              " <a href=\"https://www.huffingtonpost.com/entry/59fb2448e4b09887ad6f3df0\" target=\"_blank\">\n",
              " <div class=\"card-body\">\n",
              " <img alt=\"\" class=\"card-img\" data-src=\"/static/img/news/huffpost.jpg\" src=\"data:image/png;base64,R0lGODlhAQABAAD/ACwAAAAAAQABAAACADs=\"/>\n",
              " <p class=\"card-text\">How Automation in Africa Will Affect the Skills Needs of Employers</p>\n",
              " </div>\n",
              " </a>\n",
              " </div>\n",
              " <div class=\"news\">\n",
              " <a href=\"https://www.nbcnews.com/news/nbcblk/kenyan-school-producing-next-generation-engineers-n822366\">\n",
              " <div class=\"card-body\">\n",
              " <img alt=\"\" class=\"card-img\" data-src=\"/static/img/news/nbc.jpg\" src=\"data:image/png;base64,R0lGODlhAQABAAD/ACwAAAAAAQABAAACADs=\"/>\n",
              " <p class=\"card-text\">Kenyan school is producing next generation of engineers</p>\n",
              " </div>\n",
              " </a>\n",
              " </div>\n",
              " <div class=\"news\">\n",
              " <a href=\"http://disrupt-africa.com/2017/11/student-finance-africa-launches-in-kenya-with-fsd-support/\">\n",
              " <div class=\"card-body\">\n",
              " <img alt=\"\" class=\"card-img\" data-src=\"/static/img/news/5.jpg\" src=\"data:image/png;base64,R0lGODlhAQABAAD/ACwAAAAAAQABAAACADs=\"/>\n",
              " <p class=\"card-text\">Alternative-lending startup Student Finance Africa (SFA) is providing\n",
              "                                 educational loans to\n",
              "                                 Moringa School in Nairobi.</p>\n",
              " </div>\n",
              " </a>\n",
              " </div>\n",
              " <div class=\"news\">\n",
              " <a href=\"https://findingimpact.com/fip-043-bootstrapping-with-audrey-cheng/\">\n",
              " <div class=\"card-body\">\n",
              " <img alt=\"\" class=\"card-img\" data-src=\"/static/img/news/8.jpg\" src=\"data:image/png;base64,R0lGODlhAQABAAD/ACwAAAAAAQABAAACADs=\"/>\n",
              " <p class=\"card-text\">Bootstrap your business without sacrificing results or deviating from\n",
              "                                 you mission along the way.</p>\n",
              " </div>\n",
              " </a>\n",
              " </div>\n",
              " <div class=\"news\">\n",
              " <a href=\"https://www.modernghana.com/news/820470/moringa-school-partners-with-mest-to-bring-technology-course.html\">\n",
              " <div class=\"card-body\">\n",
              " <img alt=\"\" class=\"card-img\" data-src=\"/static/img/news/9.jpg\" src=\"data:image/png;base64,R0lGODlhAQABAAD/ACwAAAAAAQABAAACADs=\"/>\n",
              " <p class=\"card-text\">Moringa School Partners with MEST To Bring Technology Courses To\n",
              "                                 Talent Across Africa</p>\n",
              " </div>\n",
              " </a>\n",
              " </div>\n",
              " <div class=\"news\">\n",
              " <a href=\"https://www.howwemadeitinafrica.com/talent-shortage-prompts-entrepreneur-to-start-a-tech-school-in-kenya/\">\n",
              " <div class=\"card-body\">\n",
              " <img alt=\"\" class=\"card-img\" data-src=\"/static/img/news/1.jpg\" src=\"data:image/png;base64,R0lGODlhAQABAAD/ACwAAAAAAQABAAACADs=\"/>\n",
              " <p class=\"card-text\">Talent shortage prompts entrepreneur to start a tech school in\n",
              "                                 Kenya</p>\n",
              " </div>\n",
              " </a>\n",
              " </div>\n",
              " <div class=\"news\">\n",
              " <a href=\"https://qz.com/india/1110205/in-pakistans-khyber-pakhtunkhwa-a-kenyan-startup-will-teach-thousands-of-young-people-to-code/\">\n",
              " <div class=\"card-body\">\n",
              " <img alt=\"\" class=\"card-img\" data-src=\"/static/img/news/10.jpg\" src=\"data:image/png;base64,R0lGODlhAQABAAD/ACwAAAAAAQABAAACADs=\"/>\n",
              " <p class=\"card-text\">In a restive corner of Pakistan, a Kenyan startup will teach\n",
              "                                 thousands of young people to code.</p>\n",
              " </div>\n",
              " </a>\n",
              " </div>\n",
              " </div>\n",
              " </div>, <div class=\"news-row\">\n",
              " <div class=\"news\">\n",
              " <a href=\"https://www.huffingtonpost.com/entry/59fb2448e4b09887ad6f3df0\" target=\"_blank\">\n",
              " <div class=\"card-body\">\n",
              " <img alt=\"\" class=\"card-img\" data-src=\"/static/img/news/huffpost.jpg\" src=\"data:image/png;base64,R0lGODlhAQABAAD/ACwAAAAAAQABAAACADs=\"/>\n",
              " <p class=\"card-text\">How Automation in Africa Will Affect the Skills Needs of Employers</p>\n",
              " </div>\n",
              " </a>\n",
              " </div>\n",
              " <div class=\"news\">\n",
              " <a href=\"https://www.nbcnews.com/news/nbcblk/kenyan-school-producing-next-generation-engineers-n822366\">\n",
              " <div class=\"card-body\">\n",
              " <img alt=\"\" class=\"card-img\" data-src=\"/static/img/news/nbc.jpg\" src=\"data:image/png;base64,R0lGODlhAQABAAD/ACwAAAAAAQABAAACADs=\"/>\n",
              " <p class=\"card-text\">Kenyan school is producing next generation of engineers</p>\n",
              " </div>\n",
              " </a>\n",
              " </div>\n",
              " <div class=\"news\">\n",
              " <a href=\"http://disrupt-africa.com/2017/11/student-finance-africa-launches-in-kenya-with-fsd-support/\">\n",
              " <div class=\"card-body\">\n",
              " <img alt=\"\" class=\"card-img\" data-src=\"/static/img/news/5.jpg\" src=\"data:image/png;base64,R0lGODlhAQABAAD/ACwAAAAAAQABAAACADs=\"/>\n",
              " <p class=\"card-text\">Alternative-lending startup Student Finance Africa (SFA) is providing\n",
              "                                 educational loans to\n",
              "                                 Moringa School in Nairobi.</p>\n",
              " </div>\n",
              " </a>\n",
              " </div>\n",
              " <div class=\"news\">\n",
              " <a href=\"https://findingimpact.com/fip-043-bootstrapping-with-audrey-cheng/\">\n",
              " <div class=\"card-body\">\n",
              " <img alt=\"\" class=\"card-img\" data-src=\"/static/img/news/8.jpg\" src=\"data:image/png;base64,R0lGODlhAQABAAD/ACwAAAAAAQABAAACADs=\"/>\n",
              " <p class=\"card-text\">Bootstrap your business without sacrificing results or deviating from\n",
              "                                 you mission along the way.</p>\n",
              " </div>\n",
              " </a>\n",
              " </div>\n",
              " <div class=\"news\">\n",
              " <a href=\"https://www.modernghana.com/news/820470/moringa-school-partners-with-mest-to-bring-technology-course.html\">\n",
              " <div class=\"card-body\">\n",
              " <img alt=\"\" class=\"card-img\" data-src=\"/static/img/news/9.jpg\" src=\"data:image/png;base64,R0lGODlhAQABAAD/ACwAAAAAAQABAAACADs=\"/>\n",
              " <p class=\"card-text\">Moringa School Partners with MEST To Bring Technology Courses To\n",
              "                                 Talent Across Africa</p>\n",
              " </div>\n",
              " </a>\n",
              " </div>\n",
              " <div class=\"news\">\n",
              " <a href=\"https://www.howwemadeitinafrica.com/talent-shortage-prompts-entrepreneur-to-start-a-tech-school-in-kenya/\">\n",
              " <div class=\"card-body\">\n",
              " <img alt=\"\" class=\"card-img\" data-src=\"/static/img/news/1.jpg\" src=\"data:image/png;base64,R0lGODlhAQABAAD/ACwAAAAAAQABAAACADs=\"/>\n",
              " <p class=\"card-text\">Talent shortage prompts entrepreneur to start a tech school in\n",
              "                                 Kenya</p>\n",
              " </div>\n",
              " </a>\n",
              " </div>\n",
              " <div class=\"news\">\n",
              " <a href=\"https://qz.com/india/1110205/in-pakistans-khyber-pakhtunkhwa-a-kenyan-startup-will-teach-thousands-of-young-people-to-code/\">\n",
              " <div class=\"card-body\">\n",
              " <img alt=\"\" class=\"card-img\" data-src=\"/static/img/news/10.jpg\" src=\"data:image/png;base64,R0lGODlhAQABAAD/ACwAAAAAAQABAAACADs=\"/>\n",
              " <p class=\"card-text\">In a restive corner of Pakistan, a Kenyan startup will teach\n",
              "                                 thousands of young people to code.</p>\n",
              " </div>\n",
              " </a>\n",
              " </div>\n",
              " </div>, <div class=\"news\">\n",
              " <a href=\"https://www.huffingtonpost.com/entry/59fb2448e4b09887ad6f3df0\" target=\"_blank\">\n",
              " <div class=\"card-body\">\n",
              " <img alt=\"\" class=\"card-img\" data-src=\"/static/img/news/huffpost.jpg\" src=\"data:image/png;base64,R0lGODlhAQABAAD/ACwAAAAAAQABAAACADs=\"/>\n",
              " <p class=\"card-text\">How Automation in Africa Will Affect the Skills Needs of Employers</p>\n",
              " </div>\n",
              " </a>\n",
              " </div>, <div class=\"card-body\">\n",
              " <img alt=\"\" class=\"card-img\" data-src=\"/static/img/news/huffpost.jpg\" src=\"data:image/png;base64,R0lGODlhAQABAAD/ACwAAAAAAQABAAACADs=\"/>\n",
              " <p class=\"card-text\">How Automation in Africa Will Affect the Skills Needs of Employers</p>\n",
              " </div>, <div class=\"news\">\n",
              " <a href=\"https://www.nbcnews.com/news/nbcblk/kenyan-school-producing-next-generation-engineers-n822366\">\n",
              " <div class=\"card-body\">\n",
              " <img alt=\"\" class=\"card-img\" data-src=\"/static/img/news/nbc.jpg\" src=\"data:image/png;base64,R0lGODlhAQABAAD/ACwAAAAAAQABAAACADs=\"/>\n",
              " <p class=\"card-text\">Kenyan school is producing next generation of engineers</p>\n",
              " </div>\n",
              " </a>\n",
              " </div>, <div class=\"card-body\">\n",
              " <img alt=\"\" class=\"card-img\" data-src=\"/static/img/news/nbc.jpg\" src=\"data:image/png;base64,R0lGODlhAQABAAD/ACwAAAAAAQABAAACADs=\"/>\n",
              " <p class=\"card-text\">Kenyan school is producing next generation of engineers</p>\n",
              " </div>, <div class=\"news\">\n",
              " <a href=\"http://disrupt-africa.com/2017/11/student-finance-africa-launches-in-kenya-with-fsd-support/\">\n",
              " <div class=\"card-body\">\n",
              " <img alt=\"\" class=\"card-img\" data-src=\"/static/img/news/5.jpg\" src=\"data:image/png;base64,R0lGODlhAQABAAD/ACwAAAAAAQABAAACADs=\"/>\n",
              " <p class=\"card-text\">Alternative-lending startup Student Finance Africa (SFA) is providing\n",
              "                                 educational loans to\n",
              "                                 Moringa School in Nairobi.</p>\n",
              " </div>\n",
              " </a>\n",
              " </div>, <div class=\"card-body\">\n",
              " <img alt=\"\" class=\"card-img\" data-src=\"/static/img/news/5.jpg\" src=\"data:image/png;base64,R0lGODlhAQABAAD/ACwAAAAAAQABAAACADs=\"/>\n",
              " <p class=\"card-text\">Alternative-lending startup Student Finance Africa (SFA) is providing\n",
              "                                 educational loans to\n",
              "                                 Moringa School in Nairobi.</p>\n",
              " </div>, <div class=\"news\">\n",
              " <a href=\"https://findingimpact.com/fip-043-bootstrapping-with-audrey-cheng/\">\n",
              " <div class=\"card-body\">\n",
              " <img alt=\"\" class=\"card-img\" data-src=\"/static/img/news/8.jpg\" src=\"data:image/png;base64,R0lGODlhAQABAAD/ACwAAAAAAQABAAACADs=\"/>\n",
              " <p class=\"card-text\">Bootstrap your business without sacrificing results or deviating from\n",
              "                                 you mission along the way.</p>\n",
              " </div>\n",
              " </a>\n",
              " </div>, <div class=\"card-body\">\n",
              " <img alt=\"\" class=\"card-img\" data-src=\"/static/img/news/8.jpg\" src=\"data:image/png;base64,R0lGODlhAQABAAD/ACwAAAAAAQABAAACADs=\"/>\n",
              " <p class=\"card-text\">Bootstrap your business without sacrificing results or deviating from\n",
              "                                 you mission along the way.</p>\n",
              " </div>, <div class=\"news\">\n",
              " <a href=\"https://www.modernghana.com/news/820470/moringa-school-partners-with-mest-to-bring-technology-course.html\">\n",
              " <div class=\"card-body\">\n",
              " <img alt=\"\" class=\"card-img\" data-src=\"/static/img/news/9.jpg\" src=\"data:image/png;base64,R0lGODlhAQABAAD/ACwAAAAAAQABAAACADs=\"/>\n",
              " <p class=\"card-text\">Moringa School Partners with MEST To Bring Technology Courses To\n",
              "                                 Talent Across Africa</p>\n",
              " </div>\n",
              " </a>\n",
              " </div>, <div class=\"card-body\">\n",
              " <img alt=\"\" class=\"card-img\" data-src=\"/static/img/news/9.jpg\" src=\"data:image/png;base64,R0lGODlhAQABAAD/ACwAAAAAAQABAAACADs=\"/>\n",
              " <p class=\"card-text\">Moringa School Partners with MEST To Bring Technology Courses To\n",
              "                                 Talent Across Africa</p>\n",
              " </div>, <div class=\"news\">\n",
              " <a href=\"https://www.howwemadeitinafrica.com/talent-shortage-prompts-entrepreneur-to-start-a-tech-school-in-kenya/\">\n",
              " <div class=\"card-body\">\n",
              " <img alt=\"\" class=\"card-img\" data-src=\"/static/img/news/1.jpg\" src=\"data:image/png;base64,R0lGODlhAQABAAD/ACwAAAAAAQABAAACADs=\"/>\n",
              " <p class=\"card-text\">Talent shortage prompts entrepreneur to start a tech school in\n",
              "                                 Kenya</p>\n",
              " </div>\n",
              " </a>\n",
              " </div>, <div class=\"card-body\">\n",
              " <img alt=\"\" class=\"card-img\" data-src=\"/static/img/news/1.jpg\" src=\"data:image/png;base64,R0lGODlhAQABAAD/ACwAAAAAAQABAAACADs=\"/>\n",
              " <p class=\"card-text\">Talent shortage prompts entrepreneur to start a tech school in\n",
              "                                 Kenya</p>\n",
              " </div>, <div class=\"news\">\n",
              " <a href=\"https://qz.com/india/1110205/in-pakistans-khyber-pakhtunkhwa-a-kenyan-startup-will-teach-thousands-of-young-people-to-code/\">\n",
              " <div class=\"card-body\">\n",
              " <img alt=\"\" class=\"card-img\" data-src=\"/static/img/news/10.jpg\" src=\"data:image/png;base64,R0lGODlhAQABAAD/ACwAAAAAAQABAAACADs=\"/>\n",
              " <p class=\"card-text\">In a restive corner of Pakistan, a Kenyan startup will teach\n",
              "                                 thousands of young people to code.</p>\n",
              " </div>\n",
              " </a>\n",
              " </div>, <div class=\"card-body\">\n",
              " <img alt=\"\" class=\"card-img\" data-src=\"/static/img/news/10.jpg\" src=\"data:image/png;base64,R0lGODlhAQABAAD/ACwAAAAAAQABAAACADs=\"/>\n",
              " <p class=\"card-text\">In a restive corner of Pakistan, a Kenyan startup will teach\n",
              "                                 thousands of young people to code.</p>\n",
              " </div>, <div class=\"text-center py-4 bg-light\" id=\"social-community\">\n",
              " <div class=\"footer-container container\">\n",
              " <div class=\"row\">\n",
              " <div class=\"col-md-3 d-none d-md-block images-zig\">\n",
              " <span class=\"img-one\"><img alt=\"\" src=\"/static/img/footer/django.jpg\"/></span>\n",
              " <span class=\"img-two\"><img alt=\"\" src=\"/static/img/footer/python.jpg\"/></span>\n",
              " <span class=\"img-three\"><img alt=\"\" src=\"/static/img/footer/flask.jpg\"/></span>\n",
              " <span class=\"img-four\"><img alt=\"\" src=\"/static/img/footer/angular.svg\"/></span>\n",
              " </div>\n",
              " <div class=\"col-md-6 col-12\">\n",
              " <h1 class=\"heading\">Join the Community!</h1>\n",
              " <p class=\"paragraph\">We are dedicated to providing good coding practices and\n",
              "                     <br/>\n",
              "                     we would like you to be part of the community</p>\n",
              " <div class=\"enroll-button text-center\">\n",
              " <a href=\"/programs/\">\n",
              " <button class=\"btn btn-xl bg-green\">Enroll Now!</button>\n",
              " </a>\n",
              " </div>\n",
              " </div>\n",
              " <div class=\"col-md-3 d-none d-md-block images-zig\">\n",
              " <span class=\"img-one\"><img alt=\"\" src=\"/static/img/footer/java.jpg\"/></span>\n",
              " <span class=\"img-two\"><img alt=\"\" src=\"/static/img/footer/spark.svg\"/></span>\n",
              " <span class=\"img-three\"><img alt=\"\" src=\"/static/img/footer/android.jpg\"/></span>\n",
              " <span class=\"img-four\"><img alt=\"\" src=\"/static/img/footer/javascript.jpg\"/></span>\n",
              " </div>\n",
              " </div>\n",
              " </div>\n",
              " </div>, <div class=\"footer-container container\">\n",
              " <div class=\"row\">\n",
              " <div class=\"col-md-3 d-none d-md-block images-zig\">\n",
              " <span class=\"img-one\"><img alt=\"\" src=\"/static/img/footer/django.jpg\"/></span>\n",
              " <span class=\"img-two\"><img alt=\"\" src=\"/static/img/footer/python.jpg\"/></span>\n",
              " <span class=\"img-three\"><img alt=\"\" src=\"/static/img/footer/flask.jpg\"/></span>\n",
              " <span class=\"img-four\"><img alt=\"\" src=\"/static/img/footer/angular.svg\"/></span>\n",
              " </div>\n",
              " <div class=\"col-md-6 col-12\">\n",
              " <h1 class=\"heading\">Join the Community!</h1>\n",
              " <p class=\"paragraph\">We are dedicated to providing good coding practices and\n",
              "                     <br/>\n",
              "                     we would like you to be part of the community</p>\n",
              " <div class=\"enroll-button text-center\">\n",
              " <a href=\"/programs/\">\n",
              " <button class=\"btn btn-xl bg-green\">Enroll Now!</button>\n",
              " </a>\n",
              " </div>\n",
              " </div>\n",
              " <div class=\"col-md-3 d-none d-md-block images-zig\">\n",
              " <span class=\"img-one\"><img alt=\"\" src=\"/static/img/footer/java.jpg\"/></span>\n",
              " <span class=\"img-two\"><img alt=\"\" src=\"/static/img/footer/spark.svg\"/></span>\n",
              " <span class=\"img-three\"><img alt=\"\" src=\"/static/img/footer/android.jpg\"/></span>\n",
              " <span class=\"img-four\"><img alt=\"\" src=\"/static/img/footer/javascript.jpg\"/></span>\n",
              " </div>\n",
              " </div>\n",
              " </div>, <div class=\"row\">\n",
              " <div class=\"col-md-3 d-none d-md-block images-zig\">\n",
              " <span class=\"img-one\"><img alt=\"\" src=\"/static/img/footer/django.jpg\"/></span>\n",
              " <span class=\"img-two\"><img alt=\"\" src=\"/static/img/footer/python.jpg\"/></span>\n",
              " <span class=\"img-three\"><img alt=\"\" src=\"/static/img/footer/flask.jpg\"/></span>\n",
              " <span class=\"img-four\"><img alt=\"\" src=\"/static/img/footer/angular.svg\"/></span>\n",
              " </div>\n",
              " <div class=\"col-md-6 col-12\">\n",
              " <h1 class=\"heading\">Join the Community!</h1>\n",
              " <p class=\"paragraph\">We are dedicated to providing good coding practices and\n",
              "                     <br/>\n",
              "                     we would like you to be part of the community</p>\n",
              " <div class=\"enroll-button text-center\">\n",
              " <a href=\"/programs/\">\n",
              " <button class=\"btn btn-xl bg-green\">Enroll Now!</button>\n",
              " </a>\n",
              " </div>\n",
              " </div>\n",
              " <div class=\"col-md-3 d-none d-md-block images-zig\">\n",
              " <span class=\"img-one\"><img alt=\"\" src=\"/static/img/footer/java.jpg\"/></span>\n",
              " <span class=\"img-two\"><img alt=\"\" src=\"/static/img/footer/spark.svg\"/></span>\n",
              " <span class=\"img-three\"><img alt=\"\" src=\"/static/img/footer/android.jpg\"/></span>\n",
              " <span class=\"img-four\"><img alt=\"\" src=\"/static/img/footer/javascript.jpg\"/></span>\n",
              " </div>\n",
              " </div>, <div class=\"col-md-3 d-none d-md-block images-zig\">\n",
              " <span class=\"img-one\"><img alt=\"\" src=\"/static/img/footer/django.jpg\"/></span>\n",
              " <span class=\"img-two\"><img alt=\"\" src=\"/static/img/footer/python.jpg\"/></span>\n",
              " <span class=\"img-three\"><img alt=\"\" src=\"/static/img/footer/flask.jpg\"/></span>\n",
              " <span class=\"img-four\"><img alt=\"\" src=\"/static/img/footer/angular.svg\"/></span>\n",
              " </div>, <div class=\"col-md-6 col-12\">\n",
              " <h1 class=\"heading\">Join the Community!</h1>\n",
              " <p class=\"paragraph\">We are dedicated to providing good coding practices and\n",
              "                     <br/>\n",
              "                     we would like you to be part of the community</p>\n",
              " <div class=\"enroll-button text-center\">\n",
              " <a href=\"/programs/\">\n",
              " <button class=\"btn btn-xl bg-green\">Enroll Now!</button>\n",
              " </a>\n",
              " </div>\n",
              " </div>, <div class=\"enroll-button text-center\">\n",
              " <a href=\"/programs/\">\n",
              " <button class=\"btn btn-xl bg-green\">Enroll Now!</button>\n",
              " </a>\n",
              " </div>, <div class=\"col-md-3 d-none d-md-block images-zig\">\n",
              " <span class=\"img-one\"><img alt=\"\" src=\"/static/img/footer/java.jpg\"/></span>\n",
              " <span class=\"img-two\"><img alt=\"\" src=\"/static/img/footer/spark.svg\"/></span>\n",
              " <span class=\"img-three\"><img alt=\"\" src=\"/static/img/footer/android.jpg\"/></span>\n",
              " <span class=\"img-four\"><img alt=\"\" src=\"/static/img/footer/javascript.jpg\"/></span>\n",
              " </div>, <div class=\"container\">\n",
              " <div class=\"row\">\n",
              " <div class=\"col-12 col-sm-6 col-lg-3 py-2\">\n",
              " <div>\n",
              " <a href=\"https://www.youtube.com/channel/UCnkYPrm1GvxDzGlT0S2zn4w/videos\" target=\"_blank\">\n",
              " <i class=\"fab fa-youtube\"></i>\n",
              "                         Watch us on YouTube\n",
              "                     </a>\n",
              " </div>\n",
              " </div>\n",
              " <div class=\"col-12 col-sm-6 col-lg-3 py-2\">\n",
              " <div>\n",
              " <a href=\"https://www.linkedin.com/company/moringa-school\" target=\"_blank\">\n",
              " <i class=\"fab fa-linkedin\"></i>\n",
              "                         Engage us on LinkedIn\n",
              "                     </a>\n",
              " </div>\n",
              " </div>\n",
              " <div class=\"col-12 col-sm-6 col-lg-3 py-2\">\n",
              " <div>\n",
              " <a href=\"https://twitter.com/moringaschool\" target=\"_blank\">\n",
              " <i class=\"fab fa-twitter\"></i>\n",
              "                         Follow us on Twitter\n",
              "                     </a>\n",
              " </div>\n",
              " </div>\n",
              " <div class=\"col-12 col-sm-6 col-lg-3 py-2\">\n",
              " <div>\n",
              " <a href=\"https://www.facebook.com/moringaschool/\" target=\"_blank\">\n",
              " <i class=\"fab fa-facebook\"></i>\n",
              "                         Find us on Facebook\n",
              "                     </a>\n",
              " </div>\n",
              " </div>\n",
              " </div>\n",
              " </div>, <div class=\"row\">\n",
              " <div class=\"col-12 col-sm-6 col-lg-3 py-2\">\n",
              " <div>\n",
              " <a href=\"https://www.youtube.com/channel/UCnkYPrm1GvxDzGlT0S2zn4w/videos\" target=\"_blank\">\n",
              " <i class=\"fab fa-youtube\"></i>\n",
              "                         Watch us on YouTube\n",
              "                     </a>\n",
              " </div>\n",
              " </div>\n",
              " <div class=\"col-12 col-sm-6 col-lg-3 py-2\">\n",
              " <div>\n",
              " <a href=\"https://www.linkedin.com/company/moringa-school\" target=\"_blank\">\n",
              " <i class=\"fab fa-linkedin\"></i>\n",
              "                         Engage us on LinkedIn\n",
              "                     </a>\n",
              " </div>\n",
              " </div>\n",
              " <div class=\"col-12 col-sm-6 col-lg-3 py-2\">\n",
              " <div>\n",
              " <a href=\"https://twitter.com/moringaschool\" target=\"_blank\">\n",
              " <i class=\"fab fa-twitter\"></i>\n",
              "                         Follow us on Twitter\n",
              "                     </a>\n",
              " </div>\n",
              " </div>\n",
              " <div class=\"col-12 col-sm-6 col-lg-3 py-2\">\n",
              " <div>\n",
              " <a href=\"https://www.facebook.com/moringaschool/\" target=\"_blank\">\n",
              " <i class=\"fab fa-facebook\"></i>\n",
              "                         Find us on Facebook\n",
              "                     </a>\n",
              " </div>\n",
              " </div>\n",
              " </div>, <div class=\"col-12 col-sm-6 col-lg-3 py-2\">\n",
              " <div>\n",
              " <a href=\"https://www.youtube.com/channel/UCnkYPrm1GvxDzGlT0S2zn4w/videos\" target=\"_blank\">\n",
              " <i class=\"fab fa-youtube\"></i>\n",
              "                         Watch us on YouTube\n",
              "                     </a>\n",
              " </div>\n",
              " </div>, <div>\n",
              " <a href=\"https://www.youtube.com/channel/UCnkYPrm1GvxDzGlT0S2zn4w/videos\" target=\"_blank\">\n",
              " <i class=\"fab fa-youtube\"></i>\n",
              "                         Watch us on YouTube\n",
              "                     </a>\n",
              " </div>, <div class=\"col-12 col-sm-6 col-lg-3 py-2\">\n",
              " <div>\n",
              " <a href=\"https://www.linkedin.com/company/moringa-school\" target=\"_blank\">\n",
              " <i class=\"fab fa-linkedin\"></i>\n",
              "                         Engage us on LinkedIn\n",
              "                     </a>\n",
              " </div>\n",
              " </div>, <div>\n",
              " <a href=\"https://www.linkedin.com/company/moringa-school\" target=\"_blank\">\n",
              " <i class=\"fab fa-linkedin\"></i>\n",
              "                         Engage us on LinkedIn\n",
              "                     </a>\n",
              " </div>, <div class=\"col-12 col-sm-6 col-lg-3 py-2\">\n",
              " <div>\n",
              " <a href=\"https://twitter.com/moringaschool\" target=\"_blank\">\n",
              " <i class=\"fab fa-twitter\"></i>\n",
              "                         Follow us on Twitter\n",
              "                     </a>\n",
              " </div>\n",
              " </div>, <div>\n",
              " <a href=\"https://twitter.com/moringaschool\" target=\"_blank\">\n",
              " <i class=\"fab fa-twitter\"></i>\n",
              "                         Follow us on Twitter\n",
              "                     </a>\n",
              " </div>, <div class=\"col-12 col-sm-6 col-lg-3 py-2\">\n",
              " <div>\n",
              " <a href=\"https://www.facebook.com/moringaschool/\" target=\"_blank\">\n",
              " <i class=\"fab fa-facebook\"></i>\n",
              "                         Find us on Facebook\n",
              "                     </a>\n",
              " </div>\n",
              " </div>, <div>\n",
              " <a href=\"https://www.facebook.com/moringaschool/\" target=\"_blank\">\n",
              " <i class=\"fab fa-facebook\"></i>\n",
              "                         Find us on Facebook\n",
              "                     </a>\n",
              " </div>, <div class=\"container-fluid\">\n",
              " <div class=\"footer_nav\">\n",
              " <div class=\"row\">\n",
              " <div class=\"col-md-4\">\n",
              " <p><a href=\"tel:+254711581484\"><b>General Enquiries:</b> +254 711 581 484</a></p>\n",
              " <p><a href=\"https://wa.me/254712293878\"><b>WhatsApp Enquiries:</b> <i class=\"fab fa-whatsapp\"></i> +254 711 581 484</a></p>\n",
              " <p><b>Email:</b> contact@moringaschool.com</p>\n",
              " <p><b>Admissions Enquiries:</b> +254 712 293 878</p>\n",
              " <p><b>Data Science Enquiries:</b> +254 741 493 565</p>\n",
              " <p><b>Address:</b> P.O.Box 28860-00100</p>\n",
              " <p><b>Location:</b> Ngong Lane Plaza, Ngong Lane. Nairobi</p>\n",
              " </div>\n",
              " <div class=\"col-md-4\">\n",
              " <p class=\"p-heading\"><a href=\"/programs/\">Programs</a></p>\n",
              " <p><a href=\"/programs/software-development/\">Software Development</a></p>\n",
              " <p><a href=\"/programs/data-science-course/\">Data Science</a></p>\n",
              " </div>\n",
              " <div class=\"col-md-4\">\n",
              " <!-- <p><a href=/careers>Careers</a></p> -->\n",
              " <p><a href=\"/learning-model/\">Learning Model</a></p>\n",
              " <p><a href=\"/about-us/\">About Us</a></p>\n",
              " <p><a href=\"/outcomes/\">Outcomes</a></p>\n",
              " <p><a href=\"/events/\">Events</a></p>\n",
              " </div>\n",
              " </div>\n",
              " </div>\n",
              " </div>, <div class=\"footer_nav\">\n",
              " <div class=\"row\">\n",
              " <div class=\"col-md-4\">\n",
              " <p><a href=\"tel:+254711581484\"><b>General Enquiries:</b> +254 711 581 484</a></p>\n",
              " <p><a href=\"https://wa.me/254712293878\"><b>WhatsApp Enquiries:</b> <i class=\"fab fa-whatsapp\"></i> +254 711 581 484</a></p>\n",
              " <p><b>Email:</b> contact@moringaschool.com</p>\n",
              " <p><b>Admissions Enquiries:</b> +254 712 293 878</p>\n",
              " <p><b>Data Science Enquiries:</b> +254 741 493 565</p>\n",
              " <p><b>Address:</b> P.O.Box 28860-00100</p>\n",
              " <p><b>Location:</b> Ngong Lane Plaza, Ngong Lane. Nairobi</p>\n",
              " </div>\n",
              " <div class=\"col-md-4\">\n",
              " <p class=\"p-heading\"><a href=\"/programs/\">Programs</a></p>\n",
              " <p><a href=\"/programs/software-development/\">Software Development</a></p>\n",
              " <p><a href=\"/programs/data-science-course/\">Data Science</a></p>\n",
              " </div>\n",
              " <div class=\"col-md-4\">\n",
              " <!-- <p><a href=/careers>Careers</a></p> -->\n",
              " <p><a href=\"/learning-model/\">Learning Model</a></p>\n",
              " <p><a href=\"/about-us/\">About Us</a></p>\n",
              " <p><a href=\"/outcomes/\">Outcomes</a></p>\n",
              " <p><a href=\"/events/\">Events</a></p>\n",
              " </div>\n",
              " </div>\n",
              " </div>, <div class=\"row\">\n",
              " <div class=\"col-md-4\">\n",
              " <p><a href=\"tel:+254711581484\"><b>General Enquiries:</b> +254 711 581 484</a></p>\n",
              " <p><a href=\"https://wa.me/254712293878\"><b>WhatsApp Enquiries:</b> <i class=\"fab fa-whatsapp\"></i> +254 711 581 484</a></p>\n",
              " <p><b>Email:</b> contact@moringaschool.com</p>\n",
              " <p><b>Admissions Enquiries:</b> +254 712 293 878</p>\n",
              " <p><b>Data Science Enquiries:</b> +254 741 493 565</p>\n",
              " <p><b>Address:</b> P.O.Box 28860-00100</p>\n",
              " <p><b>Location:</b> Ngong Lane Plaza, Ngong Lane. Nairobi</p>\n",
              " </div>\n",
              " <div class=\"col-md-4\">\n",
              " <p class=\"p-heading\"><a href=\"/programs/\">Programs</a></p>\n",
              " <p><a href=\"/programs/software-development/\">Software Development</a></p>\n",
              " <p><a href=\"/programs/data-science-course/\">Data Science</a></p>\n",
              " </div>\n",
              " <div class=\"col-md-4\">\n",
              " <!-- <p><a href=/careers>Careers</a></p> -->\n",
              " <p><a href=\"/learning-model/\">Learning Model</a></p>\n",
              " <p><a href=\"/about-us/\">About Us</a></p>\n",
              " <p><a href=\"/outcomes/\">Outcomes</a></p>\n",
              " <p><a href=\"/events/\">Events</a></p>\n",
              " </div>\n",
              " </div>, <div class=\"col-md-4\">\n",
              " <p><a href=\"tel:+254711581484\"><b>General Enquiries:</b> +254 711 581 484</a></p>\n",
              " <p><a href=\"https://wa.me/254712293878\"><b>WhatsApp Enquiries:</b> <i class=\"fab fa-whatsapp\"></i> +254 711 581 484</a></p>\n",
              " <p><b>Email:</b> contact@moringaschool.com</p>\n",
              " <p><b>Admissions Enquiries:</b> +254 712 293 878</p>\n",
              " <p><b>Data Science Enquiries:</b> +254 741 493 565</p>\n",
              " <p><b>Address:</b> P.O.Box 28860-00100</p>\n",
              " <p><b>Location:</b> Ngong Lane Plaza, Ngong Lane. Nairobi</p>\n",
              " </div>, <div class=\"col-md-4\">\n",
              " <p class=\"p-heading\"><a href=\"/programs/\">Programs</a></p>\n",
              " <p><a href=\"/programs/software-development/\">Software Development</a></p>\n",
              " <p><a href=\"/programs/data-science-course/\">Data Science</a></p>\n",
              " </div>, <div class=\"col-md-4\">\n",
              " <!-- <p><a href=/careers>Careers</a></p> -->\n",
              " <p><a href=\"/learning-model/\">Learning Model</a></p>\n",
              " <p><a href=\"/about-us/\">About Us</a></p>\n",
              " <p><a href=\"/outcomes/\">Outcomes</a></p>\n",
              " <p><a href=\"/events/\">Events</a></p>\n",
              " </div>]"
            ]
          },
          "metadata": {
            "tags": []
          },
          "execution_count": 83
        }
      ]
    },
    {
      "cell_type": "code",
      "metadata": {
        "id": "7tYSWcvToF0u",
        "colab_type": "code",
        "colab": {},
        "outputId": "ffef5256-1f6c-4832-fa0f-2e6473195a19"
      },
      "source": [
        "div_notes[0].find('a')"
      ],
      "execution_count": 0,
      "outputs": [
        {
          "output_type": "execute_result",
          "data": {
            "text/plain": [
              "<a class=\"\" data-toggle=\"dropdown\" href=\"#\">Programs <i class=\"fa fa-chevron-down\"></i></a>"
            ]
          },
          "metadata": {
            "tags": []
          },
          "execution_count": 84
        }
      ]
    },
    {
      "cell_type": "code",
      "metadata": {
        "id": "iI9Ljb3aoF0w",
        "colab_type": "code",
        "colab": {},
        "outputId": "f6767ed8-b98b-4b53-c253-1bf4c80d249f"
      },
      "source": [
        "div_links=[div.find('a') for div in div_notes]\n",
        "div_links"
      ],
      "execution_count": 0,
      "outputs": [
        {
          "output_type": "execute_result",
          "data": {
            "text/plain": [
              "[<a class=\"\" data-toggle=\"dropdown\" href=\"#\">Programs <i class=\"fa fa-chevron-down\"></i></a>,\n",
              " <a class=\"home_course_link\" href=\"/programs/\">\n",
              " <button class=\"btn btn-xl apply\">Browse Courses</button>\n",
              " </a>,\n",
              " None,\n",
              " None,\n",
              " None,\n",
              " <a class=\"moringa-learn-more blue\" href=\"/events\">Learn More<i class=\"fa fa-long-arrow-right\"></i> </a>,\n",
              " <a class=\"moringa-learn-more blue\" href=\"/events\">Learn More<i class=\"fa fa-long-arrow-right\"></i> </a>,\n",
              " <a class=\"moringa-learn-more blue\" href=\"/events\">Learn More<i class=\"fa fa-long-arrow-right\"></i> </a>,\n",
              " <a class=\"moringa-learn-more blue\" href=\"/events\">Learn More<i class=\"fa fa-long-arrow-right\"></i> </a>,\n",
              " None,\n",
              " None,\n",
              " None,\n",
              " None,\n",
              " <a href=\"https://youtu.be/tTvwX-NRGrw\" rel=\"noreferrer noopener\" target=\"_blank\">\n",
              " <i class=\"fa fa-play-circle\"></i>\n",
              " </a>,\n",
              " <a href=\"https://youtu.be/tTvwX-NRGrw\" rel=\"noreferrer noopener\" target=\"_blank\">\n",
              " <i class=\"fa fa-play-circle\"></i>\n",
              " </a>,\n",
              " <a href=\"https://youtu.be/tTvwX-NRGrw\" rel=\"noreferrer noopener\" target=\"_blank\">\n",
              " <i class=\"fa fa-play-circle\"></i>\n",
              " </a>,\n",
              " <a href=\"https://youtu.be/tTvwX-NRGrw\" rel=\"noreferrer noopener\" target=\"_blank\">\n",
              " <i class=\"fa fa-play-circle\"></i>\n",
              " </a>,\n",
              " <a href=\"https://youtu.be/tTvwX-NRGrw\" rel=\"noreferrer noopener\" target=\"_blank\">\n",
              " <i class=\"fa fa-play-circle\"></i>\n",
              " </a>,\n",
              " <a href=\"https://youtu.be/tTvwX-NRGrw\" rel=\"noreferrer noopener\" target=\"_blank\">\n",
              " <i class=\"fa fa-play-circle\"></i>\n",
              " </a>,\n",
              " None,\n",
              " <a href=\"https://youtu.be/KalL9nm8IlA\" rel=\"noreferrer noopener\" target=\"_blank\"><i class=\"fa fa-play-circle\"></i></a>,\n",
              " <a href=\"https://youtu.be/KalL9nm8IlA\" rel=\"noreferrer noopener\" target=\"_blank\"><i class=\"fa fa-play-circle\"></i></a>,\n",
              " <a href=\"https://youtu.be/KalL9nm8IlA\" rel=\"noreferrer noopener\" target=\"_blank\"><i class=\"fa fa-play-circle\"></i></a>,\n",
              " <a href=\"https://youtu.be/KalL9nm8IlA\" rel=\"noreferrer noopener\" target=\"_blank\"><i class=\"fa fa-play-circle\"></i></a>,\n",
              " None,\n",
              " <a href=\"https://youtu.be/QMaoM54tu20\" rel=\"noreferrer noopener\" target=\"_blank\"><i class=\"fa fa-play-circle\"></i></a>,\n",
              " <a href=\"https://youtu.be/QMaoM54tu20\" rel=\"noreferrer noopener\" target=\"_blank\"><i class=\"fa fa-play-circle\"></i></a>,\n",
              " <a href=\"https://youtu.be/QMaoM54tu20\" rel=\"noreferrer noopener\" target=\"_blank\"><i class=\"fa fa-play-circle\"></i></a>,\n",
              " <a href=\"https://youtu.be/QMaoM54tu20\" rel=\"noreferrer noopener\" target=\"_blank\"><i class=\"fa fa-play-circle\"></i></a>,\n",
              " None,\n",
              " <a href=\"https://www.youtube.com/playlist?list=PLSEr6vQWk10F-n5x6ps-TJgOWObECLwfO\" target=\"_blank\">\n",
              " <button class=\"btn btn-xl bg-green\">View Our Alumni</button>\n",
              " </a>,\n",
              " <a href=\"https://www.youtube.com/playlist?list=PLSEr6vQWk10F-n5x6ps-TJgOWObECLwfO\" target=\"_blank\">\n",
              " <button class=\"btn btn-xl bg-green\">View Our Alumni</button>\n",
              " </a>,\n",
              " <a href=\"https://www.youtube.com/playlist?list=PLSEr6vQWk10F-n5x6ps-TJgOWObECLwfO\" target=\"_blank\">\n",
              " <button class=\"btn btn-xl bg-green\">View Our Alumni</button>\n",
              " </a>,\n",
              " None,\n",
              " None,\n",
              " None,\n",
              " <a href=\"https://www.huffingtonpost.com/entry/59fb2448e4b09887ad6f3df0\" target=\"_blank\">\n",
              " <div class=\"card-body\">\n",
              " <img alt=\"\" class=\"card-img\" data-src=\"/static/img/news/huffpost.jpg\" src=\"data:image/png;base64,R0lGODlhAQABAAD/ACwAAAAAAQABAAACADs=\"/>\n",
              " <p class=\"card-text\">How Automation in Africa Will Affect the Skills Needs of Employers</p>\n",
              " </div>\n",
              " </a>,\n",
              " <a href=\"https://www.huffingtonpost.com/entry/59fb2448e4b09887ad6f3df0\" target=\"_blank\">\n",
              " <div class=\"card-body\">\n",
              " <img alt=\"\" class=\"card-img\" data-src=\"/static/img/news/huffpost.jpg\" src=\"data:image/png;base64,R0lGODlhAQABAAD/ACwAAAAAAQABAAACADs=\"/>\n",
              " <p class=\"card-text\">How Automation in Africa Will Affect the Skills Needs of Employers</p>\n",
              " </div>\n",
              " </a>,\n",
              " <a href=\"https://www.huffingtonpost.com/entry/59fb2448e4b09887ad6f3df0\" target=\"_blank\">\n",
              " <div class=\"card-body\">\n",
              " <img alt=\"\" class=\"card-img\" data-src=\"/static/img/news/huffpost.jpg\" src=\"data:image/png;base64,R0lGODlhAQABAAD/ACwAAAAAAQABAAACADs=\"/>\n",
              " <p class=\"card-text\">How Automation in Africa Will Affect the Skills Needs of Employers</p>\n",
              " </div>\n",
              " </a>,\n",
              " None,\n",
              " <a href=\"https://www.nbcnews.com/news/nbcblk/kenyan-school-producing-next-generation-engineers-n822366\">\n",
              " <div class=\"card-body\">\n",
              " <img alt=\"\" class=\"card-img\" data-src=\"/static/img/news/nbc.jpg\" src=\"data:image/png;base64,R0lGODlhAQABAAD/ACwAAAAAAQABAAACADs=\"/>\n",
              " <p class=\"card-text\">Kenyan school is producing next generation of engineers</p>\n",
              " </div>\n",
              " </a>,\n",
              " None,\n",
              " <a href=\"http://disrupt-africa.com/2017/11/student-finance-africa-launches-in-kenya-with-fsd-support/\">\n",
              " <div class=\"card-body\">\n",
              " <img alt=\"\" class=\"card-img\" data-src=\"/static/img/news/5.jpg\" src=\"data:image/png;base64,R0lGODlhAQABAAD/ACwAAAAAAQABAAACADs=\"/>\n",
              " <p class=\"card-text\">Alternative-lending startup Student Finance Africa (SFA) is providing\n",
              "                                 educational loans to\n",
              "                                 Moringa School in Nairobi.</p>\n",
              " </div>\n",
              " </a>,\n",
              " None,\n",
              " <a href=\"https://findingimpact.com/fip-043-bootstrapping-with-audrey-cheng/\">\n",
              " <div class=\"card-body\">\n",
              " <img alt=\"\" class=\"card-img\" data-src=\"/static/img/news/8.jpg\" src=\"data:image/png;base64,R0lGODlhAQABAAD/ACwAAAAAAQABAAACADs=\"/>\n",
              " <p class=\"card-text\">Bootstrap your business without sacrificing results or deviating from\n",
              "                                 you mission along the way.</p>\n",
              " </div>\n",
              " </a>,\n",
              " None,\n",
              " <a href=\"https://www.modernghana.com/news/820470/moringa-school-partners-with-mest-to-bring-technology-course.html\">\n",
              " <div class=\"card-body\">\n",
              " <img alt=\"\" class=\"card-img\" data-src=\"/static/img/news/9.jpg\" src=\"data:image/png;base64,R0lGODlhAQABAAD/ACwAAAAAAQABAAACADs=\"/>\n",
              " <p class=\"card-text\">Moringa School Partners with MEST To Bring Technology Courses To\n",
              "                                 Talent Across Africa</p>\n",
              " </div>\n",
              " </a>,\n",
              " None,\n",
              " <a href=\"https://www.howwemadeitinafrica.com/talent-shortage-prompts-entrepreneur-to-start-a-tech-school-in-kenya/\">\n",
              " <div class=\"card-body\">\n",
              " <img alt=\"\" class=\"card-img\" data-src=\"/static/img/news/1.jpg\" src=\"data:image/png;base64,R0lGODlhAQABAAD/ACwAAAAAAQABAAACADs=\"/>\n",
              " <p class=\"card-text\">Talent shortage prompts entrepreneur to start a tech school in\n",
              "                                 Kenya</p>\n",
              " </div>\n",
              " </a>,\n",
              " None,\n",
              " <a href=\"https://qz.com/india/1110205/in-pakistans-khyber-pakhtunkhwa-a-kenyan-startup-will-teach-thousands-of-young-people-to-code/\">\n",
              " <div class=\"card-body\">\n",
              " <img alt=\"\" class=\"card-img\" data-src=\"/static/img/news/10.jpg\" src=\"data:image/png;base64,R0lGODlhAQABAAD/ACwAAAAAAQABAAACADs=\"/>\n",
              " <p class=\"card-text\">In a restive corner of Pakistan, a Kenyan startup will teach\n",
              "                                 thousands of young people to code.</p>\n",
              " </div>\n",
              " </a>,\n",
              " None,\n",
              " <a href=\"/programs/\">\n",
              " <button class=\"btn btn-xl bg-green\">Enroll Now!</button>\n",
              " </a>,\n",
              " <a href=\"/programs/\">\n",
              " <button class=\"btn btn-xl bg-green\">Enroll Now!</button>\n",
              " </a>,\n",
              " <a href=\"/programs/\">\n",
              " <button class=\"btn btn-xl bg-green\">Enroll Now!</button>\n",
              " </a>,\n",
              " None,\n",
              " <a href=\"/programs/\">\n",
              " <button class=\"btn btn-xl bg-green\">Enroll Now!</button>\n",
              " </a>,\n",
              " <a href=\"/programs/\">\n",
              " <button class=\"btn btn-xl bg-green\">Enroll Now!</button>\n",
              " </a>,\n",
              " None,\n",
              " <a href=\"https://www.youtube.com/channel/UCnkYPrm1GvxDzGlT0S2zn4w/videos\" target=\"_blank\">\n",
              " <i class=\"fab fa-youtube\"></i>\n",
              "                         Watch us on YouTube\n",
              "                     </a>,\n",
              " <a href=\"https://www.youtube.com/channel/UCnkYPrm1GvxDzGlT0S2zn4w/videos\" target=\"_blank\">\n",
              " <i class=\"fab fa-youtube\"></i>\n",
              "                         Watch us on YouTube\n",
              "                     </a>,\n",
              " <a href=\"https://www.youtube.com/channel/UCnkYPrm1GvxDzGlT0S2zn4w/videos\" target=\"_blank\">\n",
              " <i class=\"fab fa-youtube\"></i>\n",
              "                         Watch us on YouTube\n",
              "                     </a>,\n",
              " <a href=\"https://www.youtube.com/channel/UCnkYPrm1GvxDzGlT0S2zn4w/videos\" target=\"_blank\">\n",
              " <i class=\"fab fa-youtube\"></i>\n",
              "                         Watch us on YouTube\n",
              "                     </a>,\n",
              " <a href=\"https://www.linkedin.com/company/moringa-school\" target=\"_blank\">\n",
              " <i class=\"fab fa-linkedin\"></i>\n",
              "                         Engage us on LinkedIn\n",
              "                     </a>,\n",
              " <a href=\"https://www.linkedin.com/company/moringa-school\" target=\"_blank\">\n",
              " <i class=\"fab fa-linkedin\"></i>\n",
              "                         Engage us on LinkedIn\n",
              "                     </a>,\n",
              " <a href=\"https://twitter.com/moringaschool\" target=\"_blank\">\n",
              " <i class=\"fab fa-twitter\"></i>\n",
              "                         Follow us on Twitter\n",
              "                     </a>,\n",
              " <a href=\"https://twitter.com/moringaschool\" target=\"_blank\">\n",
              " <i class=\"fab fa-twitter\"></i>\n",
              "                         Follow us on Twitter\n",
              "                     </a>,\n",
              " <a href=\"https://www.facebook.com/moringaschool/\" target=\"_blank\">\n",
              " <i class=\"fab fa-facebook\"></i>\n",
              "                         Find us on Facebook\n",
              "                     </a>,\n",
              " <a href=\"https://www.facebook.com/moringaschool/\" target=\"_blank\">\n",
              " <i class=\"fab fa-facebook\"></i>\n",
              "                         Find us on Facebook\n",
              "                     </a>,\n",
              " <a href=\"tel:+254711581484\"><b>General Enquiries:</b> +254 711 581 484</a>,\n",
              " <a href=\"tel:+254711581484\"><b>General Enquiries:</b> +254 711 581 484</a>,\n",
              " <a href=\"tel:+254711581484\"><b>General Enquiries:</b> +254 711 581 484</a>,\n",
              " <a href=\"tel:+254711581484\"><b>General Enquiries:</b> +254 711 581 484</a>,\n",
              " <a href=\"/programs/\">Programs</a>,\n",
              " <a href=\"/learning-model/\">Learning Model</a>]"
            ]
          },
          "metadata": {
            "tags": []
          },
          "execution_count": 85
        }
      ]
    },
    {
      "cell_type": "code",
      "metadata": {
        "id": "lbODo_vJoF0y",
        "colab_type": "code",
        "colab": {},
        "outputId": "537810e5-7e34-46f2-fe97-18b5a7532a90"
      },
      "source": [
        "len(div_links)"
      ],
      "execution_count": 0,
      "outputs": [
        {
          "output_type": "execute_result",
          "data": {
            "text/plain": [
              "75"
            ]
          },
          "metadata": {
            "tags": []
          },
          "execution_count": 86
        }
      ]
    },
    {
      "cell_type": "code",
      "metadata": {
        "id": "jG3F_vxFoF02",
        "colab_type": "code",
        "colab": {},
        "outputId": "be754112-dd1f-4d9d-80ca-e1dbc1ac5743"
      },
      "source": [
        "div_notes[7].find('a')"
      ],
      "execution_count": 0,
      "outputs": [
        {
          "output_type": "execute_result",
          "data": {
            "text/plain": [
              "<a class=\"moringa-learn-more blue\" href=\"/events\">Learn More<i class=\"fa fa-long-arrow-right\"></i> </a>"
            ]
          },
          "metadata": {
            "tags": []
          },
          "execution_count": 96
        }
      ]
    },
    {
      "cell_type": "code",
      "metadata": {
        "id": "i0st69HcoF05",
        "colab_type": "code",
        "colab": {}
      },
      "source": [
        "div_links=[]\n",
        "for div in div_notes:\n",
        "    anchors=div.find_all('a')\n",
        "    for a in anchors:   #or div_links.extend(anchors)\n",
        "        div_links.append(a)"
      ],
      "execution_count": 0,
      "outputs": []
    },
    {
      "cell_type": "code",
      "metadata": {
        "id": "AnQr6MCUoF0-",
        "colab_type": "code",
        "colab": {},
        "outputId": "daa32a1f-d5c3-4d89-cdbf-ad8a4b84a454"
      },
      "source": [
        "div_links"
      ],
      "execution_count": 0,
      "outputs": [
        {
          "output_type": "execute_result",
          "data": {
            "text/plain": [
              "[<a class=\"\" data-toggle=\"dropdown\" href=\"#\">Programs <i class=\"fa fa-chevron-down\"></i></a>,\n",
              " <a href=\"/programs/\">Programs</a>,\n",
              " <a href=\"/programs/software-development/\">Software Development</a>,\n",
              " <a href=\"/programs/data-science-course/\">Data Science</a>,\n",
              " <a href=\"/learning-model/\">Learning Model</a>,\n",
              " <a href=\"/about-us/\">About Us</a>,\n",
              " <a href=\"/outcomes/\">Outcomes</a>,\n",
              " <a href=\"/events/\">Events</a>,\n",
              " <a href=\"/careers\">Careers</a>,\n",
              " <a class=\"home_course_link\" href=\"/programs/\">\n",
              " <button class=\"btn btn-xl apply\">Browse Courses</button>\n",
              " </a>,\n",
              " <a class=\"moringa-learn-more blue\" href=\"/events\">Learn More<i class=\"fa fa-long-arrow-right\"></i> </a>,\n",
              " <a class=\"moringa-learn-more blue\" href=\"/events\">Learn More<i class=\"fa fa-long-arrow-right\"></i> </a>,\n",
              " <a class=\"moringa-learn-more blue\" href=\"/events\">Learn More<i class=\"fa fa-long-arrow-right\"></i> </a>,\n",
              " <a class=\"moringa-learn-more blue\" href=\"/events\">Learn More<i class=\"fa fa-long-arrow-right\"></i> </a>,\n",
              " <a href=\"https://youtu.be/tTvwX-NRGrw\" rel=\"noreferrer noopener\" target=\"_blank\">\n",
              " <i class=\"fa fa-play-circle\"></i>\n",
              " </a>,\n",
              " <a href=\"https://youtu.be/KalL9nm8IlA\" rel=\"noreferrer noopener\" target=\"_blank\"><i class=\"fa fa-play-circle\"></i></a>,\n",
              " <a href=\"https://youtu.be/QMaoM54tu20\" rel=\"noreferrer noopener\" target=\"_blank\"><i class=\"fa fa-play-circle\"></i></a>,\n",
              " <a href=\"https://youtu.be/tTvwX-NRGrw\" rel=\"noreferrer noopener\" target=\"_blank\">\n",
              " <i class=\"fa fa-play-circle\"></i>\n",
              " </a>,\n",
              " <a href=\"https://youtu.be/KalL9nm8IlA\" rel=\"noreferrer noopener\" target=\"_blank\"><i class=\"fa fa-play-circle\"></i></a>,\n",
              " <a href=\"https://youtu.be/QMaoM54tu20\" rel=\"noreferrer noopener\" target=\"_blank\"><i class=\"fa fa-play-circle\"></i></a>,\n",
              " <a href=\"https://youtu.be/tTvwX-NRGrw\" rel=\"noreferrer noopener\" target=\"_blank\">\n",
              " <i class=\"fa fa-play-circle\"></i>\n",
              " </a>,\n",
              " <a href=\"https://youtu.be/tTvwX-NRGrw\" rel=\"noreferrer noopener\" target=\"_blank\">\n",
              " <i class=\"fa fa-play-circle\"></i>\n",
              " </a>,\n",
              " <a href=\"https://youtu.be/tTvwX-NRGrw\" rel=\"noreferrer noopener\" target=\"_blank\">\n",
              " <i class=\"fa fa-play-circle\"></i>\n",
              " </a>,\n",
              " <a href=\"https://youtu.be/tTvwX-NRGrw\" rel=\"noreferrer noopener\" target=\"_blank\">\n",
              " <i class=\"fa fa-play-circle\"></i>\n",
              " </a>,\n",
              " <a href=\"https://youtu.be/KalL9nm8IlA\" rel=\"noreferrer noopener\" target=\"_blank\"><i class=\"fa fa-play-circle\"></i></a>,\n",
              " <a href=\"https://youtu.be/KalL9nm8IlA\" rel=\"noreferrer noopener\" target=\"_blank\"><i class=\"fa fa-play-circle\"></i></a>,\n",
              " <a href=\"https://youtu.be/KalL9nm8IlA\" rel=\"noreferrer noopener\" target=\"_blank\"><i class=\"fa fa-play-circle\"></i></a>,\n",
              " <a href=\"https://youtu.be/KalL9nm8IlA\" rel=\"noreferrer noopener\" target=\"_blank\"><i class=\"fa fa-play-circle\"></i></a>,\n",
              " <a href=\"https://youtu.be/QMaoM54tu20\" rel=\"noreferrer noopener\" target=\"_blank\"><i class=\"fa fa-play-circle\"></i></a>,\n",
              " <a href=\"https://youtu.be/QMaoM54tu20\" rel=\"noreferrer noopener\" target=\"_blank\"><i class=\"fa fa-play-circle\"></i></a>,\n",
              " <a href=\"https://youtu.be/QMaoM54tu20\" rel=\"noreferrer noopener\" target=\"_blank\"><i class=\"fa fa-play-circle\"></i></a>,\n",
              " <a href=\"https://youtu.be/QMaoM54tu20\" rel=\"noreferrer noopener\" target=\"_blank\"><i class=\"fa fa-play-circle\"></i></a>,\n",
              " <a href=\"https://www.youtube.com/playlist?list=PLSEr6vQWk10F-n5x6ps-TJgOWObECLwfO\" target=\"_blank\">\n",
              " <button class=\"btn btn-xl bg-green\">View Our Alumni</button>\n",
              " </a>,\n",
              " <a href=\"https://www.youtube.com/playlist?list=PLSEr6vQWk10F-n5x6ps-TJgOWObECLwfO\" target=\"_blank\">\n",
              " <button class=\"btn btn-xl bg-green\">View Our Alumni</button>\n",
              " </a>,\n",
              " <a href=\"https://www.youtube.com/playlist?list=PLSEr6vQWk10F-n5x6ps-TJgOWObECLwfO\" target=\"_blank\">\n",
              " <button class=\"btn btn-xl bg-green\">View Our Alumni</button>\n",
              " </a>,\n",
              " <a href=\"https://www.huffingtonpost.com/entry/59fb2448e4b09887ad6f3df0\" target=\"_blank\">\n",
              " <div class=\"card-body\">\n",
              " <img alt=\"\" class=\"card-img\" data-src=\"/static/img/news/huffpost.jpg\" src=\"data:image/png;base64,R0lGODlhAQABAAD/ACwAAAAAAQABAAACADs=\"/>\n",
              " <p class=\"card-text\">How Automation in Africa Will Affect the Skills Needs of Employers</p>\n",
              " </div>\n",
              " </a>,\n",
              " <a href=\"https://www.nbcnews.com/news/nbcblk/kenyan-school-producing-next-generation-engineers-n822366\">\n",
              " <div class=\"card-body\">\n",
              " <img alt=\"\" class=\"card-img\" data-src=\"/static/img/news/nbc.jpg\" src=\"data:image/png;base64,R0lGODlhAQABAAD/ACwAAAAAAQABAAACADs=\"/>\n",
              " <p class=\"card-text\">Kenyan school is producing next generation of engineers</p>\n",
              " </div>\n",
              " </a>,\n",
              " <a href=\"http://disrupt-africa.com/2017/11/student-finance-africa-launches-in-kenya-with-fsd-support/\">\n",
              " <div class=\"card-body\">\n",
              " <img alt=\"\" class=\"card-img\" data-src=\"/static/img/news/5.jpg\" src=\"data:image/png;base64,R0lGODlhAQABAAD/ACwAAAAAAQABAAACADs=\"/>\n",
              " <p class=\"card-text\">Alternative-lending startup Student Finance Africa (SFA) is providing\n",
              "                                 educational loans to\n",
              "                                 Moringa School in Nairobi.</p>\n",
              " </div>\n",
              " </a>,\n",
              " <a href=\"https://findingimpact.com/fip-043-bootstrapping-with-audrey-cheng/\">\n",
              " <div class=\"card-body\">\n",
              " <img alt=\"\" class=\"card-img\" data-src=\"/static/img/news/8.jpg\" src=\"data:image/png;base64,R0lGODlhAQABAAD/ACwAAAAAAQABAAACADs=\"/>\n",
              " <p class=\"card-text\">Bootstrap your business without sacrificing results or deviating from\n",
              "                                 you mission along the way.</p>\n",
              " </div>\n",
              " </a>,\n",
              " <a href=\"https://www.modernghana.com/news/820470/moringa-school-partners-with-mest-to-bring-technology-course.html\">\n",
              " <div class=\"card-body\">\n",
              " <img alt=\"\" class=\"card-img\" data-src=\"/static/img/news/9.jpg\" src=\"data:image/png;base64,R0lGODlhAQABAAD/ACwAAAAAAQABAAACADs=\"/>\n",
              " <p class=\"card-text\">Moringa School Partners with MEST To Bring Technology Courses To\n",
              "                                 Talent Across Africa</p>\n",
              " </div>\n",
              " </a>,\n",
              " <a href=\"https://www.howwemadeitinafrica.com/talent-shortage-prompts-entrepreneur-to-start-a-tech-school-in-kenya/\">\n",
              " <div class=\"card-body\">\n",
              " <img alt=\"\" class=\"card-img\" data-src=\"/static/img/news/1.jpg\" src=\"data:image/png;base64,R0lGODlhAQABAAD/ACwAAAAAAQABAAACADs=\"/>\n",
              " <p class=\"card-text\">Talent shortage prompts entrepreneur to start a tech school in\n",
              "                                 Kenya</p>\n",
              " </div>\n",
              " </a>,\n",
              " <a href=\"https://qz.com/india/1110205/in-pakistans-khyber-pakhtunkhwa-a-kenyan-startup-will-teach-thousands-of-young-people-to-code/\">\n",
              " <div class=\"card-body\">\n",
              " <img alt=\"\" class=\"card-img\" data-src=\"/static/img/news/10.jpg\" src=\"data:image/png;base64,R0lGODlhAQABAAD/ACwAAAAAAQABAAACADs=\"/>\n",
              " <p class=\"card-text\">In a restive corner of Pakistan, a Kenyan startup will teach\n",
              "                                 thousands of young people to code.</p>\n",
              " </div>\n",
              " </a>,\n",
              " <a href=\"https://www.huffingtonpost.com/entry/59fb2448e4b09887ad6f3df0\" target=\"_blank\">\n",
              " <div class=\"card-body\">\n",
              " <img alt=\"\" class=\"card-img\" data-src=\"/static/img/news/huffpost.jpg\" src=\"data:image/png;base64,R0lGODlhAQABAAD/ACwAAAAAAQABAAACADs=\"/>\n",
              " <p class=\"card-text\">How Automation in Africa Will Affect the Skills Needs of Employers</p>\n",
              " </div>\n",
              " </a>,\n",
              " <a href=\"https://www.nbcnews.com/news/nbcblk/kenyan-school-producing-next-generation-engineers-n822366\">\n",
              " <div class=\"card-body\">\n",
              " <img alt=\"\" class=\"card-img\" data-src=\"/static/img/news/nbc.jpg\" src=\"data:image/png;base64,R0lGODlhAQABAAD/ACwAAAAAAQABAAACADs=\"/>\n",
              " <p class=\"card-text\">Kenyan school is producing next generation of engineers</p>\n",
              " </div>\n",
              " </a>,\n",
              " <a href=\"http://disrupt-africa.com/2017/11/student-finance-africa-launches-in-kenya-with-fsd-support/\">\n",
              " <div class=\"card-body\">\n",
              " <img alt=\"\" class=\"card-img\" data-src=\"/static/img/news/5.jpg\" src=\"data:image/png;base64,R0lGODlhAQABAAD/ACwAAAAAAQABAAACADs=\"/>\n",
              " <p class=\"card-text\">Alternative-lending startup Student Finance Africa (SFA) is providing\n",
              "                                 educational loans to\n",
              "                                 Moringa School in Nairobi.</p>\n",
              " </div>\n",
              " </a>,\n",
              " <a href=\"https://findingimpact.com/fip-043-bootstrapping-with-audrey-cheng/\">\n",
              " <div class=\"card-body\">\n",
              " <img alt=\"\" class=\"card-img\" data-src=\"/static/img/news/8.jpg\" src=\"data:image/png;base64,R0lGODlhAQABAAD/ACwAAAAAAQABAAACADs=\"/>\n",
              " <p class=\"card-text\">Bootstrap your business without sacrificing results or deviating from\n",
              "                                 you mission along the way.</p>\n",
              " </div>\n",
              " </a>,\n",
              " <a href=\"https://www.modernghana.com/news/820470/moringa-school-partners-with-mest-to-bring-technology-course.html\">\n",
              " <div class=\"card-body\">\n",
              " <img alt=\"\" class=\"card-img\" data-src=\"/static/img/news/9.jpg\" src=\"data:image/png;base64,R0lGODlhAQABAAD/ACwAAAAAAQABAAACADs=\"/>\n",
              " <p class=\"card-text\">Moringa School Partners with MEST To Bring Technology Courses To\n",
              "                                 Talent Across Africa</p>\n",
              " </div>\n",
              " </a>,\n",
              " <a href=\"https://www.howwemadeitinafrica.com/talent-shortage-prompts-entrepreneur-to-start-a-tech-school-in-kenya/\">\n",
              " <div class=\"card-body\">\n",
              " <img alt=\"\" class=\"card-img\" data-src=\"/static/img/news/1.jpg\" src=\"data:image/png;base64,R0lGODlhAQABAAD/ACwAAAAAAQABAAACADs=\"/>\n",
              " <p class=\"card-text\">Talent shortage prompts entrepreneur to start a tech school in\n",
              "                                 Kenya</p>\n",
              " </div>\n",
              " </a>,\n",
              " <a href=\"https://qz.com/india/1110205/in-pakistans-khyber-pakhtunkhwa-a-kenyan-startup-will-teach-thousands-of-young-people-to-code/\">\n",
              " <div class=\"card-body\">\n",
              " <img alt=\"\" class=\"card-img\" data-src=\"/static/img/news/10.jpg\" src=\"data:image/png;base64,R0lGODlhAQABAAD/ACwAAAAAAQABAAACADs=\"/>\n",
              " <p class=\"card-text\">In a restive corner of Pakistan, a Kenyan startup will teach\n",
              "                                 thousands of young people to code.</p>\n",
              " </div>\n",
              " </a>,\n",
              " <a href=\"https://www.huffingtonpost.com/entry/59fb2448e4b09887ad6f3df0\" target=\"_blank\">\n",
              " <div class=\"card-body\">\n",
              " <img alt=\"\" class=\"card-img\" data-src=\"/static/img/news/huffpost.jpg\" src=\"data:image/png;base64,R0lGODlhAQABAAD/ACwAAAAAAQABAAACADs=\"/>\n",
              " <p class=\"card-text\">How Automation in Africa Will Affect the Skills Needs of Employers</p>\n",
              " </div>\n",
              " </a>,\n",
              " <a href=\"https://www.nbcnews.com/news/nbcblk/kenyan-school-producing-next-generation-engineers-n822366\">\n",
              " <div class=\"card-body\">\n",
              " <img alt=\"\" class=\"card-img\" data-src=\"/static/img/news/nbc.jpg\" src=\"data:image/png;base64,R0lGODlhAQABAAD/ACwAAAAAAQABAAACADs=\"/>\n",
              " <p class=\"card-text\">Kenyan school is producing next generation of engineers</p>\n",
              " </div>\n",
              " </a>,\n",
              " <a href=\"http://disrupt-africa.com/2017/11/student-finance-africa-launches-in-kenya-with-fsd-support/\">\n",
              " <div class=\"card-body\">\n",
              " <img alt=\"\" class=\"card-img\" data-src=\"/static/img/news/5.jpg\" src=\"data:image/png;base64,R0lGODlhAQABAAD/ACwAAAAAAQABAAACADs=\"/>\n",
              " <p class=\"card-text\">Alternative-lending startup Student Finance Africa (SFA) is providing\n",
              "                                 educational loans to\n",
              "                                 Moringa School in Nairobi.</p>\n",
              " </div>\n",
              " </a>,\n",
              " <a href=\"https://findingimpact.com/fip-043-bootstrapping-with-audrey-cheng/\">\n",
              " <div class=\"card-body\">\n",
              " <img alt=\"\" class=\"card-img\" data-src=\"/static/img/news/8.jpg\" src=\"data:image/png;base64,R0lGODlhAQABAAD/ACwAAAAAAQABAAACADs=\"/>\n",
              " <p class=\"card-text\">Bootstrap your business without sacrificing results or deviating from\n",
              "                                 you mission along the way.</p>\n",
              " </div>\n",
              " </a>,\n",
              " <a href=\"https://www.modernghana.com/news/820470/moringa-school-partners-with-mest-to-bring-technology-course.html\">\n",
              " <div class=\"card-body\">\n",
              " <img alt=\"\" class=\"card-img\" data-src=\"/static/img/news/9.jpg\" src=\"data:image/png;base64,R0lGODlhAQABAAD/ACwAAAAAAQABAAACADs=\"/>\n",
              " <p class=\"card-text\">Moringa School Partners with MEST To Bring Technology Courses To\n",
              "                                 Talent Across Africa</p>\n",
              " </div>\n",
              " </a>,\n",
              " <a href=\"https://www.howwemadeitinafrica.com/talent-shortage-prompts-entrepreneur-to-start-a-tech-school-in-kenya/\">\n",
              " <div class=\"card-body\">\n",
              " <img alt=\"\" class=\"card-img\" data-src=\"/static/img/news/1.jpg\" src=\"data:image/png;base64,R0lGODlhAQABAAD/ACwAAAAAAQABAAACADs=\"/>\n",
              " <p class=\"card-text\">Talent shortage prompts entrepreneur to start a tech school in\n",
              "                                 Kenya</p>\n",
              " </div>\n",
              " </a>,\n",
              " <a href=\"https://qz.com/india/1110205/in-pakistans-khyber-pakhtunkhwa-a-kenyan-startup-will-teach-thousands-of-young-people-to-code/\">\n",
              " <div class=\"card-body\">\n",
              " <img alt=\"\" class=\"card-img\" data-src=\"/static/img/news/10.jpg\" src=\"data:image/png;base64,R0lGODlhAQABAAD/ACwAAAAAAQABAAACADs=\"/>\n",
              " <p class=\"card-text\">In a restive corner of Pakistan, a Kenyan startup will teach\n",
              "                                 thousands of young people to code.</p>\n",
              " </div>\n",
              " </a>,\n",
              " <a href=\"/programs/\">\n",
              " <button class=\"btn btn-xl bg-green\">Enroll Now!</button>\n",
              " </a>,\n",
              " <a href=\"/programs/\">\n",
              " <button class=\"btn btn-xl bg-green\">Enroll Now!</button>\n",
              " </a>,\n",
              " <a href=\"/programs/\">\n",
              " <button class=\"btn btn-xl bg-green\">Enroll Now!</button>\n",
              " </a>,\n",
              " <a href=\"/programs/\">\n",
              " <button class=\"btn btn-xl bg-green\">Enroll Now!</button>\n",
              " </a>,\n",
              " <a href=\"/programs/\">\n",
              " <button class=\"btn btn-xl bg-green\">Enroll Now!</button>\n",
              " </a>,\n",
              " <a href=\"https://www.youtube.com/channel/UCnkYPrm1GvxDzGlT0S2zn4w/videos\" target=\"_blank\">\n",
              " <i class=\"fab fa-youtube\"></i>\n",
              "                         Watch us on YouTube\n",
              "                     </a>,\n",
              " <a href=\"https://www.linkedin.com/company/moringa-school\" target=\"_blank\">\n",
              " <i class=\"fab fa-linkedin\"></i>\n",
              "                         Engage us on LinkedIn\n",
              "                     </a>,\n",
              " <a href=\"https://twitter.com/moringaschool\" target=\"_blank\">\n",
              " <i class=\"fab fa-twitter\"></i>\n",
              "                         Follow us on Twitter\n",
              "                     </a>,\n",
              " <a href=\"https://www.facebook.com/moringaschool/\" target=\"_blank\">\n",
              " <i class=\"fab fa-facebook\"></i>\n",
              "                         Find us on Facebook\n",
              "                     </a>,\n",
              " <a href=\"https://www.youtube.com/channel/UCnkYPrm1GvxDzGlT0S2zn4w/videos\" target=\"_blank\">\n",
              " <i class=\"fab fa-youtube\"></i>\n",
              "                         Watch us on YouTube\n",
              "                     </a>,\n",
              " <a href=\"https://www.linkedin.com/company/moringa-school\" target=\"_blank\">\n",
              " <i class=\"fab fa-linkedin\"></i>\n",
              "                         Engage us on LinkedIn\n",
              "                     </a>,\n",
              " <a href=\"https://twitter.com/moringaschool\" target=\"_blank\">\n",
              " <i class=\"fab fa-twitter\"></i>\n",
              "                         Follow us on Twitter\n",
              "                     </a>,\n",
              " <a href=\"https://www.facebook.com/moringaschool/\" target=\"_blank\">\n",
              " <i class=\"fab fa-facebook\"></i>\n",
              "                         Find us on Facebook\n",
              "                     </a>,\n",
              " <a href=\"https://www.youtube.com/channel/UCnkYPrm1GvxDzGlT0S2zn4w/videos\" target=\"_blank\">\n",
              " <i class=\"fab fa-youtube\"></i>\n",
              "                         Watch us on YouTube\n",
              "                     </a>,\n",
              " <a href=\"https://www.youtube.com/channel/UCnkYPrm1GvxDzGlT0S2zn4w/videos\" target=\"_blank\">\n",
              " <i class=\"fab fa-youtube\"></i>\n",
              "                         Watch us on YouTube\n",
              "                     </a>,\n",
              " <a href=\"https://www.linkedin.com/company/moringa-school\" target=\"_blank\">\n",
              " <i class=\"fab fa-linkedin\"></i>\n",
              "                         Engage us on LinkedIn\n",
              "                     </a>,\n",
              " <a href=\"https://www.linkedin.com/company/moringa-school\" target=\"_blank\">\n",
              " <i class=\"fab fa-linkedin\"></i>\n",
              "                         Engage us on LinkedIn\n",
              "                     </a>,\n",
              " <a href=\"https://twitter.com/moringaschool\" target=\"_blank\">\n",
              " <i class=\"fab fa-twitter\"></i>\n",
              "                         Follow us on Twitter\n",
              "                     </a>,\n",
              " <a href=\"https://twitter.com/moringaschool\" target=\"_blank\">\n",
              " <i class=\"fab fa-twitter\"></i>\n",
              "                         Follow us on Twitter\n",
              "                     </a>,\n",
              " <a href=\"https://www.facebook.com/moringaschool/\" target=\"_blank\">\n",
              " <i class=\"fab fa-facebook\"></i>\n",
              "                         Find us on Facebook\n",
              "                     </a>,\n",
              " <a href=\"https://www.facebook.com/moringaschool/\" target=\"_blank\">\n",
              " <i class=\"fab fa-facebook\"></i>\n",
              "                         Find us on Facebook\n",
              "                     </a>,\n",
              " <a href=\"tel:+254711581484\"><b>General Enquiries:</b> +254 711 581 484</a>,\n",
              " <a href=\"https://wa.me/254712293878\"><b>WhatsApp Enquiries:</b> <i class=\"fab fa-whatsapp\"></i> +254 711 581 484</a>,\n",
              " <a href=\"/programs/\">Programs</a>,\n",
              " <a href=\"/programs/software-development/\">Software Development</a>,\n",
              " <a href=\"/programs/data-science-course/\">Data Science</a>,\n",
              " <a href=\"/learning-model/\">Learning Model</a>,\n",
              " <a href=\"/about-us/\">About Us</a>,\n",
              " <a href=\"/outcomes/\">Outcomes</a>,\n",
              " <a href=\"/events/\">Events</a>,\n",
              " <a href=\"tel:+254711581484\"><b>General Enquiries:</b> +254 711 581 484</a>,\n",
              " <a href=\"https://wa.me/254712293878\"><b>WhatsApp Enquiries:</b> <i class=\"fab fa-whatsapp\"></i> +254 711 581 484</a>,\n",
              " <a href=\"/programs/\">Programs</a>,\n",
              " <a href=\"/programs/software-development/\">Software Development</a>,\n",
              " <a href=\"/programs/data-science-course/\">Data Science</a>,\n",
              " <a href=\"/learning-model/\">Learning Model</a>,\n",
              " <a href=\"/about-us/\">About Us</a>,\n",
              " <a href=\"/outcomes/\">Outcomes</a>,\n",
              " <a href=\"/events/\">Events</a>,\n",
              " <a href=\"tel:+254711581484\"><b>General Enquiries:</b> +254 711 581 484</a>,\n",
              " <a href=\"https://wa.me/254712293878\"><b>WhatsApp Enquiries:</b> <i class=\"fab fa-whatsapp\"></i> +254 711 581 484</a>,\n",
              " <a href=\"/programs/\">Programs</a>,\n",
              " <a href=\"/programs/software-development/\">Software Development</a>,\n",
              " <a href=\"/programs/data-science-course/\">Data Science</a>,\n",
              " <a href=\"/learning-model/\">Learning Model</a>,\n",
              " <a href=\"/about-us/\">About Us</a>,\n",
              " <a href=\"/outcomes/\">Outcomes</a>,\n",
              " <a href=\"/events/\">Events</a>,\n",
              " <a href=\"tel:+254711581484\"><b>General Enquiries:</b> +254 711 581 484</a>,\n",
              " <a href=\"https://wa.me/254712293878\"><b>WhatsApp Enquiries:</b> <i class=\"fab fa-whatsapp\"></i> +254 711 581 484</a>,\n",
              " <a href=\"/programs/\">Programs</a>,\n",
              " <a href=\"/programs/software-development/\">Software Development</a>,\n",
              " <a href=\"/programs/data-science-course/\">Data Science</a>,\n",
              " <a href=\"/learning-model/\">Learning Model</a>,\n",
              " <a href=\"/about-us/\">About Us</a>,\n",
              " <a href=\"/outcomes/\">Outcomes</a>,\n",
              " <a href=\"/events/\">Events</a>]"
            ]
          },
          "metadata": {
            "tags": []
          },
          "execution_count": 99
        }
      ]
    },
    {
      "cell_type": "code",
      "metadata": {
        "id": "s_U3MLvLoF1C",
        "colab_type": "code",
        "colab": {},
        "outputId": "b1e38e1e-d324-4646-9c67-96a5b489423b"
      },
      "source": [
        "len(div_links)"
      ],
      "execution_count": 0,
      "outputs": [
        {
          "output_type": "execute_result",
          "data": {
            "text/plain": [
              "113"
            ]
          },
          "metadata": {
            "tags": []
          },
          "execution_count": 100
        }
      ]
    },
    {
      "cell_type": "code",
      "metadata": {
        "id": "l_eRlpXloF1F",
        "colab_type": "code",
        "colab": {},
        "outputId": "dbb8a8e8-3d5a-4f56-d7c2-85ee0a475363"
      },
      "source": [
        "notes_url=[urljoin(base_site,l.get('href')) for l in div_links]\n",
        "notes_url"
      ],
      "execution_count": 0,
      "outputs": [
        {
          "output_type": "execute_result",
          "data": {
            "text/plain": [
              "['https://moringaschool.com',\n",
              " 'https://moringaschool.com/programs/',\n",
              " 'https://moringaschool.com/programs/software-development/',\n",
              " 'https://moringaschool.com/programs/data-science-course/',\n",
              " 'https://moringaschool.com/learning-model/',\n",
              " 'https://moringaschool.com/about-us/',\n",
              " 'https://moringaschool.com/outcomes/',\n",
              " 'https://moringaschool.com/events/',\n",
              " 'https://moringaschool.com/careers',\n",
              " 'https://moringaschool.com/programs/',\n",
              " 'https://moringaschool.com/events',\n",
              " 'https://moringaschool.com/events',\n",
              " 'https://moringaschool.com/events',\n",
              " 'https://moringaschool.com/events',\n",
              " 'https://youtu.be/tTvwX-NRGrw',\n",
              " 'https://youtu.be/KalL9nm8IlA',\n",
              " 'https://youtu.be/QMaoM54tu20',\n",
              " 'https://youtu.be/tTvwX-NRGrw',\n",
              " 'https://youtu.be/KalL9nm8IlA',\n",
              " 'https://youtu.be/QMaoM54tu20',\n",
              " 'https://youtu.be/tTvwX-NRGrw',\n",
              " 'https://youtu.be/tTvwX-NRGrw',\n",
              " 'https://youtu.be/tTvwX-NRGrw',\n",
              " 'https://youtu.be/tTvwX-NRGrw',\n",
              " 'https://youtu.be/KalL9nm8IlA',\n",
              " 'https://youtu.be/KalL9nm8IlA',\n",
              " 'https://youtu.be/KalL9nm8IlA',\n",
              " 'https://youtu.be/KalL9nm8IlA',\n",
              " 'https://youtu.be/QMaoM54tu20',\n",
              " 'https://youtu.be/QMaoM54tu20',\n",
              " 'https://youtu.be/QMaoM54tu20',\n",
              " 'https://youtu.be/QMaoM54tu20',\n",
              " 'https://www.youtube.com/playlist?list=PLSEr6vQWk10F-n5x6ps-TJgOWObECLwfO',\n",
              " 'https://www.youtube.com/playlist?list=PLSEr6vQWk10F-n5x6ps-TJgOWObECLwfO',\n",
              " 'https://www.youtube.com/playlist?list=PLSEr6vQWk10F-n5x6ps-TJgOWObECLwfO',\n",
              " 'https://www.huffingtonpost.com/entry/59fb2448e4b09887ad6f3df0',\n",
              " 'https://www.nbcnews.com/news/nbcblk/kenyan-school-producing-next-generation-engineers-n822366',\n",
              " 'http://disrupt-africa.com/2017/11/student-finance-africa-launches-in-kenya-with-fsd-support/',\n",
              " 'https://findingimpact.com/fip-043-bootstrapping-with-audrey-cheng/',\n",
              " 'https://www.modernghana.com/news/820470/moringa-school-partners-with-mest-to-bring-technology-course.html',\n",
              " 'https://www.howwemadeitinafrica.com/talent-shortage-prompts-entrepreneur-to-start-a-tech-school-in-kenya/',\n",
              " 'https://qz.com/india/1110205/in-pakistans-khyber-pakhtunkhwa-a-kenyan-startup-will-teach-thousands-of-young-people-to-code/',\n",
              " 'https://www.huffingtonpost.com/entry/59fb2448e4b09887ad6f3df0',\n",
              " 'https://www.nbcnews.com/news/nbcblk/kenyan-school-producing-next-generation-engineers-n822366',\n",
              " 'http://disrupt-africa.com/2017/11/student-finance-africa-launches-in-kenya-with-fsd-support/',\n",
              " 'https://findingimpact.com/fip-043-bootstrapping-with-audrey-cheng/',\n",
              " 'https://www.modernghana.com/news/820470/moringa-school-partners-with-mest-to-bring-technology-course.html',\n",
              " 'https://www.howwemadeitinafrica.com/talent-shortage-prompts-entrepreneur-to-start-a-tech-school-in-kenya/',\n",
              " 'https://qz.com/india/1110205/in-pakistans-khyber-pakhtunkhwa-a-kenyan-startup-will-teach-thousands-of-young-people-to-code/',\n",
              " 'https://www.huffingtonpost.com/entry/59fb2448e4b09887ad6f3df0',\n",
              " 'https://www.nbcnews.com/news/nbcblk/kenyan-school-producing-next-generation-engineers-n822366',\n",
              " 'http://disrupt-africa.com/2017/11/student-finance-africa-launches-in-kenya-with-fsd-support/',\n",
              " 'https://findingimpact.com/fip-043-bootstrapping-with-audrey-cheng/',\n",
              " 'https://www.modernghana.com/news/820470/moringa-school-partners-with-mest-to-bring-technology-course.html',\n",
              " 'https://www.howwemadeitinafrica.com/talent-shortage-prompts-entrepreneur-to-start-a-tech-school-in-kenya/',\n",
              " 'https://qz.com/india/1110205/in-pakistans-khyber-pakhtunkhwa-a-kenyan-startup-will-teach-thousands-of-young-people-to-code/',\n",
              " 'https://moringaschool.com/programs/',\n",
              " 'https://moringaschool.com/programs/',\n",
              " 'https://moringaschool.com/programs/',\n",
              " 'https://moringaschool.com/programs/',\n",
              " 'https://moringaschool.com/programs/',\n",
              " 'https://www.youtube.com/channel/UCnkYPrm1GvxDzGlT0S2zn4w/videos',\n",
              " 'https://www.linkedin.com/company/moringa-school',\n",
              " 'https://twitter.com/moringaschool',\n",
              " 'https://www.facebook.com/moringaschool/',\n",
              " 'https://www.youtube.com/channel/UCnkYPrm1GvxDzGlT0S2zn4w/videos',\n",
              " 'https://www.linkedin.com/company/moringa-school',\n",
              " 'https://twitter.com/moringaschool',\n",
              " 'https://www.facebook.com/moringaschool/',\n",
              " 'https://www.youtube.com/channel/UCnkYPrm1GvxDzGlT0S2zn4w/videos',\n",
              " 'https://www.youtube.com/channel/UCnkYPrm1GvxDzGlT0S2zn4w/videos',\n",
              " 'https://www.linkedin.com/company/moringa-school',\n",
              " 'https://www.linkedin.com/company/moringa-school',\n",
              " 'https://twitter.com/moringaschool',\n",
              " 'https://twitter.com/moringaschool',\n",
              " 'https://www.facebook.com/moringaschool/',\n",
              " 'https://www.facebook.com/moringaschool/',\n",
              " 'tel:+254711581484',\n",
              " 'https://wa.me/254712293878',\n",
              " 'https://moringaschool.com/programs/',\n",
              " 'https://moringaschool.com/programs/software-development/',\n",
              " 'https://moringaschool.com/programs/data-science-course/',\n",
              " 'https://moringaschool.com/learning-model/',\n",
              " 'https://moringaschool.com/about-us/',\n",
              " 'https://moringaschool.com/outcomes/',\n",
              " 'https://moringaschool.com/events/',\n",
              " 'tel:+254711581484',\n",
              " 'https://wa.me/254712293878',\n",
              " 'https://moringaschool.com/programs/',\n",
              " 'https://moringaschool.com/programs/software-development/',\n",
              " 'https://moringaschool.com/programs/data-science-course/',\n",
              " 'https://moringaschool.com/learning-model/',\n",
              " 'https://moringaschool.com/about-us/',\n",
              " 'https://moringaschool.com/outcomes/',\n",
              " 'https://moringaschool.com/events/',\n",
              " 'tel:+254711581484',\n",
              " 'https://wa.me/254712293878',\n",
              " 'https://moringaschool.com/programs/',\n",
              " 'https://moringaschool.com/programs/software-development/',\n",
              " 'https://moringaschool.com/programs/data-science-course/',\n",
              " 'https://moringaschool.com/learning-model/',\n",
              " 'https://moringaschool.com/about-us/',\n",
              " 'https://moringaschool.com/outcomes/',\n",
              " 'https://moringaschool.com/events/',\n",
              " 'tel:+254711581484',\n",
              " 'https://wa.me/254712293878',\n",
              " 'https://moringaschool.com/programs/',\n",
              " 'https://moringaschool.com/programs/software-development/',\n",
              " 'https://moringaschool.com/programs/data-science-course/',\n",
              " 'https://moringaschool.com/learning-model/',\n",
              " 'https://moringaschool.com/about-us/',\n",
              " 'https://moringaschool.com/outcomes/',\n",
              " 'https://moringaschool.com/events/']"
            ]
          },
          "metadata": {
            "tags": []
          },
          "execution_count": 101
        }
      ]
    },
    {
      "cell_type": "markdown",
      "metadata": {
        "id": "AfYOh8o9oF1J",
        "colab_type": "text"
      },
      "source": [
        "Extracting multiple pages automatically"
      ]
    },
    {
      "cell_type": "code",
      "metadata": {
        "id": "1DTtQ0QGoF1J",
        "colab_type": "code",
        "colab": {},
        "outputId": "36bcba15-1a14-4889-baef-59edfc6c9d31"
      },
      "source": [
        "notes_url"
      ],
      "execution_count": 0,
      "outputs": [
        {
          "output_type": "execute_result",
          "data": {
            "text/plain": [
              "['https://moringaschool.com',\n",
              " 'https://moringaschool.com/programs/',\n",
              " 'https://moringaschool.com/programs/software-development/',\n",
              " 'https://moringaschool.com/programs/data-science-course/',\n",
              " 'https://moringaschool.com/learning-model/',\n",
              " 'https://moringaschool.com/about-us/',\n",
              " 'https://moringaschool.com/outcomes/',\n",
              " 'https://moringaschool.com/events/',\n",
              " 'https://moringaschool.com/careers',\n",
              " 'https://moringaschool.com/programs/',\n",
              " 'https://moringaschool.com/events',\n",
              " 'https://moringaschool.com/events',\n",
              " 'https://moringaschool.com/events',\n",
              " 'https://moringaschool.com/events',\n",
              " 'https://youtu.be/tTvwX-NRGrw',\n",
              " 'https://youtu.be/KalL9nm8IlA',\n",
              " 'https://youtu.be/QMaoM54tu20',\n",
              " 'https://youtu.be/tTvwX-NRGrw',\n",
              " 'https://youtu.be/KalL9nm8IlA',\n",
              " 'https://youtu.be/QMaoM54tu20',\n",
              " 'https://youtu.be/tTvwX-NRGrw',\n",
              " 'https://youtu.be/tTvwX-NRGrw',\n",
              " 'https://youtu.be/tTvwX-NRGrw',\n",
              " 'https://youtu.be/tTvwX-NRGrw',\n",
              " 'https://youtu.be/KalL9nm8IlA',\n",
              " 'https://youtu.be/KalL9nm8IlA',\n",
              " 'https://youtu.be/KalL9nm8IlA',\n",
              " 'https://youtu.be/KalL9nm8IlA',\n",
              " 'https://youtu.be/QMaoM54tu20',\n",
              " 'https://youtu.be/QMaoM54tu20',\n",
              " 'https://youtu.be/QMaoM54tu20',\n",
              " 'https://youtu.be/QMaoM54tu20',\n",
              " 'https://www.youtube.com/playlist?list=PLSEr6vQWk10F-n5x6ps-TJgOWObECLwfO',\n",
              " 'https://www.youtube.com/playlist?list=PLSEr6vQWk10F-n5x6ps-TJgOWObECLwfO',\n",
              " 'https://www.youtube.com/playlist?list=PLSEr6vQWk10F-n5x6ps-TJgOWObECLwfO',\n",
              " 'https://www.huffingtonpost.com/entry/59fb2448e4b09887ad6f3df0',\n",
              " 'https://www.nbcnews.com/news/nbcblk/kenyan-school-producing-next-generation-engineers-n822366',\n",
              " 'http://disrupt-africa.com/2017/11/student-finance-africa-launches-in-kenya-with-fsd-support/',\n",
              " 'https://findingimpact.com/fip-043-bootstrapping-with-audrey-cheng/',\n",
              " 'https://www.modernghana.com/news/820470/moringa-school-partners-with-mest-to-bring-technology-course.html',\n",
              " 'https://www.howwemadeitinafrica.com/talent-shortage-prompts-entrepreneur-to-start-a-tech-school-in-kenya/',\n",
              " 'https://qz.com/india/1110205/in-pakistans-khyber-pakhtunkhwa-a-kenyan-startup-will-teach-thousands-of-young-people-to-code/',\n",
              " 'https://www.huffingtonpost.com/entry/59fb2448e4b09887ad6f3df0',\n",
              " 'https://www.nbcnews.com/news/nbcblk/kenyan-school-producing-next-generation-engineers-n822366',\n",
              " 'http://disrupt-africa.com/2017/11/student-finance-africa-launches-in-kenya-with-fsd-support/',\n",
              " 'https://findingimpact.com/fip-043-bootstrapping-with-audrey-cheng/',\n",
              " 'https://www.modernghana.com/news/820470/moringa-school-partners-with-mest-to-bring-technology-course.html',\n",
              " 'https://www.howwemadeitinafrica.com/talent-shortage-prompts-entrepreneur-to-start-a-tech-school-in-kenya/',\n",
              " 'https://qz.com/india/1110205/in-pakistans-khyber-pakhtunkhwa-a-kenyan-startup-will-teach-thousands-of-young-people-to-code/',\n",
              " 'https://www.huffingtonpost.com/entry/59fb2448e4b09887ad6f3df0',\n",
              " 'https://www.nbcnews.com/news/nbcblk/kenyan-school-producing-next-generation-engineers-n822366',\n",
              " 'http://disrupt-africa.com/2017/11/student-finance-africa-launches-in-kenya-with-fsd-support/',\n",
              " 'https://findingimpact.com/fip-043-bootstrapping-with-audrey-cheng/',\n",
              " 'https://www.modernghana.com/news/820470/moringa-school-partners-with-mest-to-bring-technology-course.html',\n",
              " 'https://www.howwemadeitinafrica.com/talent-shortage-prompts-entrepreneur-to-start-a-tech-school-in-kenya/',\n",
              " 'https://qz.com/india/1110205/in-pakistans-khyber-pakhtunkhwa-a-kenyan-startup-will-teach-thousands-of-young-people-to-code/',\n",
              " 'https://moringaschool.com/programs/',\n",
              " 'https://moringaschool.com/programs/',\n",
              " 'https://moringaschool.com/programs/',\n",
              " 'https://moringaschool.com/programs/',\n",
              " 'https://moringaschool.com/programs/',\n",
              " 'https://www.youtube.com/channel/UCnkYPrm1GvxDzGlT0S2zn4w/videos',\n",
              " 'https://www.linkedin.com/company/moringa-school',\n",
              " 'https://twitter.com/moringaschool',\n",
              " 'https://www.facebook.com/moringaschool/',\n",
              " 'https://www.youtube.com/channel/UCnkYPrm1GvxDzGlT0S2zn4w/videos',\n",
              " 'https://www.linkedin.com/company/moringa-school',\n",
              " 'https://twitter.com/moringaschool',\n",
              " 'https://www.facebook.com/moringaschool/',\n",
              " 'https://www.youtube.com/channel/UCnkYPrm1GvxDzGlT0S2zn4w/videos',\n",
              " 'https://www.youtube.com/channel/UCnkYPrm1GvxDzGlT0S2zn4w/videos',\n",
              " 'https://www.linkedin.com/company/moringa-school',\n",
              " 'https://www.linkedin.com/company/moringa-school',\n",
              " 'https://twitter.com/moringaschool',\n",
              " 'https://twitter.com/moringaschool',\n",
              " 'https://www.facebook.com/moringaschool/',\n",
              " 'https://www.facebook.com/moringaschool/',\n",
              " 'tel:+254711581484',\n",
              " 'https://wa.me/254712293878',\n",
              " 'https://moringaschool.com/programs/',\n",
              " 'https://moringaschool.com/programs/software-development/',\n",
              " 'https://moringaschool.com/programs/data-science-course/',\n",
              " 'https://moringaschool.com/learning-model/',\n",
              " 'https://moringaschool.com/about-us/',\n",
              " 'https://moringaschool.com/outcomes/',\n",
              " 'https://moringaschool.com/events/',\n",
              " 'tel:+254711581484',\n",
              " 'https://wa.me/254712293878',\n",
              " 'https://moringaschool.com/programs/',\n",
              " 'https://moringaschool.com/programs/software-development/',\n",
              " 'https://moringaschool.com/programs/data-science-course/',\n",
              " 'https://moringaschool.com/learning-model/',\n",
              " 'https://moringaschool.com/about-us/',\n",
              " 'https://moringaschool.com/outcomes/',\n",
              " 'https://moringaschool.com/events/',\n",
              " 'tel:+254711581484',\n",
              " 'https://wa.me/254712293878',\n",
              " 'https://moringaschool.com/programs/',\n",
              " 'https://moringaschool.com/programs/software-development/',\n",
              " 'https://moringaschool.com/programs/data-science-course/',\n",
              " 'https://moringaschool.com/learning-model/',\n",
              " 'https://moringaschool.com/about-us/',\n",
              " 'https://moringaschool.com/outcomes/',\n",
              " 'https://moringaschool.com/events/',\n",
              " 'tel:+254711581484',\n",
              " 'https://wa.me/254712293878',\n",
              " 'https://moringaschool.com/programs/',\n",
              " 'https://moringaschool.com/programs/software-development/',\n",
              " 'https://moringaschool.com/programs/data-science-course/',\n",
              " 'https://moringaschool.com/learning-model/',\n",
              " 'https://moringaschool.com/about-us/',\n",
              " 'https://moringaschool.com/outcomes/',\n",
              " 'https://moringaschool.com/events/']"
            ]
          },
          "metadata": {
            "tags": []
          },
          "execution_count": 102
        }
      ]
    },
    {
      "cell_type": "code",
      "metadata": {
        "id": "JQeg2JzUoF1L",
        "colab_type": "code",
        "colab": {},
        "outputId": "1161c5b4-b3d4-4399-aafc-dd36b4b15a0c"
      },
      "source": [
        "par_text=[]\n",
        "i=0\n",
        "for url in notes_url:\n",
        "    note_resp=requests.get(url)\n",
        "    if note_resp.status_code==200:\n",
        "        print('URL#{0}:{1}'.format(i+1,url))\n",
        "    else:\n",
        "        print('status_code{0}: Skipping URL#{1}: {2}',format(note_rep.status_code))\n",
        "        i=i+1\n",
        "        continue\n",
        "    \n",
        "    note_html=note_resp.content\n",
        "    note_soup=BeautifulSoup(note_html,'lxml')\n",
        "    note_pars=note_soup.find_all(\"p\")\n",
        "    text=[p.text for p in note_pars]\n",
        "    par_text.append(text)\n",
        "    i=i+1"
      ],
      "execution_count": 0,
      "outputs": [
        {
          "output_type": "stream",
          "text": [
            "URL#1:https://moringaschool.com\n",
            "URL#2:https://moringaschool.com/programs/\n",
            "URL#3:https://moringaschool.com/programs/software-development/\n",
            "URL#4:https://moringaschool.com/programs/data-science-course/\n",
            "URL#5:https://moringaschool.com/learning-model/\n",
            "URL#6:https://moringaschool.com/about-us/\n",
            "URL#7:https://moringaschool.com/outcomes/\n",
            "URL#8:https://moringaschool.com/events/\n",
            "URL#9:https://moringaschool.com/careers\n",
            "URL#10:https://moringaschool.com/programs/\n",
            "URL#11:https://moringaschool.com/events\n",
            "URL#12:https://moringaschool.com/events\n",
            "URL#13:https://moringaschool.com/events\n",
            "URL#14:https://moringaschool.com/events\n",
            "URL#15:https://youtu.be/tTvwX-NRGrw\n",
            "URL#16:https://youtu.be/KalL9nm8IlA\n",
            "URL#17:https://youtu.be/QMaoM54tu20\n",
            "URL#18:https://youtu.be/tTvwX-NRGrw\n",
            "URL#19:https://youtu.be/KalL9nm8IlA\n",
            "URL#20:https://youtu.be/QMaoM54tu20\n",
            "URL#21:https://youtu.be/tTvwX-NRGrw\n",
            "URL#22:https://youtu.be/tTvwX-NRGrw\n",
            "URL#23:https://youtu.be/tTvwX-NRGrw\n",
            "URL#24:https://youtu.be/tTvwX-NRGrw\n",
            "URL#25:https://youtu.be/KalL9nm8IlA\n",
            "URL#26:https://youtu.be/KalL9nm8IlA\n",
            "URL#27:https://youtu.be/KalL9nm8IlA\n",
            "URL#28:https://youtu.be/KalL9nm8IlA\n",
            "URL#29:https://youtu.be/QMaoM54tu20\n",
            "URL#30:https://youtu.be/QMaoM54tu20\n",
            "URL#31:https://youtu.be/QMaoM54tu20\n",
            "URL#32:https://youtu.be/QMaoM54tu20\n",
            "URL#33:https://www.youtube.com/playlist?list=PLSEr6vQWk10F-n5x6ps-TJgOWObECLwfO\n",
            "URL#34:https://www.youtube.com/playlist?list=PLSEr6vQWk10F-n5x6ps-TJgOWObECLwfO\n",
            "URL#35:https://www.youtube.com/playlist?list=PLSEr6vQWk10F-n5x6ps-TJgOWObECLwfO\n"
          ],
          "name": "stdout"
        },
        {
          "output_type": "error",
          "ename": "NameError",
          "evalue": "name 'note_rep' is not defined",
          "traceback": [
            "\u001b[1;31m---------------------------------------------------------------------------\u001b[0m",
            "\u001b[1;31mNameError\u001b[0m                                 Traceback (most recent call last)",
            "\u001b[1;32m<ipython-input-104-0fd05097c7f2>\u001b[0m in \u001b[0;36m<module>\u001b[1;34m\u001b[0m\n\u001b[0;32m      6\u001b[0m         \u001b[0mprint\u001b[0m\u001b[1;33m(\u001b[0m\u001b[1;34m'URL#{0}:{1}'\u001b[0m\u001b[1;33m.\u001b[0m\u001b[0mformat\u001b[0m\u001b[1;33m(\u001b[0m\u001b[0mi\u001b[0m\u001b[1;33m+\u001b[0m\u001b[1;36m1\u001b[0m\u001b[1;33m,\u001b[0m\u001b[0murl\u001b[0m\u001b[1;33m)\u001b[0m\u001b[1;33m)\u001b[0m\u001b[1;33m\u001b[0m\u001b[1;33m\u001b[0m\u001b[0m\n\u001b[0;32m      7\u001b[0m     \u001b[1;32melse\u001b[0m\u001b[1;33m:\u001b[0m\u001b[1;33m\u001b[0m\u001b[1;33m\u001b[0m\u001b[0m\n\u001b[1;32m----> 8\u001b[1;33m         \u001b[0mprint\u001b[0m\u001b[1;33m(\u001b[0m\u001b[1;34m'status_code{0}: Skipping URL#{1}: {2}'\u001b[0m\u001b[1;33m,\u001b[0m\u001b[0mformat\u001b[0m\u001b[1;33m(\u001b[0m\u001b[0mnote_rep\u001b[0m\u001b[1;33m.\u001b[0m\u001b[0mstatus_code\u001b[0m\u001b[1;33m)\u001b[0m\u001b[1;33m)\u001b[0m\u001b[1;33m\u001b[0m\u001b[1;33m\u001b[0m\u001b[0m\n\u001b[0m\u001b[0;32m      9\u001b[0m         \u001b[0mi\u001b[0m\u001b[1;33m=\u001b[0m\u001b[0mi\u001b[0m\u001b[1;33m+\u001b[0m\u001b[1;36m1\u001b[0m\u001b[1;33m\u001b[0m\u001b[1;33m\u001b[0m\u001b[0m\n\u001b[0;32m     10\u001b[0m         \u001b[1;32mcontinue\u001b[0m\u001b[1;33m\u001b[0m\u001b[1;33m\u001b[0m\u001b[0m\n",
            "\u001b[1;31mNameError\u001b[0m: name 'note_rep' is not defined"
          ]
        }
      ]
    },
    {
      "cell_type": "code",
      "metadata": {
        "id": "a-GpHD2LoF1N",
        "colab_type": "code",
        "colab": {},
        "outputId": "1983f574-dc42-4fed-cdb9-05f954db898e"
      },
      "source": [
        "par_text[0]"
      ],
      "execution_count": 0,
      "outputs": [
        {
          "output_type": "execute_result",
          "data": {
            "text/plain": [
              "['',\n",
              " 'Our courses consist of pathways that branch into either full stack development or mobile development.',\n",
              " 'Learn More ',\n",
              " 'Hear from our recent students',\n",
              " 'Software Developer & Moringa School Alumni',\n",
              " 'Full-stack Web Developer & Moringa School Alumni',\n",
              " 'Techpreneur & Moringa School Alumni',\n",
              " '\"In times of profound change, the learners inherit the earth,\\n                        while the learned find themselves beautifully equipped to deal with a world that\\n                        no longer exists.” — Eric Hoffer',\n",
              " 'How Automation in Africa Will Affect the Skills Needs of Employers',\n",
              " 'Kenyan school is producing next generation of engineers',\n",
              " 'Alternative-lending startup Student Finance Africa (SFA) is providing\\n                                educational loans to\\n                                Moringa School in Nairobi.',\n",
              " 'Bootstrap your business without sacrificing results or deviating from\\n                                you mission along the way.',\n",
              " 'Moringa School Partners with MEST To Bring Technology Courses To\\n                                Talent Across Africa',\n",
              " 'Talent shortage prompts entrepreneur to start a tech school in\\n                                Kenya',\n",
              " 'In a restive corner of Pakistan, a Kenyan startup will teach\\n                                thousands of young people to code.',\n",
              " 'We are dedicated to providing good coding practices and\\n                    \\n                    we would like you to be part of the community',\n",
              " 'General Enquiries: +254 711 581 484',\n",
              " 'WhatsApp Enquiries:  +254 711 581 484',\n",
              " 'Email: contact@moringaschool.com',\n",
              " 'Admissions Enquiries: +254 712 293 878',\n",
              " 'Data Science Enquiries: +254 741 493 565',\n",
              " 'Address: P.O.Box 28860-00100',\n",
              " 'Location: Ngong Lane Plaza, Ngong Lane. Nairobi',\n",
              " 'Programs',\n",
              " 'Software Development',\n",
              " 'Data Science',\n",
              " 'Learning Model',\n",
              " 'About Us',\n",
              " 'Outcomes',\n",
              " 'Events']"
            ]
          },
          "metadata": {
            "tags": []
          },
          "execution_count": 105
        }
      ]
    },
    {
      "cell_type": "code",
      "metadata": {
        "id": "oolYssU3oF1P",
        "colab_type": "code",
        "colab": {},
        "outputId": "5f2b4c73-d3a0-48d3-b732-d0dc1f39d7e7"
      },
      "source": [
        "page_text=\"\".join(par_text[0])\n",
        "page_text"
      ],
      "execution_count": 0,
      "outputs": [
        {
          "output_type": "execute_result",
          "data": {
            "text/plain": [
              "'Our courses consist of pathways that branch into either full stack development or mobile development.Learn More Hear from our recent studentsSoftware Developer & Moringa School AlumniFull-stack Web Developer & Moringa School AlumniTechpreneur & Moringa School Alumni\"In times of profound change, the learners inherit the earth,\\n                        while the learned find themselves beautifully equipped to deal with a world that\\n                        no longer exists.” — Eric HofferHow Automation in Africa Will Affect the Skills Needs of EmployersKenyan school is producing next generation of engineersAlternative-lending startup Student Finance Africa (SFA) is providing\\n                                educational loans to\\n                                Moringa School in Nairobi.Bootstrap your business without sacrificing results or deviating from\\n                                you mission along the way.Moringa School Partners with MEST To Bring Technology Courses To\\n                                Talent Across AfricaTalent shortage prompts entrepreneur to start a tech school in\\n                                KenyaIn a restive corner of Pakistan, a Kenyan startup will teach\\n                                thousands of young people to code.We are dedicated to providing good coding practices and\\n                    \\n                    we would like you to be part of the communityGeneral Enquiries: +254 711 581 484WhatsApp Enquiries:  +254 711 581 484Email: contact@moringaschool.comAdmissions Enquiries: +254 712 293 878Data Science Enquiries: +254 741 493 565Address: P.O.Box 28860-00100Location: Ngong Lane Plaza, Ngong Lane. NairobiProgramsSoftware DevelopmentData ScienceLearning ModelAbout UsOutcomesEvents'"
            ]
          },
          "metadata": {
            "tags": []
          },
          "execution_count": 106
        }
      ]
    },
    {
      "cell_type": "code",
      "metadata": {
        "id": "6CwaRfvCoF1S",
        "colab_type": "code",
        "colab": {},
        "outputId": "2b6981d6-3cd2-4569-da1c-757d2af0addd"
      },
      "source": [
        "page_text=[\"\".join(text) for text in par_text]\n",
        "page_text[0]\n"
      ],
      "execution_count": 0,
      "outputs": [
        {
          "output_type": "execute_result",
          "data": {
            "text/plain": [
              "'Our courses consist of pathways that branch into either full stack development or mobile development.Learn More Hear from our recent studentsSoftware Developer & Moringa School AlumniFull-stack Web Developer & Moringa School AlumniTechpreneur & Moringa School Alumni\"In times of profound change, the learners inherit the earth,\\n                        while the learned find themselves beautifully equipped to deal with a world that\\n                        no longer exists.” — Eric HofferHow Automation in Africa Will Affect the Skills Needs of EmployersKenyan school is producing next generation of engineersAlternative-lending startup Student Finance Africa (SFA) is providing\\n                                educational loans to\\n                                Moringa School in Nairobi.Bootstrap your business without sacrificing results or deviating from\\n                                you mission along the way.Moringa School Partners with MEST To Bring Technology Courses To\\n                                Talent Across AfricaTalent shortage prompts entrepreneur to start a tech school in\\n                                KenyaIn a restive corner of Pakistan, a Kenyan startup will teach\\n                                thousands of young people to code.We are dedicated to providing good coding practices and\\n                    \\n                    we would like you to be part of the communityGeneral Enquiries: +254 711 581 484WhatsApp Enquiries:  +254 711 581 484Email: contact@moringaschool.comAdmissions Enquiries: +254 712 293 878Data Science Enquiries: +254 741 493 565Address: P.O.Box 28860-00100Location: Ngong Lane Plaza, Ngong Lane. NairobiProgramsSoftware DevelopmentData ScienceLearning ModelAbout UsOutcomesEvents'"
            ]
          },
          "metadata": {
            "tags": []
          },
          "execution_count": 107
        }
      ]
    },
    {
      "cell_type": "code",
      "metadata": {
        "id": "pq1_wUwHoF1W",
        "colab_type": "code",
        "colab": {},
        "outputId": "ddcc0822-1a05-480a-a6d4-fcefb6f1ef72"
      },
      "source": [
        "page_text[4]"
      ],
      "execution_count": 0,
      "outputs": [
        {
          "output_type": "execute_result",
          "data": {
            "text/plain": [
              "\"Moringa uses a method of learning that combines traditional\\n                    classroom experiences with online learning called ‘Blended Learning.’\\n                    This innovative educational hybrid challenges the traditional face-to-face\\n                    learning that most institutions use. We implement blended learning in many unique ways, and here at Moringa, we use the\\n                    ‘Flipped Classroom’ model, where we introduce our students to the course content at home to review\\n                    at their own pace. Instead of lecture-style delivery, we use class time for practical, hands-on\\n                    experiences. Technical mentors guide students through projects and assignments, hence ‘flipping’ the\\n                    expectations of a traditional classroom where teachers would use class time todisseminate material\\n                    and lecture different topicsLearning is an individuated process and not every student approaches learning the\\n                    same\\n                    way.\\n                    A blended learning model allows students to take charge of their own learning by mastering\\n                    content in their own unique way.Blended learning transforms traditional, lecture-style classrooms into a more\\n                    interactive environment for students. By mixing online learning with face-to-face interaction,\\n                    students get a more comprehensive education that combines auditory, visual and kinesthetic learning\\n                    methods.During the program, you will create a case study on your own company's data\\n                    challenges\\n                    and receive\\n                    real-time feedback from faculty and peers.We are dedicated to providing good coding practices and\\n                    \\n                    we would like you to be part of the communityGeneral Enquiries: +254 711 581 484WhatsApp Enquiries:  +254 711 581 484Email: contact@moringaschool.comAdmissions Enquiries: +254 712 293 878Data Science Enquiries: +254 741 493 565Address: P.O.Box 28860-00100Location: Ngong Lane Plaza, Ngong Lane. NairobiProgramsSoftware DevelopmentData ScienceLearning ModelAbout UsOutcomesEvents\""
            ]
          },
          "metadata": {
            "tags": []
          },
          "execution_count": 111
        }
      ]
    },
    {
      "cell_type": "code",
      "metadata": {
        "id": "CzyfxGjBoF1Y",
        "colab_type": "code",
        "colab": {}
      },
      "source": [
        "url_to_text=dict(zip(notes_url, page_text))"
      ],
      "execution_count": 0,
      "outputs": []
    },
    {
      "cell_type": "code",
      "metadata": {
        "id": "wV211iU-oF1a",
        "colab_type": "code",
        "colab": {},
        "outputId": "90e4ec09-fdcf-4331-d0c4-e3b633997240"
      },
      "source": [
        "print(url_to_text['https://moringaschool.com/programs/data-science-course/'])"
      ],
      "execution_count": 0,
      "outputs": [
        {
          "output_type": "stream",
          "text": [
            "Data Science continues to evolve as one of the most promising, in-demand career paths for skilled professionals in Kenya.  Our curriculum has been curated by domain experts through research and use of real-world case studies and data-sets relevant to the Kenyan contextStart Date: April 27th 2020End Date: May 29th 2020Data science is a multidisciplinary field using software and algorithms to uncover insightful findings from data to enable companies to make smarter business decisions. It employs concepts, techniques and theories drawn from the fields of mathematics, statistics, information science and computer science.In recent years, digital information has become so essential that organisations use different kinds of data every day. Unfortunately, not many professionals have the capability to process and provide insights from this data. This is evident in the Kenyan and African context where many organisations lack data teams skilled enough to provide meaningful insights and analysis to drive growth and innovation.Here at Moringa School, you can grow to become a Junior Data Scientist with the skills to act as a consultant to organisations by understanding the complex behaviors, trends and characteristics within the collected and accumulated data. Moringa School have partnered with Dalberg Data Insights who will be providing the real-world data sets for this program.\n",
            "\n",
            "\n",
            "\n",
            "\n",
            "Dalberg Data Insights is part of a global group named Dalberg in the data science field. They design solutions to international development challenges using data. Their specialization areas include:\n",
            "After graduating from Moringa, you will have a highly technical skill set in data science that is very desirable in the Kenyan job market today.In the Moringa Data Science course, you will learn the essential data science skills needed to solve complex business problems. In addition, you will learn essential non-technical skills that will help you communicate your findings to stakeholders in the workplace, who will make decisions based on your findings.Every day, as a data science student, you will take on real-world business problems and case studies and analyze data sets for new insights. Ultimately, you present your findings using statistics, critical thinking and business knowledge.The prep program is a prerequisite class before the core program. This class is five weeks long and the core program lasts 18 weeks.By working on projects individually or in teams, you will apply your new data analytical skills towards building an impressive data analysis portfolio, as well as build the self-confidence needed to succeed in today’s data-driven economy.By the end of the course, you will be able to:KSh 40,500 (for a 5-week immersive program)KSh 140,000 (for an 18-week immersive program)NOTE: The Data Science Core course is only available to graduates of Moringa prep. Learning Outcomes for Data Science Prep (5 Weeks)\n",
            "Each data science topic in the Moringa Data Science Prep curriculum culminates with a summative assessment which aims to test your knowledge and understanding of that topic. It is also a way of evaluating your  understanding and achievement of the following learning outcomes:\n",
            "Course Topics for Data Science Core (18 Weeks)\n",
            "Because of the proprietary nature of our Data Science Full-time Course. The Course Outline for Data Science Core Program is only available to those students who go through our Data Science Prep Program or to you, if you visit our Nairobi Campus for a brochure.Overall Learning Objectives for Data Science Core (18 Weeks)\n",
            "By the end of the course, you will have become a Junior Data Scientist. This means you will be  able to:Through working on projects individually or in teams, you will apply your new data science analytical and modeling skills towards building an impressive data scientist's portfolio and the confidence needed to succeed in today’s data-driven economy. \n",
            "                                                        Everlyn Asiko is a data scientist with a passion for teaching and mentoring. She mentored Google Africa scholars in the Andela Learning Community program. Previously, she worked at Magharibi Innovation Hub as a community manager where she was in charge of the projects and the individuals at the hub. Her work in accident location extraction from natural language processing aims at drawing location insights from natural text and has been present at a Pan African AI conference as a poster. With her computer science background, she enjoys writing code and developing predictive models. She is a holder of a Business Intelligence Analyst - Explorer Award for Students 2018 from IBM. She is a mentee at Kamilimu, a mentorship program for technology students, where she builds on her innovation skills and community involvement.\n",
            "                                                    \n",
            "                                                        Jedidah is a Data Scientist from The Kenya Revenue Authority where she worked as the Officer Business Intelligence & Data Warehousing Systems. Previously, she also worked for Save the Children Kenya and Save the Children International as the Business Intelligence Developer and Track and Trace Limited as the Customer Experience Analyst. She is a Strathmore University graduate with a Bachelor's degree in Business Information and Technology, IBM Explorer Award holder for Students 2016 and a certified IBM Big Data Developer/Engineer. She also holds a postgraduate certificate in The Internet of Things (IoT) and Data Science from Strathmore University.\n",
            "                                                    Stand-ups build the confidence & presentation skills which are the key skills to have as a data scientist.Kevin Chesa - Data Science Student (Cohort 1)You can do it, as long as you have the interest, you can do itElizabeth Akinyi - Data Science Student (Cohort 1)Going through prep really makes you want to learn more.Ted Muthomi - Data Science Student (Cohort 1)I used to think data science and data analysis were the same. I did not know that I wanted data science until I joined the program.Daisy Chebet - Data Science Student (Cohort 1)The program exceeded my expectations in terms of what I wanted to gain in a day. \r\n",
            "\r\n",
            "For example, I have been able to understand R and some bit of supervised machine learning. Teacher Kamande was very helpful in terms of sharing his knowledge. I would recommend other guys to pursue this course.Johnbosco MuleiService Management Analyst at Safaricom PLCI developed an interest in Data Science and I started looking at options on where I could do it. Moringa School came to mind because I had heard of so much good reviews about their programs.\r\n",
            "\r\n",
            "My initial expectation was that I would be here to learn more on exploratory data analysis and understand more about machine learning using R.\r\n",
            "\r\n",
            "They were all met. I am looking forward to joining the full-time program.Carol WambuiStatistician from Kenyatta UniversityWe are dedicated to providing good coding practices and\n",
            "                    \n",
            "                    we would like you to be part of the communityGeneral Enquiries: +254 711 581 484WhatsApp Enquiries:  +254 711 581 484Email: contact@moringaschool.comAdmissions Enquiries: +254 712 293 878Data Science Enquiries: +254 741 493 565Address: P.O.Box 28860-00100Location: Ngong Lane Plaza, Ngong Lane. NairobiProgramsSoftware DevelopmentData ScienceLearning ModelAbout UsOutcomesEvents\n"
          ],
          "name": "stdout"
        }
      ]
    },
    {
      "cell_type": "code",
      "metadata": {
        "id": "IeDFqhaGoF1c",
        "colab_type": "code",
        "colab": {}
      },
      "source": [
        ""
      ],
      "execution_count": 0,
      "outputs": []
    }
  ]
}